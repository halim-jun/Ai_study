{
  "nbformat": 4,
  "nbformat_minor": 0,
  "metadata": {
    "colab": {
      "name": "20200730_project2[Wine].ipynb",
      "provenance": [],
      "collapsed_sections": [],
      "authorship_tag": "ABX9TyNOSX3UL0kcAv3AMDe3vqy3",
      "include_colab_link": true
    },
    "kernelspec": {
      "name": "python3",
      "display_name": "Python 3"
    }
  },
  "cells": [
    {
      "cell_type": "markdown",
      "metadata": {
        "id": "view-in-github",
        "colab_type": "text"
      },
      "source": [
        "<a href=\"https://colab.research.google.com/github/halim-jun/Ai_study/blob/master/20200730_project2%5BWine%5D.ipynb\" target=\"_parent\"><img src=\"https://colab.research.google.com/assets/colab-badge.svg\" alt=\"Open In Colab\"/></a>"
      ]
    },
    {
      "cell_type": "markdown",
      "metadata": {
        "id": "CyTkwMYoh_-U",
        "colab_type": "text"
      },
      "source": [
        "#Wine Data"
      ]
    },
    {
      "cell_type": "markdown",
      "metadata": {
        "id": "fbWIrT_hiDtC",
        "colab_type": "text"
      },
      "source": [
        "## 1) 필요한 모듈 import"
      ]
    },
    {
      "cell_type": "code",
      "metadata": {
        "id": "7UbWZ1VKf4AF",
        "colab_type": "code",
        "colab": {}
      },
      "source": [
        "import sklearn \n",
        "from sklearn.datasets import load_wine\n",
        "from sklearn.metrics import classification_report\n",
        "from sklearn.model_selection import train_test_split\n",
        "from sklearn.metrics import precision_score\n",
        "from sklearn.metrics import f1_score\n",
        "from sklearn.metrics import accuracy_score\n"
      ],
      "execution_count": 27,
      "outputs": []
    },
    {
      "cell_type": "markdown",
      "metadata": {
        "id": "eWQHJfvIiOxQ",
        "colab_type": "text"
      },
      "source": [
        "## 2) 데이터 로드하기"
      ]
    },
    {
      "cell_type": "code",
      "metadata": {
        "id": "XPORVO-NhQkY",
        "colab_type": "code",
        "colab": {}
      },
      "source": [
        "wine=load_wine()\n",
        "\n"
      ],
      "execution_count": 28,
      "outputs": []
    },
    {
      "cell_type": "markdown",
      "metadata": {
        "id": "HJYhGS9ajYNK",
        "colab_type": "text"
      },
      "source": [
        "## 3) 데이터 이해하기"
      ]
    },
    {
      "cell_type": "markdown",
      "metadata": {
        "id": "c3O49GYmhoLz",
        "colab_type": "text"
      },
      "source": [
        "- Feature data 지정하기\n",
        "- Label data 지정하기"
      ]
    },
    {
      "cell_type": "code",
      "metadata": {
        "id": "kCWu8rc-hT2I",
        "colab_type": "code",
        "colab": {}
      },
      "source": [
        "feature_data=wine.data\n",
        "label_data=wine.target"
      ],
      "execution_count": 29,
      "outputs": []
    },
    {
      "cell_type": "markdown",
      "metadata": {
        "id": "TVyH-jlAhuNC",
        "colab_type": "text"
      },
      "source": [
        "- Target names 출력해보기"
      ]
    },
    {
      "cell_type": "code",
      "metadata": {
        "id": "ScVUujnnhXnc",
        "colab_type": "code",
        "colab": {
          "base_uri": "https://localhost:8080/",
          "height": 34
        },
        "outputId": "aaad6615-aa02-479d-813d-8ced8588f93c"
      },
      "source": [
        "wine.target_names"
      ],
      "execution_count": 30,
      "outputs": [
        {
          "output_type": "execute_result",
          "data": {
            "text/plain": [
              "array(['class_0', 'class_1', 'class_2'], dtype='<U7')"
            ]
          },
          "metadata": {
            "tags": []
          },
          "execution_count": 30
        }
      ]
    },
    {
      "cell_type": "markdown",
      "metadata": {
        "id": "4qPZne5mhxbh",
        "colab_type": "text"
      },
      "source": [
        "- Describe 출력해보기"
      ]
    },
    {
      "cell_type": "code",
      "metadata": {
        "id": "nPocuDnIhgop",
        "colab_type": "code",
        "colab": {
          "base_uri": "https://localhost:8080/",
          "height": 1000
        },
        "outputId": "31149f97-6482-4238-e437-9cd12592090d"
      },
      "source": [
        "print(wine.DESCR)"
      ],
      "execution_count": 31,
      "outputs": [
        {
          "output_type": "stream",
          "text": [
            ".. _wine_dataset:\n",
            "\n",
            "Wine recognition dataset\n",
            "------------------------\n",
            "\n",
            "**Data Set Characteristics:**\n",
            "\n",
            "    :Number of Instances: 178 (50 in each of three classes)\n",
            "    :Number of Attributes: 13 numeric, predictive attributes and the class\n",
            "    :Attribute Information:\n",
            " \t\t- Alcohol\n",
            " \t\t- Malic acid\n",
            " \t\t- Ash\n",
            "\t\t- Alcalinity of ash  \n",
            " \t\t- Magnesium\n",
            "\t\t- Total phenols\n",
            " \t\t- Flavanoids\n",
            " \t\t- Nonflavanoid phenols\n",
            " \t\t- Proanthocyanins\n",
            "\t\t- Color intensity\n",
            " \t\t- Hue\n",
            " \t\t- OD280/OD315 of diluted wines\n",
            " \t\t- Proline\n",
            "\n",
            "    - class:\n",
            "            - class_0\n",
            "            - class_1\n",
            "            - class_2\n",
            "\t\t\n",
            "    :Summary Statistics:\n",
            "    \n",
            "    ============================= ==== ===== ======= =====\n",
            "                                   Min   Max   Mean     SD\n",
            "    ============================= ==== ===== ======= =====\n",
            "    Alcohol:                      11.0  14.8    13.0   0.8\n",
            "    Malic Acid:                   0.74  5.80    2.34  1.12\n",
            "    Ash:                          1.36  3.23    2.36  0.27\n",
            "    Alcalinity of Ash:            10.6  30.0    19.5   3.3\n",
            "    Magnesium:                    70.0 162.0    99.7  14.3\n",
            "    Total Phenols:                0.98  3.88    2.29  0.63\n",
            "    Flavanoids:                   0.34  5.08    2.03  1.00\n",
            "    Nonflavanoid Phenols:         0.13  0.66    0.36  0.12\n",
            "    Proanthocyanins:              0.41  3.58    1.59  0.57\n",
            "    Colour Intensity:              1.3  13.0     5.1   2.3\n",
            "    Hue:                          0.48  1.71    0.96  0.23\n",
            "    OD280/OD315 of diluted wines: 1.27  4.00    2.61  0.71\n",
            "    Proline:                       278  1680     746   315\n",
            "    ============================= ==== ===== ======= =====\n",
            "\n",
            "    :Missing Attribute Values: None\n",
            "    :Class Distribution: class_0 (59), class_1 (71), class_2 (48)\n",
            "    :Creator: R.A. Fisher\n",
            "    :Donor: Michael Marshall (MARSHALL%PLU@io.arc.nasa.gov)\n",
            "    :Date: July, 1988\n",
            "\n",
            "This is a copy of UCI ML Wine recognition datasets.\n",
            "https://archive.ics.uci.edu/ml/machine-learning-databases/wine/wine.data\n",
            "\n",
            "The data is the results of a chemical analysis of wines grown in the same\n",
            "region in Italy by three different cultivators. There are thirteen different\n",
            "measurements taken for different constituents found in the three types of\n",
            "wine.\n",
            "\n",
            "Original Owners: \n",
            "\n",
            "Forina, M. et al, PARVUS - \n",
            "An Extendible Package for Data Exploration, Classification and Correlation. \n",
            "Institute of Pharmaceutical and Food Analysis and Technologies,\n",
            "Via Brigata Salerno, 16147 Genoa, Italy.\n",
            "\n",
            "Citation:\n",
            "\n",
            "Lichman, M. (2013). UCI Machine Learning Repository\n",
            "[https://archive.ics.uci.edu/ml]. Irvine, CA: University of California,\n",
            "School of Information and Computer Science. \n",
            "\n",
            ".. topic:: References\n",
            "\n",
            "  (1) S. Aeberhard, D. Coomans and O. de Vel, \n",
            "  Comparison of Classifiers in High Dimensional Settings, \n",
            "  Tech. Rep. no. 92-02, (1992), Dept. of Computer Science and Dept. of  \n",
            "  Mathematics and Statistics, James Cook University of North Queensland. \n",
            "  (Also submitted to Technometrics). \n",
            "\n",
            "  The data was used with many others for comparing various \n",
            "  classifiers. The classes are separable, though only RDA \n",
            "  has achieved 100% correct classification. \n",
            "  (RDA : 100%, QDA 99.4%, LDA 98.9%, 1NN 96.1% (z-transformed data)) \n",
            "  (All results using the leave-one-out technique) \n",
            "\n",
            "  (2) S. Aeberhard, D. Coomans and O. de Vel, \n",
            "  \"THE CLASSIFICATION PERFORMANCE OF RDA\" \n",
            "  Tech. Rep. no. 92-01, (1992), Dept. of Computer Science and Dept. of \n",
            "  Mathematics and Statistics, James Cook University of North Queensland. \n",
            "  (Also submitted to Journal of Chemometrics).\n",
            "\n"
          ],
          "name": "stdout"
        }
      ]
    },
    {
      "cell_type": "markdown",
      "metadata": {
        "id": "hj8TatelhmUG",
        "colab_type": "text"
      },
      "source": [
        "## 4) Train, Test split"
      ]
    },
    {
      "cell_type": "code",
      "metadata": {
        "id": "q8vbXGw6iff5",
        "colab_type": "code",
        "colab": {}
      },
      "source": [
        "(x_train, x_test, y_train, y_test)=train_test_split(feature_data, label_data, random_state=7, test_size=0.2)"
      ],
      "execution_count": 32,
      "outputs": []
    },
    {
      "cell_type": "markdown",
      "metadata": {
        "id": "W9g89N0ujAyF",
        "colab_type": "text"
      },
      "source": [
        "## 5) Train the model / 모델 트레인하기"
      ]
    },
    {
      "cell_type": "markdown",
      "metadata": {
        "id": "gNCC08K4jCHR",
        "colab_type": "text"
      },
      "source": [
        "Decision Tree 사용해 보기   \n",
        "Random Forest 사용해 보기   \n",
        "SVM 사용해 보기   \n",
        "SGD Classifier 사용해 보기   \n",
        "Logistic Regression 사용해 보기"
      ]
    },
    {
      "cell_type": "code",
      "metadata": {
        "id": "aUhqMVKOjt1W",
        "colab_type": "code",
        "colab": {
          "base_uri": "https://localhost:8080/",
          "height": 187
        },
        "outputId": "a060beaf-7ead-4255-bec8-ac409d5a4809"
      },
      "source": [
        "#1. Decision Tree \n",
        "from sklearn.tree import DecisionTreeClassifier\n",
        "model_tree=DecisionTreeClassifier(random_state=32)\n",
        "model_tree.fit(x_train, y_train)\n",
        "y_pred=model_tree.predict(x_test)\n",
        "tree_pre=precision_score(y_test, y_pred, average=None)\n",
        "tree_f1=f1_score(y_test, y_pred,average=None)\n",
        "tree_report=classification_report(y_test, y_pred)\n",
        "print(tree_report)"
      ],
      "execution_count": 33,
      "outputs": [
        {
          "output_type": "stream",
          "text": [
            "              precision    recall  f1-score   support\n",
            "\n",
            "           0       1.00      1.00      1.00         7\n",
            "           1       0.89      1.00      0.94        17\n",
            "           2       1.00      0.83      0.91        12\n",
            "\n",
            "    accuracy                           0.94        36\n",
            "   macro avg       0.96      0.94      0.95        36\n",
            "weighted avg       0.95      0.94      0.94        36\n",
            "\n"
          ],
          "name": "stdout"
        }
      ]
    },
    {
      "cell_type": "code",
      "metadata": {
        "id": "JjBI5Nlyk7Kr",
        "colab_type": "code",
        "colab": {
          "base_uri": "https://localhost:8080/",
          "height": 187
        },
        "outputId": "fcca1cf5-4257-4370-e456-6c9884fd9e5d"
      },
      "source": [
        "#2. Random Forest\n",
        "from sklearn.ensemble import RandomForestClassifier\n",
        "model_random=RandomForestClassifier(random_state=32)\n",
        "model_random.fit(x_train, y_train)\n",
        "y_pred=model_random.predict(x_test)\n",
        "rand_acc=accuracy_score(y_test, y_pred)\n",
        "rand_pre=precision_score(y_test, y_pred, average=None)\n",
        "rand_f1=f1_score(y_test, y_pred,average=None)\n",
        "forest_report=classification_report(y_test, y_pred)\n",
        "print(forest_report)"
      ],
      "execution_count": 34,
      "outputs": [
        {
          "output_type": "stream",
          "text": [
            "              precision    recall  f1-score   support\n",
            "\n",
            "           0       1.00      1.00      1.00         7\n",
            "           1       1.00      1.00      1.00        17\n",
            "           2       1.00      1.00      1.00        12\n",
            "\n",
            "    accuracy                           1.00        36\n",
            "   macro avg       1.00      1.00      1.00        36\n",
            "weighted avg       1.00      1.00      1.00        36\n",
            "\n"
          ],
          "name": "stdout"
        }
      ]
    },
    {
      "cell_type": "code",
      "metadata": {
        "id": "rREwUPUVlsQD",
        "colab_type": "code",
        "colab": {}
      },
      "source": [
        "#3. SVM \n",
        "from sklearn import svm\n",
        "model_svm = svm.SVC(random_state=20)\n",
        "model_svm.fit(x_train, y_train)\n",
        "y_pred=model_svm.predict(x_test)\n",
        "svm_pre=precision_score(y_test, y_pred, average=None)\n",
        "svm_f1=f1_score(y_test, y_pred,average=None)\n",
        "svm_acc=accuracy_score(y_test, y_pred)\n",
        "svm_report=classification_report(y_test, y_pred)"
      ],
      "execution_count": 35,
      "outputs": []
    },
    {
      "cell_type": "code",
      "metadata": {
        "id": "19iUfvDlnPAF",
        "colab_type": "code",
        "colab": {
          "base_uri": "https://localhost:8080/",
          "height": 105
        },
        "outputId": "015a569d-1d67-49ff-9838-63ae503604ad"
      },
      "source": [
        "#4. SGD Classifier\n",
        "from sklearn.linear_model import SGDClassifier\n",
        "model_SGD=SGDClassifier(random_state=32)\n",
        "model_SGD.fit(x_train, y_train)\n",
        "y_pred=model_SGD.predict(x_test)\n",
        "SGD_pre=precision_score(y_test, y_pred, average=None)\n",
        "SGD_f1=f1_score(y_test, y_pred,average=None)\n",
        "SGD_acc=accuracy_score(y_test, y_pred)\n",
        "SGD_report=classification_report(y_test, y_pred)"
      ],
      "execution_count": 36,
      "outputs": [
        {
          "output_type": "stream",
          "text": [
            "/usr/local/lib/python3.6/dist-packages/sklearn/metrics/_classification.py:1272: UndefinedMetricWarning: Precision is ill-defined and being set to 0.0 in labels with no predicted samples. Use `zero_division` parameter to control this behavior.\n",
            "  _warn_prf(average, modifier, msg_start, len(result))\n",
            "/usr/local/lib/python3.6/dist-packages/sklearn/metrics/_classification.py:1272: UndefinedMetricWarning: Precision and F-score are ill-defined and being set to 0.0 in labels with no predicted samples. Use `zero_division` parameter to control this behavior.\n",
            "  _warn_prf(average, modifier, msg_start, len(result))\n"
          ],
          "name": "stderr"
        }
      ]
    },
    {
      "cell_type": "code",
      "metadata": {
        "id": "j0F_GYGWn5UQ",
        "colab_type": "code",
        "colab": {
          "base_uri": "https://localhost:8080/",
          "height": 153
        },
        "outputId": "34b75d24-6a21-49bd-d661-2ab2e8845947"
      },
      "source": [
        "#5. Logistic Regression \n",
        "from sklearn.linear_model import LogisticRegression\n",
        "model_log=LogisticRegression()\n",
        "model_log.fit(x_train, y_train)\n",
        "y_pred=model_log.predict(x_test)\n",
        "log_acc=accuracy_score(y_test, y_pred)\n",
        "log_pre=precision_score(y_test, y_pred, average=None)\n",
        "log_f1=f1_score(y_test, y_pred,average=None)\n",
        "logistic_report=classification_report(y_test, y_pred)"
      ],
      "execution_count": 37,
      "outputs": [
        {
          "output_type": "stream",
          "text": [
            "/usr/local/lib/python3.6/dist-packages/sklearn/linear_model/_logistic.py:940: ConvergenceWarning: lbfgs failed to converge (status=1):\n",
            "STOP: TOTAL NO. of ITERATIONS REACHED LIMIT.\n",
            "\n",
            "Increase the number of iterations (max_iter) or scale the data as shown in:\n",
            "    https://scikit-learn.org/stable/modules/preprocessing.html\n",
            "Please also refer to the documentation for alternative solver options:\n",
            "    https://scikit-learn.org/stable/modules/linear_model.html#logistic-regression\n",
            "  extra_warning_msg=_LOGISTIC_SOLVER_CONVERGENCE_MSG)\n"
          ],
          "name": "stderr"
        }
      ]
    },
    {
      "cell_type": "markdown",
      "metadata": {
        "id": "T73fYL_Gof5C",
        "colab_type": "text"
      },
      "source": [
        "## 6) Which model is working best?/ 모델 평가하기"
      ]
    },
    {
      "cell_type": "markdown",
      "metadata": {
        "id": "mZ_286-rwCQ2",
        "colab_type": "text"
      },
      "source": [
        "\n",
        "###결론 : random forest 를 사용해야한다.\n",
        "\n",
        "#### 1.데이터가 고르게 분포하지 않으므로 precision/recall을 사용해야한다.**  \n",
        "\n"
      ]
    },
    {
      "cell_type": "code",
      "metadata": {
        "id": "1i_7dQhpo9b2",
        "colab_type": "code",
        "colab": {
          "base_uri": "https://localhost:8080/",
          "height": 142
        },
        "outputId": "58dc65cb-7845-4310-c736-d2878f5b1d31"
      },
      "source": [
        "import pandas as pd\n",
        "import numpy as np\n",
        "y_train_dis=pd.DataFrame(pd.value_counts(y_train)/len(y_train)*100, columns=['frequency (%)']).sort_index()\n",
        "y_train_dis #training data 의 0,1,2 class의 분포가 고르지 않다."
      ],
      "execution_count": 38,
      "outputs": [
        {
          "output_type": "execute_result",
          "data": {
            "text/html": [
              "<div>\n",
              "<style scoped>\n",
              "    .dataframe tbody tr th:only-of-type {\n",
              "        vertical-align: middle;\n",
              "    }\n",
              "\n",
              "    .dataframe tbody tr th {\n",
              "        vertical-align: top;\n",
              "    }\n",
              "\n",
              "    .dataframe thead th {\n",
              "        text-align: right;\n",
              "    }\n",
              "</style>\n",
              "<table border=\"1\" class=\"dataframe\">\n",
              "  <thead>\n",
              "    <tr style=\"text-align: right;\">\n",
              "      <th></th>\n",
              "      <th>frequency (%)</th>\n",
              "    </tr>\n",
              "  </thead>\n",
              "  <tbody>\n",
              "    <tr>\n",
              "      <th>0</th>\n",
              "      <td>36.619718</td>\n",
              "    </tr>\n",
              "    <tr>\n",
              "      <th>1</th>\n",
              "      <td>38.028169</td>\n",
              "    </tr>\n",
              "    <tr>\n",
              "      <th>2</th>\n",
              "      <td>25.352113</td>\n",
              "    </tr>\n",
              "  </tbody>\n",
              "</table>\n",
              "</div>"
            ],
            "text/plain": [
              "   frequency (%)\n",
              "0      36.619718\n",
              "1      38.028169\n",
              "2      25.352113"
            ]
          },
          "metadata": {
            "tags": []
          },
          "execution_count": 38
        }
      ]
    },
    {
      "cell_type": "code",
      "metadata": {
        "id": "7XK2eEcbpArv",
        "colab_type": "code",
        "colab": {
          "base_uri": "https://localhost:8080/",
          "height": 51
        },
        "outputId": "1592dcf0-1b2d-44b9-8d0a-78fead27e579"
      },
      "source": [
        "print(np.std(y_train_dis['frequency (%)']))\n",
        "print(np.mean(y_train_dis['frequency (%)']))"
      ],
      "execution_count": 39,
      "outputs": [
        {
          "output_type": "stream",
          "text": [
            "5.672791536898861\n",
            "33.333333333333336\n"
          ],
          "name": "stdout"
        }
      ]
    },
    {
      "cell_type": "code",
      "metadata": {
        "id": "e_EQKd3AqApw",
        "colab_type": "code",
        "colab": {}
      },
      "source": [
        ""
      ],
      "execution_count": 40,
      "outputs": []
    },
    {
      "cell_type": "markdown",
      "metadata": {
        "id": "ZeV6SjAsUtRl",
        "colab_type": "text"
      },
      "source": [
        "#### 2. Recall보다 Precision 이 중요하다.\n",
        "\n",
        "- (와인 유통업체가 사용한다고 가정) 와인 구분자의 경우, 기업에서 와인의 등급을 매기기 위해서 사용하는 경우가 많을 것이다. \n",
        "- 기업의 입장에서 고객에게 낮은 등급의 와인을 높은 등급으로 잘못 책정하는 것은 치명적인 오류이다. \n",
        "   + 이유는, 낮은 등급의 와인을 높은 가격에 팔면 고객의 해당 기업의 맛에 대한 신뢰도/호감도 급감할 것이기 때문이다.\n",
        "\n",
        "   + 반면 높은 등급의 와인을 낮은 가격에 파는 것은 약간의 원가 손실이 있을 수는 있지만 치명적인 문제는 아닐 것이다.\n",
        "\n",
        "ii)그 외, 전반적인 퍼포먼스 측면에서는 F1을 사용해도 무방할 것 (precision과 recall 의 조화 평균이기 때문에)"
      ]
    },
    {
      "cell_type": "code",
      "metadata": {
        "id": "dEgHaVsNr9bd",
        "colab_type": "code",
        "colab": {}
      },
      "source": [
        "pre_list=[tree_pre, rand_pre, svm_pre, SGD_pre, log_pre]\n",
        "pre_list=[100*i for i in pre_list ] \n",
        "pre_title=['tree_pre', 'rand_pre', 'svm_pre', 'SGD_pre', 'log_pre']\n",
        "precision_table=pd.DataFrame(pre_list, index=pre_title, columns=['class0','class1','class2'])\n",
        "precision_table['average']=np.mean(precision_table, axis=1)"
      ],
      "execution_count": 41,
      "outputs": []
    },
    {
      "cell_type": "code",
      "metadata": {
        "id": "BsTcBgGy88Am",
        "colab_type": "code",
        "colab": {
          "base_uri": "https://localhost:8080/",
          "height": 204
        },
        "outputId": "e9dbb416-b4aa-4e1a-a063-d87c670ad2fe"
      },
      "source": [
        "precision_table"
      ],
      "execution_count": 42,
      "outputs": [
        {
          "output_type": "execute_result",
          "data": {
            "text/html": [
              "<div>\n",
              "<style scoped>\n",
              "    .dataframe tbody tr th:only-of-type {\n",
              "        vertical-align: middle;\n",
              "    }\n",
              "\n",
              "    .dataframe tbody tr th {\n",
              "        vertical-align: top;\n",
              "    }\n",
              "\n",
              "    .dataframe thead th {\n",
              "        text-align: right;\n",
              "    }\n",
              "</style>\n",
              "<table border=\"1\" class=\"dataframe\">\n",
              "  <thead>\n",
              "    <tr style=\"text-align: right;\">\n",
              "      <th></th>\n",
              "      <th>class0</th>\n",
              "      <th>class1</th>\n",
              "      <th>class2</th>\n",
              "      <th>average</th>\n",
              "    </tr>\n",
              "  </thead>\n",
              "  <tbody>\n",
              "    <tr>\n",
              "      <th>tree_pre</th>\n",
              "      <td>100.000000</td>\n",
              "      <td>89.473684</td>\n",
              "      <td>100.000000</td>\n",
              "      <td>96.491228</td>\n",
              "    </tr>\n",
              "    <tr>\n",
              "      <th>rand_pre</th>\n",
              "      <td>100.000000</td>\n",
              "      <td>100.000000</td>\n",
              "      <td>100.000000</td>\n",
              "      <td>100.000000</td>\n",
              "    </tr>\n",
              "    <tr>\n",
              "      <th>svm_pre</th>\n",
              "      <td>85.714286</td>\n",
              "      <td>57.692308</td>\n",
              "      <td>33.333333</td>\n",
              "      <td>58.913309</td>\n",
              "    </tr>\n",
              "    <tr>\n",
              "      <th>SGD_pre</th>\n",
              "      <td>77.777778</td>\n",
              "      <td>59.259259</td>\n",
              "      <td>0.000000</td>\n",
              "      <td>45.679012</td>\n",
              "    </tr>\n",
              "    <tr>\n",
              "      <th>log_pre</th>\n",
              "      <td>100.000000</td>\n",
              "      <td>94.444444</td>\n",
              "      <td>100.000000</td>\n",
              "      <td>98.148148</td>\n",
              "    </tr>\n",
              "  </tbody>\n",
              "</table>\n",
              "</div>"
            ],
            "text/plain": [
              "              class0      class1      class2     average\n",
              "tree_pre  100.000000   89.473684  100.000000   96.491228\n",
              "rand_pre  100.000000  100.000000  100.000000  100.000000\n",
              "svm_pre    85.714286   57.692308   33.333333   58.913309\n",
              "SGD_pre    77.777778   59.259259    0.000000   45.679012\n",
              "log_pre   100.000000   94.444444  100.000000   98.148148"
            ]
          },
          "metadata": {
            "tags": []
          },
          "execution_count": 42
        }
      ]
    },
    {
      "cell_type": "markdown",
      "metadata": {
        "id": "RHa-fOI59CDx",
        "colab_type": "text"
      },
      "source": [
        "**precision 을 지표로 삼는다면, 위의 표에 따라 가장 평균 precision 이 높은 random_forest를 사용해야함**"
      ]
    },
    {
      "cell_type": "code",
      "metadata": {
        "id": "fpiYzLls9Dp5",
        "colab_type": "code",
        "colab": {}
      },
      "source": [
        "f1_list=[tree_f1, rand_f1, svm_f1, SGD_f1, log_f1]\n",
        "f1_list=[100*i for i in f1_list ] \n",
        "f1_title=['tree_f1', 'rand_f1', 'svm_f1', 'SGD_f1', 'log_f1']\n",
        "f1_table=pd.DataFrame(f1_list, index=f1_title, columns=['class0','class1','class2'])\n",
        "f1_table['average']=np.mean(f1_table, axis=1)"
      ],
      "execution_count": 43,
      "outputs": []
    },
    {
      "cell_type": "code",
      "metadata": {
        "id": "c-mCYwWm_AKM",
        "colab_type": "code",
        "colab": {
          "base_uri": "https://localhost:8080/",
          "height": 204
        },
        "outputId": "bfdbfef9-efd7-41fd-ae45-92d591f04e59"
      },
      "source": [
        "f1_table"
      ],
      "execution_count": 44,
      "outputs": [
        {
          "output_type": "execute_result",
          "data": {
            "text/html": [
              "<div>\n",
              "<style scoped>\n",
              "    .dataframe tbody tr th:only-of-type {\n",
              "        vertical-align: middle;\n",
              "    }\n",
              "\n",
              "    .dataframe tbody tr th {\n",
              "        vertical-align: top;\n",
              "    }\n",
              "\n",
              "    .dataframe thead th {\n",
              "        text-align: right;\n",
              "    }\n",
              "</style>\n",
              "<table border=\"1\" class=\"dataframe\">\n",
              "  <thead>\n",
              "    <tr style=\"text-align: right;\">\n",
              "      <th></th>\n",
              "      <th>class0</th>\n",
              "      <th>class1</th>\n",
              "      <th>class2</th>\n",
              "      <th>average</th>\n",
              "    </tr>\n",
              "  </thead>\n",
              "  <tbody>\n",
              "    <tr>\n",
              "      <th>tree_f1</th>\n",
              "      <td>100.000000</td>\n",
              "      <td>94.444444</td>\n",
              "      <td>90.909091</td>\n",
              "      <td>95.117845</td>\n",
              "    </tr>\n",
              "    <tr>\n",
              "      <th>rand_f1</th>\n",
              "      <td>100.000000</td>\n",
              "      <td>100.000000</td>\n",
              "      <td>100.000000</td>\n",
              "      <td>100.000000</td>\n",
              "    </tr>\n",
              "    <tr>\n",
              "      <th>svm_f1</th>\n",
              "      <td>85.714286</td>\n",
              "      <td>69.767442</td>\n",
              "      <td>13.333333</td>\n",
              "      <td>56.271687</td>\n",
              "    </tr>\n",
              "    <tr>\n",
              "      <th>SGD_f1</th>\n",
              "      <td>87.500000</td>\n",
              "      <td>72.727273</td>\n",
              "      <td>0.000000</td>\n",
              "      <td>53.409091</td>\n",
              "    </tr>\n",
              "    <tr>\n",
              "      <th>log_f1</th>\n",
              "      <td>92.307692</td>\n",
              "      <td>97.142857</td>\n",
              "      <td>100.000000</td>\n",
              "      <td>96.483516</td>\n",
              "    </tr>\n",
              "  </tbody>\n",
              "</table>\n",
              "</div>"
            ],
            "text/plain": [
              "             class0      class1      class2     average\n",
              "tree_f1  100.000000   94.444444   90.909091   95.117845\n",
              "rand_f1  100.000000  100.000000  100.000000  100.000000\n",
              "svm_f1    85.714286   69.767442   13.333333   56.271687\n",
              "SGD_f1    87.500000   72.727273    0.000000   53.409091\n",
              "log_f1    92.307692   97.142857  100.000000   96.483516"
            ]
          },
          "metadata": {
            "tags": []
          },
          "execution_count": 44
        }
      ]
    },
    {
      "cell_type": "markdown",
      "metadata": {
        "id": "pSsgC6o8_EXI",
        "colab_type": "text"
      },
      "source": [
        "**f1으로 봐도 random forest 가 가장 높다**"
      ]
    },
    {
      "cell_type": "code",
      "metadata": {
        "id": "C5rpzgli_Xmh",
        "colab_type": "code",
        "colab": {}
      },
      "source": [
        ""
      ],
      "execution_count": null,
      "outputs": []
    }
  ]
}