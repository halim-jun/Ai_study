{
  "nbformat": 4,
  "nbformat_minor": 0,
  "metadata": {
    "colab": {
      "name": "Mnist.ipynb",
      "provenance": [],
      "authorship_tag": "ABX9TyN5gX/D2Iywc9ocmkYLaG10",
      "include_colab_link": true
    },
    "kernelspec": {
      "name": "python3",
      "display_name": "Python 3"
    }
  },
  "cells": [
    {
      "cell_type": "markdown",
      "metadata": {
        "id": "view-in-github",
        "colab_type": "text"
      },
      "source": [
        "<a href=\"https://colab.research.google.com/github/halim-jun/Ai_study/blob/master/Mnist.ipynb\" target=\"_parent\"><img src=\"https://colab.research.google.com/assets/colab-badge.svg\" alt=\"Open In Colab\"/></a>"
      ]
    },
    {
      "cell_type": "markdown",
      "metadata": {
        "id": "G-JQvzt3m08B",
        "colab_type": "text"
      },
      "source": [
        "# 1. 환경 설정"
      ]
    },
    {
      "cell_type": "code",
      "metadata": {
        "id": "oOXojrs1mZh2",
        "colab_type": "code",
        "colab": {
          "base_uri": "https://localhost:8080/",
          "height": 51
        },
        "outputId": "349bc19b-57e8-452d-ec37-c8f06b4e3ba6"
      },
      "source": [
        "!pip install pillow   \n",
        "\n",
        "from PIL import Image\n",
        "import os, glob\n",
        "\n",
        "print(\"PIL 라이브러리 import 완료!\")"
      ],
      "execution_count": 1,
      "outputs": [
        {
          "output_type": "stream",
          "text": [
            "Requirement already satisfied: pillow in /usr/local/lib/python3.6/dist-packages (7.0.0)\n",
            "PIL 라이브러리 import 완료!\n"
          ],
          "name": "stdout"
        }
      ]
    },
    {
      "cell_type": "markdown",
      "metadata": {
        "id": "iGMCuKwXm5QC",
        "colab_type": "text"
      },
      "source": [
        "# 2. 이미지 사이즈 전처리"
      ]
    },
    {
      "cell_type": "code",
      "metadata": {
        "id": "tPtzCVmYmh-A",
        "colab_type": "code",
        "colab": {
          "base_uri": "https://localhost:8080/",
          "height": 51
        },
        "outputId": "6dff6dde-6769-4867-df07-b41161f9db98"
      },
      "source": [
        "import os\n",
        "# 가위 이미지가 저장된 디렉토리 아래의 모든 jpg 파일을 읽어들여서\n",
        "image_dir_path = os.getenv(\"HOME\") + \"/aiffel/aiffel/rock_scissor_paper/scissor\"\n",
        "print(\"이미지 디렉토리 경로: \", image_dir_path)\n",
        "\n",
        "images=glob.glob(image_dir_path + \"/*.jpg\")  \n",
        "\n",
        "# 파일마다 모두 28x28 사이즈로 바꾸어 저장합니다.\n",
        "target_size=(28,28)\n",
        "for img in images:\n",
        "    old_img=Image.open(img)\n",
        "    new_img=old_img.resize(target_size,Image.ANTIALIAS)\n",
        "    new_img.save(img,\"JPEG\")\n",
        "\n",
        "print(\"가위 이미지 resize 완료!\")"
      ],
      "execution_count": 2,
      "outputs": [
        {
          "output_type": "stream",
          "text": [
            "이미지 디렉토리 경로:  /root/aiffel/aiffel/rock_scissor_paper/scissor\n",
            "가위 이미지 resize 완료!\n"
          ],
          "name": "stdout"
        }
      ]
    },
    {
      "cell_type": "code",
      "metadata": {
        "id": "Pck_xeKoms--",
        "colab_type": "code",
        "colab": {
          "base_uri": "https://localhost:8080/",
          "height": 51
        },
        "outputId": "19d7af21-3229-4c94-9856-5f569372822c"
      },
      "source": [
        "image_dir_path=os.getenv(\"HOME\")+\"/aiffel/rock_scissor_paper/rock\"\n",
        "print(image_dir_path)\n",
        "\n",
        "images=glob.glob(image_dir_path+\"/*.jpg\")\n",
        "target_size=(28,28)\n",
        "for img in images:\n",
        "  old_img=Image.open(img)\n",
        "  new_img=old_img.resize(target_size, Image.ANTIALIAS)\n",
        "  new_img.save(img,\"JPEG\")\n",
        "  \n",
        "print('done')"
      ],
      "execution_count": 3,
      "outputs": [
        {
          "output_type": "stream",
          "text": [
            "/root/aiffel/rock_scissor_paper/rock\n",
            "done\n"
          ],
          "name": "stdout"
        }
      ]
    },
    {
      "cell_type": "code",
      "metadata": {
        "id": "mapqGMi2mwKu",
        "colab_type": "code",
        "colab": {
          "base_uri": "https://localhost:8080/",
          "height": 34
        },
        "outputId": "f8111bf7-b36e-479a-a1d8-039a87ccf411"
      },
      "source": [
        "# 보 이미지가 저장된 디렉토리 아래의 모든 jpg 파일을 읽어들여서\n",
        "image_dir_path=os.getenv(\"HOME\")+\"/aiffel/rock_scissor_paper/paper\"\n",
        "print(image_dir_path)\n",
        "\n",
        "images=glob.glob(image_dir_path+\"/*.jpg\")\n",
        "target_size=(28,28)\n",
        "for img in images:\n",
        "  old_img=Image.open(img)\n",
        "  new_img=old_img.resize(target_size, Image.ANTIALIAS)\n",
        "  new_img.save(img,\"JPEG\")\n",
        "  \n",
        "# 파일마다 모두 28x28 사이즈로 바꾸어 저장합니다.\n",
        "# [[YOUR CODE]]"
      ],
      "execution_count": 4,
      "outputs": [
        {
          "output_type": "stream",
          "text": [
            "/root/aiffel/rock_scissor_paper/paper\n"
          ],
          "name": "stdout"
        }
      ]
    },
    {
      "cell_type": "markdown",
      "metadata": {
        "id": "yn3_aVNVnU8E",
        "colab_type": "text"
      },
      "source": [
        "# 3. 이미지 모으기"
      ]
    },
    {
      "cell_type": "code",
      "metadata": {
        "id": "Nz1cxud6mzTX",
        "colab_type": "code",
        "colab": {
          "base_uri": "https://localhost:8080/",
          "height": 68
        },
        "outputId": "41513808-c1fa-4446-8013-5c91f13a440f"
      },
      "source": [
        "import numpy as np\n",
        "def load_data(img_path):\n",
        "    # 가위 : 0, 바위 : 1, 보 : 2\n",
        "    number_of_data=700   # 가위바위보 이미지 개수 총합에 주의하세요.\n",
        "    img_size=28\n",
        "    color=3\n",
        "    #이미지 데이터와 라벨(가위 : 0, 바위 : 1, 보 : 2) 데이터를 담을 행렬(matrix) 영역을 생성합니다.\n",
        "    imgs=np.zeros(number_of_data*img_size*img_size*color,dtype=np.int32).reshape(number_of_data,img_size,img_size,color)\n",
        "    labels=np.zeros(number_of_data,dtype=np.int32)\n",
        "\n",
        "    idx=0\n",
        "    for file in glob.iglob(img_path+'/scissor/*.jpg'):\n",
        "        img = np.array(Image.open(file),dtype=np.int32)\n",
        "        imgs[idx,:,:,:]=img    # 데이터 영역에 이미지 행렬을 복사\n",
        "        labels[idx]=0   # 가위 : 0\n",
        "        idx=idx+1\n",
        "\n",
        "    for file in glob.iglob(img_path+'/rock/*.jpg'):\n",
        "        img = np.array(Image.open(file),dtype=np.int32)\n",
        "        imgs[idx,:,:,:]=img    # 데이터 영역에 이미지 행렬을 복사\n",
        "        labels[idx]=1   # 바위 : 1\n",
        "        idx=idx+1       \n",
        "    \n",
        "    for file in glob.iglob(img_path+'/paper/*.jpg'):\n",
        "        img = np.array(Image.open(file),dtype=np.int32)\n",
        "        imgs[idx,:,:,:]=img    # 데이터 영역에 이미지 행렬을 복사\n",
        "        labels[idx]=2   # 보 : 2\n",
        "        idx=idx+1\n",
        "        \n",
        "    print(\"학습데이터(x_train)의 이미지 개수는\",idx,\"입니다.\")\n",
        "    return imgs, labels\n",
        "\n",
        "image_dir_path = os.getenv(\"HOME\") + \"/aiffel/aiffel/rock_scissor_paper\"\n",
        "(x_train, y_train)=load_data(image_dir_path)\n",
        "x_train_norm = x_train/255.0   # 입력은 0~1 사이의 값으로 정규화\n",
        "\n",
        "print(\"x_train shape: {}\".format(x_train.shape))\n",
        "print(\"y_train shape: {}\".format(y_train.shape))"
      ],
      "execution_count": 6,
      "outputs": [
        {
          "output_type": "stream",
          "text": [
            "학습데이터(x_train)의 이미지 개수는 0 입니다.\n",
            "x_train shape: (700, 28, 28, 3)\n",
            "y_train shape: (700,)\n"
          ],
          "name": "stdout"
        }
      ]
    },
    {
      "cell_type": "markdown",
      "metadata": {
        "id": "zhe5kXqznxMy",
        "colab_type": "text"
      },
      "source": [
        "# 4. 이미지 확인하기"
      ]
    },
    {
      "cell_type": "code",
      "metadata": {
        "id": "JG58KZwJnlnZ",
        "colab_type": "code",
        "colab": {
          "base_uri": "https://localhost:8080/",
          "height": 34
        },
        "outputId": "c666f292-a672-424e-8f55-567e5d3ba03a"
      },
      "source": [
        "x_train_norm.shape"
      ],
      "execution_count": 7,
      "outputs": [
        {
          "output_type": "execute_result",
          "data": {
            "text/plain": [
              "(700, 28, 28, 3)"
            ]
          },
          "metadata": {
            "tags": []
          },
          "execution_count": 7
        }
      ]
    },
    {
      "cell_type": "markdown",
      "metadata": {
        "id": "Hc5JG2SDn84t",
        "colab_type": "text"
      },
      "source": [
        ""
      ]
    },
    {
      "cell_type": "code",
      "metadata": {
        "id": "3t83WZ4yn4hD",
        "colab_type": "code",
        "colab": {
          "base_uri": "https://localhost:8080/",
          "height": 459
        },
        "outputId": "0456fd89-c846-4729-efd7-6ac635cc2b06"
      },
      "source": [
        "import tensorflow as tf\n",
        "from tensorflow import keras\n",
        "import numpy as np\n",
        "\n",
        "\n",
        "model=keras.models.Sequential()\n",
        "model.add(keras.layers.Conv2D(30, (3,3), activation='relu', input_shape=(28,28,3)))\n",
        "model.add(keras.layers.MaxPooling2D(2,2))\n",
        "model.add(keras.layers.Conv2D(40, (3,3), activation='relu'))\n",
        "model.add(keras.layers.MaxPooling2D((2,2)))\n",
        "model.add(keras.layers.Conv2D(40, (3,3), activation='relu'))\n",
        "model.add(keras.layers.MaxPooling2D((2,2)))\n",
        "\n",
        "model.add(keras.layers.Flatten())\n",
        "model.add(keras.layers.Dense(32, activation='relu'))\n",
        "model.add(keras.layers.Dense(3,activation='softmax'))\n",
        "\n",
        "model.summary()"
      ],
      "execution_count": 36,
      "outputs": [
        {
          "output_type": "stream",
          "text": [
            "Model: \"sequential_8\"\n",
            "_________________________________________________________________\n",
            "Layer (type)                 Output Shape              Param #   \n",
            "=================================================================\n",
            "conv2d_27 (Conv2D)           (None, 26, 26, 30)        840       \n",
            "_________________________________________________________________\n",
            "max_pooling2d_24 (MaxPooling (None, 13, 13, 30)        0         \n",
            "_________________________________________________________________\n",
            "conv2d_28 (Conv2D)           (None, 11, 11, 40)        10840     \n",
            "_________________________________________________________________\n",
            "max_pooling2d_25 (MaxPooling (None, 5, 5, 40)          0         \n",
            "_________________________________________________________________\n",
            "conv2d_29 (Conv2D)           (None, 3, 3, 40)          14440     \n",
            "_________________________________________________________________\n",
            "max_pooling2d_26 (MaxPooling (None, 1, 1, 40)          0         \n",
            "_________________________________________________________________\n",
            "flatten_5 (Flatten)          (None, 40)                0         \n",
            "_________________________________________________________________\n",
            "dense_10 (Dense)             (None, 32)                1312      \n",
            "_________________________________________________________________\n",
            "dense_11 (Dense)             (None, 3)                 99        \n",
            "=================================================================\n",
            "Total params: 27,531\n",
            "Trainable params: 27,531\n",
            "Non-trainable params: 0\n",
            "_________________________________________________________________\n"
          ],
          "name": "stdout"
        }
      ]
    },
    {
      "cell_type": "code",
      "metadata": {
        "id": "M17MQQ5Ln92B",
        "colab_type": "code",
        "colab": {
          "base_uri": "https://localhost:8080/",
          "height": 34
        },
        "outputId": "ca69fd82-d206-4de2-b1ed-ba761e82d73c"
      },
      "source": [
        "path_test=os.getenv('HOME')+'/aiffel/test_data'\n",
        "(x_test, y_test)=load_data(path_test)\n",
        "x_test_norm=x_test/255.0"
      ],
      "execution_count": 37,
      "outputs": [
        {
          "output_type": "stream",
          "text": [
            "학습데이터(x_train)의 이미지 개수는 0 입니다.\n"
          ],
          "name": "stdout"
        }
      ]
    },
    {
      "cell_type": "code",
      "metadata": {
        "id": "DtpHyaMkorM3",
        "colab_type": "code",
        "colab": {
          "base_uri": "https://localhost:8080/",
          "height": 612
        },
        "outputId": "87ef2658-1609-4ed5-bcd4-e5dd422d0757"
      },
      "source": [
        "model.compile(optimizer='adam', loss='sparse_categorical_crossentropy',\n",
        "             metrics=['accuracy'])\n",
        "model.fit(x_train_norm, y_train, epochs=17)"
      ],
      "execution_count": 38,
      "outputs": [
        {
          "output_type": "stream",
          "text": [
            "Epoch 1/17\n",
            "22/22 [==============================] - 1s 29ms/step - loss: 1.0848 - accuracy: 1.0000\n",
            "Epoch 2/17\n",
            "22/22 [==============================] - 1s 29ms/step - loss: 1.0559 - accuracy: 1.0000\n",
            "Epoch 3/17\n",
            "22/22 [==============================] - 1s 26ms/step - loss: 1.0277 - accuracy: 1.0000\n",
            "Epoch 4/17\n",
            "22/22 [==============================] - 1s 26ms/step - loss: 1.0001 - accuracy: 1.0000\n",
            "Epoch 5/17\n",
            "22/22 [==============================] - 1s 29ms/step - loss: 0.9732 - accuracy: 1.0000\n",
            "Epoch 6/17\n",
            "22/22 [==============================] - 1s 29ms/step - loss: 0.9469 - accuracy: 1.0000\n",
            "Epoch 7/17\n",
            "22/22 [==============================] - 1s 30ms/step - loss: 0.9213 - accuracy: 1.0000\n",
            "Epoch 8/17\n",
            "22/22 [==============================] - 1s 30ms/step - loss: 0.8963 - accuracy: 1.0000\n",
            "Epoch 9/17\n",
            "22/22 [==============================] - 1s 29ms/step - loss: 0.8719 - accuracy: 1.0000\n",
            "Epoch 10/17\n",
            "22/22 [==============================] - 1s 29ms/step - loss: 0.8481 - accuracy: 1.0000\n",
            "Epoch 11/17\n",
            "22/22 [==============================] - 1s 27ms/step - loss: 0.8250 - accuracy: 1.0000\n",
            "Epoch 12/17\n",
            "22/22 [==============================] - 1s 26ms/step - loss: 0.8025 - accuracy: 1.0000\n",
            "Epoch 13/17\n",
            "22/22 [==============================] - 1s 26ms/step - loss: 0.7806 - accuracy: 1.0000\n",
            "Epoch 14/17\n",
            "22/22 [==============================] - 1s 26ms/step - loss: 0.7593 - accuracy: 1.0000\n",
            "Epoch 15/17\n",
            "22/22 [==============================] - 1s 27ms/step - loss: 0.7386 - accuracy: 1.0000\n",
            "Epoch 16/17\n",
            "22/22 [==============================] - 1s 29ms/step - loss: 0.7184 - accuracy: 1.0000\n",
            "Epoch 17/17\n",
            "22/22 [==============================] - 1s 29ms/step - loss: 0.6988 - accuracy: 1.0000\n"
          ],
          "name": "stdout"
        },
        {
          "output_type": "execute_result",
          "data": {
            "text/plain": [
              "<tensorflow.python.keras.callbacks.History at 0x7f8f54999160>"
            ]
          },
          "metadata": {
            "tags": []
          },
          "execution_count": 38
        }
      ]
    },
    {
      "cell_type": "code",
      "metadata": {
        "id": "UNWjT-v4pv1C",
        "colab_type": "code",
        "colab": {
          "base_uri": "https://localhost:8080/",
          "height": 34
        },
        "outputId": "4810d0e5-eb6f-48f1-b357-59f12ddc332c"
      },
      "source": [
        "path_test=os.getenv('HOME')+'/aiffel/test_data'\n",
        "(x_test, y_test)=load_data(path_test)\n",
        "x_test_norm=x_test/255.0"
      ],
      "execution_count": 39,
      "outputs": [
        {
          "output_type": "stream",
          "text": [
            "학습데이터(x_train)의 이미지 개수는 0 입니다.\n"
          ],
          "name": "stdout"
        }
      ]
    },
    {
      "cell_type": "code",
      "metadata": {
        "id": "oi4UR41iqCnb",
        "colab_type": "code",
        "colab": {
          "base_uri": "https://localhost:8080/",
          "height": 51
        },
        "outputId": "fd642581-7011-42d5-8a3e-e06a7d505b65"
      },
      "source": [
        "model.evaluate(x_test_norm, y_test)"
      ],
      "execution_count": 40,
      "outputs": [
        {
          "output_type": "stream",
          "text": [
            "22/22 [==============================] - 0s 9ms/step - loss: 0.6888 - accuracy: 1.0000\n"
          ],
          "name": "stdout"
        },
        {
          "output_type": "execute_result",
          "data": {
            "text/plain": [
              "[0.6887614727020264, 1.0]"
            ]
          },
          "metadata": {
            "tags": []
          },
          "execution_count": 40
        }
      ]
    },
    {
      "cell_type": "markdown",
      "metadata": {
        "id": "rS6rkSEBxr6a",
        "colab_type": "text"
      },
      "source": [
        "#5. 소감\n",
        "\n",
        "- 전처리가 이렇게 고된 작업이라는 것을 느꼈다.\n",
        "- cmd 언어가 전처리 시 파일을 옮기는데 유용할 것이라고 느꼈다.\n",
        "- 하이퍼파라미터를 설정하는게 어렵다 (랜덤하다)"
      ]
    },
    {
      "cell_type": "code",
      "metadata": {
        "id": "B17A0r5czAjq",
        "colab_type": "code",
        "colab": {}
      },
      "source": [
        ""
      ],
      "execution_count": null,
      "outputs": []
    }
  ]
}