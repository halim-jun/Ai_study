{
  "nbformat": 4,
  "nbformat_minor": 0,
  "metadata": {
    "colab": {
      "name": "20200811_Diabetes_Handcoding.ipynb",
      "provenance": [],
      "collapsed_sections": [],
      "authorship_tag": "ABX9TyP1aL8BHw6uAJHWtBLDJAOK",
      "include_colab_link": true
    },
    "kernelspec": {
      "name": "python3",
      "display_name": "Python 3"
    }
  },
  "cells": [
    {
      "cell_type": "markdown",
      "metadata": {
        "id": "view-in-github",
        "colab_type": "text"
      },
      "source": [
        "<a href=\"https://colab.research.google.com/github/halim-jun/Ai_study/blob/master/20200811_Diabetes_Handcoding.ipynb\" target=\"_parent\"><img src=\"https://colab.research.google.com/assets/colab-badge.svg\" alt=\"Open In Colab\"/></a>"
      ]
    },
    {
      "cell_type": "markdown",
      "metadata": {
        "id": "Rr21YYGjNkct",
        "colab_type": "text"
      },
      "source": [
        "#1. 데이터 가져오기"
      ]
    },
    {
      "cell_type": "code",
      "metadata": {
        "id": "c1qPr5w8Nije",
        "colab_type": "code",
        "colab": {
          "base_uri": "https://localhost:8080/",
          "height": 68
        },
        "outputId": "612cf9b1-f518-44b3-fe8c-be5e3aa8dc2e"
      },
      "source": [
        "import seaborn as sns\n",
        "import sklearn\n",
        "from sklearn.datasets import load_diabetes\n",
        "import pandas as pd\n",
        "import numpy as np\n",
        "import sklearn.metrics\n",
        "from sklearn.metrics import accuracy_score\n",
        "diabetes=load_diabetes()\n",
        "diabetes.keys()\n"
      ],
      "execution_count": 1,
      "outputs": [
        {
          "output_type": "stream",
          "text": [
            "/usr/local/lib/python3.6/dist-packages/statsmodels/tools/_testing.py:19: FutureWarning: pandas.util.testing is deprecated. Use the functions in the public API at pandas.testing instead.\n",
            "  import pandas.util.testing as tm\n"
          ],
          "name": "stderr"
        },
        {
          "output_type": "execute_result",
          "data": {
            "text/plain": [
              "dict_keys(['data', 'target', 'DESCR', 'feature_names', 'data_filename', 'target_filename'])"
            ]
          },
          "metadata": {
            "tags": []
          },
          "execution_count": 1
        }
      ]
    },
    {
      "cell_type": "code",
      "metadata": {
        "id": "FNfDS1M4N-Hl",
        "colab_type": "code",
        "colab": {}
      },
      "source": [
        "df_X=diabetes.data\n",
        "df_Y=diabetes.target"
      ],
      "execution_count": 2,
      "outputs": []
    },
    {
      "cell_type": "code",
      "metadata": {
        "id": "qLA1eqGNQAtA",
        "colab_type": "code",
        "colab": {
          "base_uri": "https://localhost:8080/",
          "height": 323
        },
        "outputId": "fea4113f-35e8-484e-b649-bfb86a80a163"
      },
      "source": [
        "df_X[1:10,:]"
      ],
      "execution_count": 3,
      "outputs": [
        {
          "output_type": "execute_result",
          "data": {
            "text/plain": [
              "array([[-0.00188202, -0.04464164, -0.05147406, -0.02632783, -0.00844872,\n",
              "        -0.01916334,  0.07441156, -0.03949338, -0.06832974, -0.09220405],\n",
              "       [ 0.08529891,  0.05068012,  0.04445121, -0.00567061, -0.04559945,\n",
              "        -0.03419447, -0.03235593, -0.00259226,  0.00286377, -0.02593034],\n",
              "       [-0.08906294, -0.04464164, -0.01159501, -0.03665645,  0.01219057,\n",
              "         0.02499059, -0.03603757,  0.03430886,  0.02269202, -0.00936191],\n",
              "       [ 0.00538306, -0.04464164, -0.03638469,  0.02187235,  0.00393485,\n",
              "         0.01559614,  0.00814208, -0.00259226, -0.03199144, -0.04664087],\n",
              "       [-0.09269548, -0.04464164, -0.04069594, -0.01944209, -0.06899065,\n",
              "        -0.07928784,  0.04127682, -0.0763945 , -0.04118039, -0.09634616],\n",
              "       [-0.04547248,  0.05068012, -0.04716281, -0.01599922, -0.04009564,\n",
              "        -0.02480001,  0.00077881, -0.03949338, -0.06291295, -0.03835666],\n",
              "       [ 0.06350368,  0.05068012, -0.00189471,  0.06662967,  0.09061988,\n",
              "         0.10891438,  0.02286863,  0.01770335, -0.03581673,  0.00306441],\n",
              "       [ 0.04170844,  0.05068012,  0.06169621, -0.04009932, -0.01395254,\n",
              "         0.00620169, -0.02867429, -0.00259226, -0.01495648,  0.01134862],\n",
              "       [-0.07090025, -0.04464164,  0.03906215, -0.03321358, -0.01257658,\n",
              "        -0.03450761, -0.02499266, -0.00259226,  0.06773633, -0.01350402]])"
            ]
          },
          "metadata": {
            "tags": []
          },
          "execution_count": 3
        }
      ]
    },
    {
      "cell_type": "markdown",
      "metadata": {
        "id": "J6Vj4rGOOfHF",
        "colab_type": "text"
      },
      "source": [
        "# 2-3. 데이터 타입 변환하기 : 이미 numpy array 이기에 변환하지 않음"
      ]
    },
    {
      "cell_type": "code",
      "metadata": {
        "id": "Czr6-RYqOBRt",
        "colab_type": "code",
        "colab": {
          "base_uri": "https://localhost:8080/",
          "height": 34
        },
        "outputId": "d59d1f75-0cfa-4911-a6ab-45b98990dca7"
      },
      "source": [
        "type(df_X)\n",
        "type(df_Y)"
      ],
      "execution_count": 4,
      "outputs": [
        {
          "output_type": "execute_result",
          "data": {
            "text/plain": [
              "numpy.ndarray"
            ]
          },
          "metadata": {
            "tags": []
          },
          "execution_count": 4
        }
      ]
    },
    {
      "cell_type": "markdown",
      "metadata": {
        "id": "Q0FdiftwOvRR",
        "colab_type": "text"
      },
      "source": [
        "# 4.  트레인/테스트 스플릿"
      ]
    },
    {
      "cell_type": "code",
      "metadata": {
        "id": "PWoGR65FOu8C",
        "colab_type": "code",
        "colab": {}
      },
      "source": [
        "from sklearn.model_selection import train_test_split"
      ],
      "execution_count": 5,
      "outputs": []
    },
    {
      "cell_type": "code",
      "metadata": {
        "id": "ERGNfX3rNgkg",
        "colab_type": "code",
        "colab": {}
      },
      "source": [
        "(x_train, x_test, y_train, y_test)=train_test_split(df_X, df_Y, random_state=10, test_size=0.2)"
      ],
      "execution_count": 6,
      "outputs": []
    },
    {
      "cell_type": "code",
      "metadata": {
        "id": "wigGScbiPrqV",
        "colab_type": "code",
        "colab": {
          "base_uri": "https://localhost:8080/",
          "height": 34
        },
        "outputId": "1c9304dd-72e8-4a40-fa02-1bd180c990d2"
      },
      "source": [
        "x_test.shape\n",
        "x_train.shape\n",
        "y_train.shape"
      ],
      "execution_count": 7,
      "outputs": [
        {
          "output_type": "execute_result",
          "data": {
            "text/plain": [
              "(353,)"
            ]
          },
          "metadata": {
            "tags": []
          },
          "execution_count": 7
        }
      ]
    },
    {
      "cell_type": "markdown",
      "metadata": {
        "id": "prVzOq5CQdWP",
        "colab_type": "text"
      },
      "source": [
        "#5. 모델 준비하기"
      ]
    },
    {
      "cell_type": "code",
      "metadata": {
        "id": "tbw9H0WRQ8gn",
        "colab_type": "code",
        "colab": {}
      },
      "source": [
        "def model(X,w,b):\n",
        "  prediction=0\n",
        "  for i in range(10):\n",
        "    prediction+=X[:, i]*w[i] #모든 X 에 대해서 예측값 도출\n",
        "  prediction+=b\n",
        "  return prediction"
      ],
      "execution_count": 8,
      "outputs": []
    },
    {
      "cell_type": "markdown",
      "metadata": {
        "id": "fN_17S5bQ3Xo",
        "colab_type": "text"
      },
      "source": [
        "#6. 손실함수 준비하기"
      ]
    },
    {
      "cell_type": "code",
      "metadata": {
        "id": "975btENbRgUP",
        "colab_type": "code",
        "colab": {}
      },
      "source": [
        "def MSE(a,b):\n",
        "  mse=((a-b)**2).mean()\n",
        "  return mse\n",
        "def loss(x,y,w,b):\n",
        "  prediction=model(x,w,b)\n",
        "  L=MSE(prediction, y)\n",
        "  return L"
      ],
      "execution_count": 15,
      "outputs": []
    },
    {
      "cell_type": "markdown",
      "metadata": {
        "id": "zb1GvW6sR9UK",
        "colab_type": "text"
      },
      "source": [
        "#7. Gradient 구하기"
      ]
    },
    {
      "cell_type": "code",
      "metadata": {
        "id": "OC5UX1D-XoHh",
        "colab_type": "code",
        "colab": {}
      },
      "source": [
        ""
      ],
      "execution_count": 15,
      "outputs": []
    },
    {
      "cell_type": "code",
      "metadata": {
        "id": "c37jKcLuRe-C",
        "colab_type": "code",
        "colab": {}
      },
      "source": [
        "def gradient(X, W, b, y):\n",
        "    N = len(W)\n",
        "    \n",
        "    y_pred = model(X, W, b)\n",
        "    \n",
        "    dW = 1/N * 2 * X.T.dot(y_pred - y)\n",
        "        \n",
        "    db = 2 * (y_pred - y).mean()\n",
        "    return dW, db"
      ],
      "execution_count": 16,
      "outputs": []
    },
    {
      "cell_type": "markdown",
      "metadata": {
        "id": "kymdtccvSB4X",
        "colab_type": "text"
      },
      "source": [
        "#8. Learning rate 구하기"
      ]
    },
    {
      "cell_type": "code",
      "metadata": {
        "id": "-aP2MSafSBja",
        "colab_type": "code",
        "colab": {}
      },
      "source": [
        "LEARNING_RATE = 0.001"
      ],
      "execution_count": 17,
      "outputs": []
    },
    {
      "cell_type": "markdown",
      "metadata": {
        "id": "MxlWJsC4SCwk",
        "colab_type": "text"
      },
      "source": [
        "# 9. 모델 학습하기"
      ]
    },
    {
      "cell_type": "code",
      "metadata": {
        "id": "3PZhtYDESCRs",
        "colab_type": "code",
        "colab": {
          "base_uri": "https://localhost:8080/",
          "height": 510
        },
        "outputId": "ad4bcc87-220c-405a-e3ce-7a515b9078f8"
      },
      "source": [
        "losses = []\n",
        "W=[2,2,2,2,2,2,2,2,2,2]\n",
        "b=1\n",
        "\n",
        "for i in range(1, 30000):\n",
        "    dW, db = gradient(x_train, W, b, y_train)\n",
        "    W -= LEARNING_RATE * dW\n",
        "    b -= LEARNING_RATE * db\n",
        "    L = loss(x_train, y_train,W,b)\n",
        "    losses.append(L)\n",
        "    if i % 1000 == 0:\n",
        "        print('Iteration %d : Loss %0.4f' % (i, L))\n"
      ],
      "execution_count": 30,
      "outputs": [
        {
          "output_type": "stream",
          "text": [
            "Iteration 1000 : Loss 4556.3750\n",
            "Iteration 2000 : Loss 3591.9336\n",
            "Iteration 3000 : Loss 3337.3327\n",
            "Iteration 4000 : Loss 3199.3187\n",
            "Iteration 5000 : Loss 3110.1883\n",
            "Iteration 6000 : Loss 3047.9958\n",
            "Iteration 7000 : Loss 3003.0408\n",
            "Iteration 8000 : Loss 2970.0039\n",
            "Iteration 9000 : Loss 2945.5097\n",
            "Iteration 10000 : Loss 2927.2431\n",
            "Iteration 11000 : Loss 2913.5572\n",
            "Iteration 12000 : Loss 2903.2601\n",
            "Iteration 13000 : Loss 2895.4810\n",
            "Iteration 14000 : Loss 2889.5800\n",
            "Iteration 15000 : Loss 2885.0848\n",
            "Iteration 16000 : Loss 2881.6455\n",
            "Iteration 17000 : Loss 2879.0018\n",
            "Iteration 18000 : Loss 2876.9596\n",
            "Iteration 19000 : Loss 2875.3736\n",
            "Iteration 20000 : Loss 2874.1349\n",
            "Iteration 21000 : Loss 2873.1613\n",
            "Iteration 22000 : Loss 2872.3908\n",
            "Iteration 23000 : Loss 2871.7765\n",
            "Iteration 24000 : Loss 2871.2827\n",
            "Iteration 25000 : Loss 2870.8822\n",
            "Iteration 26000 : Loss 2870.5542\n",
            "Iteration 27000 : Loss 2870.2827\n",
            "Iteration 28000 : Loss 2870.0556\n",
            "Iteration 29000 : Loss 2869.8633\n"
          ],
          "name": "stdout"
        }
      ]
    },
    {
      "cell_type": "markdown",
      "metadata": {
        "id": "7lR_QFGWSv1b",
        "colab_type": "text"
      },
      "source": [
        "#10. 성능 확인"
      ]
    },
    {
      "cell_type": "code",
      "metadata": {
        "id": "rHXwrIncSvko",
        "colab_type": "code",
        "colab": {
          "base_uri": "https://localhost:8080/",
          "height": 34
        },
        "outputId": "e9a3a310-615f-453c-8d8f-9999540fd8b2"
      },
      "source": [
        "mse = loss(x_test, y_test, W, b)\n",
        "mse"
      ],
      "execution_count": 31,
      "outputs": [
        {
          "output_type": "execute_result",
          "data": {
            "text/plain": [
              "2946.6228758546135"
            ]
          },
          "metadata": {
            "tags": []
          },
          "execution_count": 31
        }
      ]
    },
    {
      "cell_type": "markdown",
      "metadata": {
        "id": "4MNpBsrXSrTx",
        "colab_type": "text"
      },
      "source": [
        "#11. 결과 시각화"
      ]
    },
    {
      "cell_type": "code",
      "metadata": {
        "id": "loD0V3_bStOJ",
        "colab_type": "code",
        "colab": {
          "base_uri": "https://localhost:8080/",
          "height": 265
        },
        "outputId": "0fc978ca-6864-400e-cff6-b4b8ba8d85b3"
      },
      "source": [
        "import matplotlib.pyplot as plt\n",
        "plt.scatter(x_test[:, 0], y_test)\n",
        "prediction=model(x_test,W,b)\n",
        "plt.scatter(x_test[:, 0], prediction)\n",
        "plt.show()\n"
      ],
      "execution_count": 32,
      "outputs": [
        {
          "output_type": "display_data",
          "data": {
            "image/png": "[encoded data removed]",
            "text/plain": [
              "<Figure size 432x288 with 1 Axes>"
            ]
          },
          "metadata": {
            "tags": [],
            "needs_background": "light"
          }
        }
      ]
    },
    {
      "cell_type": "code",
      "metadata": {
        "id": "sZKHxznvZSlu",
        "colab_type": "code",
        "colab": {
          "base_uri": "https://localhost:8080/",
          "height": 286
        },
        "outputId": "1388d52f-0613-4681-f486-623000bb07b1"
      },
      "source": [
        "plt.plot(losses)"
      ],
      "execution_count": 33,
      "outputs": [
        {
          "output_type": "execute_result",
          "data": {
            "text/plain": [
              "[<matplotlib.lines.Line2D at 0x7f39ced0e668>]"
            ]
          },
          "metadata": {
            "tags": []
          },
          "execution_count": 33
        },
        {
          "output_type": "display_data",
          "data": {
            "image/png": "[encoded data removed]",
            "text/plain": [
              "<Figure size 432x288 with 1 Axes>"
            ]
          },
          "metadata": {
            "tags": [],
            "needs_background": "light"
          }
        }
      ]
    },
    {
      "cell_type": "code",
      "metadata": {
        "id": "OaD5kIBhZ0Xb",
        "colab_type": "code",
        "colab": {
          "base_uri": "https://localhost:8080/",
          "height": 51
        },
        "outputId": "41e4bc46-3974-4511-8e66-46cd28c54bce"
      },
      "source": [
        "dW"
      ],
      "execution_count": 34,
      "outputs": [
        {
          "output_type": "execute_result",
          "data": {
            "text/plain": [
              "array([ 0.22728305,  0.47753058, -0.75404538, -0.33841938,  0.97250988,\n",
              "       -0.35968032, -0.31885176,  0.06881674, -1.37934092,  1.16524066])"
            ]
          },
          "metadata": {
            "tags": []
          },
          "execution_count": 34
        }
      ]
    },
    {
      "cell_type": "code",
      "metadata": {
        "id": "AxvDhtJnaZ2Q",
        "colab_type": "code",
        "colab": {
          "base_uri": "https://localhost:8080/",
          "height": 34
        },
        "outputId": "ce70cf85-5883-46cd-e372-6b4518e3b29f"
      },
      "source": [
        ""
      ],
      "execution_count": null,
      "outputs": [
        {
          "output_type": "execute_result",
          "data": {
            "text/plain": [
              "89"
            ]
          },
          "metadata": {
            "tags": []
          },
          "execution_count": 88
        }
      ]
    },
    {
      "cell_type": "code",
      "metadata": {
        "id": "sN_YFyBicEt0",
        "colab_type": "code",
        "colab": {
          "base_uri": "https://localhost:8080/",
          "height": 34
        },
        "outputId": "4de9509f-b2a2-4d38-dea1-31a82bcf3671"
      },
      "source": [
        ""
      ],
      "execution_count": null,
      "outputs": [
        {
          "output_type": "execute_result",
          "data": {
            "text/plain": [
              "89"
            ]
          },
          "metadata": {
            "tags": []
          },
          "execution_count": 87
        }
      ]
    },
    {
      "cell_type": "code",
      "metadata": {
        "id": "9-C5k4CMcGMU",
        "colab_type": "code",
        "colab": {}
      },
      "source": [
        ""
      ],
      "execution_count": null,
      "outputs": []
    }
  ]
}