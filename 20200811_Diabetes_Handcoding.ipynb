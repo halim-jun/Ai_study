{
  "nbformat": 4,
  "nbformat_minor": 0,
  "metadata": {
    "colab": {
      "name": "20200811_Diabetes_Handcoding.ipynb",
      "provenance": [],
      "collapsed_sections": [],
      "authorship_tag": "ABX9TyMiK6HFGPQLfPqf79OAQka/",
      "include_colab_link": true
    },
    "kernelspec": {
      "name": "python3",
      "display_name": "Python 3"
    }
  },
  "cells": [
    {
      "cell_type": "markdown",
      "metadata": {
        "id": "view-in-github",
        "colab_type": "text"
      },
      "source": [
        "<a href=\"https://colab.research.google.com/github/halim-jun/Ai_study/blob/master/20200811_Diabetes_Handcoding.ipynb\" target=\"_parent\"><img src=\"https://colab.research.google.com/assets/colab-badge.svg\" alt=\"Open In Colab\"/></a>"
      ]
    },
    {
      "cell_type": "markdown",
      "metadata": {
        "id": "Rr21YYGjNkct",
        "colab_type": "text"
      },
      "source": [
        "#1. 데이터 가져오기"
      ]
    },
    {
      "cell_type": "code",
      "metadata": {
        "id": "c1qPr5w8Nije",
        "colab_type": "code",
        "colab": {
          "base_uri": "https://localhost:8080/",
          "height": 34
        },
        "outputId": "d559c165-1b2b-45b9-9349-21d97b440c04"
      },
      "source": [
        "import seaborn as sns\n",
        "import sklearn\n",
        "from sklearn.datasets import load_diabetes\n",
        "import pandas as pd\n",
        "import numpy as np\n",
        "import sklearn.metrics\n",
        "from sklearn.metrics import accuracy_score\n",
        "diabetes=load_diabetes()\n",
        "diabetes.keys()\n"
      ],
      "execution_count": 83,
      "outputs": [
        {
          "output_type": "execute_result",
          "data": {
            "text/plain": [
              "dict_keys(['data', 'target', 'DESCR', 'feature_names', 'data_filename', 'target_filename'])"
            ]
          },
          "metadata": {
            "tags": []
          },
          "execution_count": 83
        }
      ]
    },
    {
      "cell_type": "code",
      "metadata": {
        "id": "FNfDS1M4N-Hl",
        "colab_type": "code",
        "colab": {}
      },
      "source": [
        "df_X=diabetes.data\n",
        "df_Y=diabetes.target"
      ],
      "execution_count": 7,
      "outputs": []
    },
    {
      "cell_type": "code",
      "metadata": {
        "id": "qLA1eqGNQAtA",
        "colab_type": "code",
        "colab": {
          "base_uri": "https://localhost:8080/",
          "height": 323
        },
        "outputId": "20479afa-a3d6-4eb9-8559-0eb7dbdd0eaf"
      },
      "source": [
        "df_X[1:10,:]"
      ],
      "execution_count": 20,
      "outputs": [
        {
          "output_type": "execute_result",
          "data": {
            "text/plain": [
              "array([[-0.00188202, -0.04464164, -0.05147406, -0.02632783, -0.00844872,\n",
              "        -0.01916334,  0.07441156, -0.03949338, -0.06832974, -0.09220405],\n",
              "       [ 0.08529891,  0.05068012,  0.04445121, -0.00567061, -0.04559945,\n",
              "        -0.03419447, -0.03235593, -0.00259226,  0.00286377, -0.02593034],\n",
              "       [-0.08906294, -0.04464164, -0.01159501, -0.03665645,  0.01219057,\n",
              "         0.02499059, -0.03603757,  0.03430886,  0.02269202, -0.00936191],\n",
              "       [ 0.00538306, -0.04464164, -0.03638469,  0.02187235,  0.00393485,\n",
              "         0.01559614,  0.00814208, -0.00259226, -0.03199144, -0.04664087],\n",
              "       [-0.09269548, -0.04464164, -0.04069594, -0.01944209, -0.06899065,\n",
              "        -0.07928784,  0.04127682, -0.0763945 , -0.04118039, -0.09634616],\n",
              "       [-0.04547248,  0.05068012, -0.04716281, -0.01599922, -0.04009564,\n",
              "        -0.02480001,  0.00077881, -0.03949338, -0.06291295, -0.03835666],\n",
              "       [ 0.06350368,  0.05068012, -0.00189471,  0.06662967,  0.09061988,\n",
              "         0.10891438,  0.02286863,  0.01770335, -0.03581673,  0.00306441],\n",
              "       [ 0.04170844,  0.05068012,  0.06169621, -0.04009932, -0.01395254,\n",
              "         0.00620169, -0.02867429, -0.00259226, -0.01495648,  0.01134862],\n",
              "       [-0.07090025, -0.04464164,  0.03906215, -0.03321358, -0.01257658,\n",
              "        -0.03450761, -0.02499266, -0.00259226,  0.06773633, -0.01350402]])"
            ]
          },
          "metadata": {
            "tags": []
          },
          "execution_count": 20
        }
      ]
    },
    {
      "cell_type": "markdown",
      "metadata": {
        "id": "J6Vj4rGOOfHF",
        "colab_type": "text"
      },
      "source": [
        "# 2-3. 데이터 타입 변환하기 : 이미 numpy array 이기에 변환하지 않음"
      ]
    },
    {
      "cell_type": "code",
      "metadata": {
        "id": "Czr6-RYqOBRt",
        "colab_type": "code",
        "colab": {
          "base_uri": "https://localhost:8080/",
          "height": 34
        },
        "outputId": "0ce676f8-2b88-485b-e6d4-2937bfdebc3b"
      },
      "source": [
        "type(df_X)\n",
        "type(df_Y)"
      ],
      "execution_count": 13,
      "outputs": [
        {
          "output_type": "execute_result",
          "data": {
            "text/plain": [
              "numpy.ndarray"
            ]
          },
          "metadata": {
            "tags": []
          },
          "execution_count": 13
        }
      ]
    },
    {
      "cell_type": "markdown",
      "metadata": {
        "id": "Q0FdiftwOvRR",
        "colab_type": "text"
      },
      "source": [
        "# 4.  트레인/테스트 스플릿"
      ]
    },
    {
      "cell_type": "code",
      "metadata": {
        "id": "PWoGR65FOu8C",
        "colab_type": "code",
        "colab": {}
      },
      "source": [
        "from sklearn.model_selection import train_test_split"
      ],
      "execution_count": 14,
      "outputs": []
    },
    {
      "cell_type": "code",
      "metadata": {
        "id": "ERGNfX3rNgkg",
        "colab_type": "code",
        "colab": {}
      },
      "source": [
        "(x_train, x_test, y_train, y_test)=train_test_split(df_X, df_Y, random_state=10, test_size=0.2)"
      ],
      "execution_count": 17,
      "outputs": []
    },
    {
      "cell_type": "code",
      "metadata": {
        "id": "wigGScbiPrqV",
        "colab_type": "code",
        "colab": {
          "base_uri": "https://localhost:8080/",
          "height": 34
        },
        "outputId": "efb37706-b160-4383-8f0d-b63bd160f38f"
      },
      "source": [
        "x_test.shape\n",
        "x_train.shape\n",
        "y_train.shape"
      ],
      "execution_count": 46,
      "outputs": [
        {
          "output_type": "execute_result",
          "data": {
            "text/plain": [
              "(353,)"
            ]
          },
          "metadata": {
            "tags": []
          },
          "execution_count": 46
        }
      ]
    },
    {
      "cell_type": "markdown",
      "metadata": {
        "id": "prVzOq5CQdWP",
        "colab_type": "text"
      },
      "source": [
        "#5. 모델 준비하기"
      ]
    },
    {
      "cell_type": "code",
      "metadata": {
        "id": "tbw9H0WRQ8gn",
        "colab_type": "code",
        "colab": {}
      },
      "source": [
        "def model(X,w,b):\n",
        "  prediction=0\n",
        "  for i in range(10):\n",
        "    prediction+=X[:, i]*w[i] #모든 X 에 대해서 예측값 도출\n",
        "  prediction+=b\n",
        "  return prediction"
      ],
      "execution_count": 39,
      "outputs": []
    },
    {
      "cell_type": "markdown",
      "metadata": {
        "id": "fN_17S5bQ3Xo",
        "colab_type": "text"
      },
      "source": [
        "#6. 손실함수 준비하기"
      ]
    },
    {
      "cell_type": "code",
      "metadata": {
        "id": "975btENbRgUP",
        "colab_type": "code",
        "colab": {}
      },
      "source": [
        "def MSE(a,b):\n",
        "  mse=((a-b)**2).mean()\n",
        "  return mse\n",
        "def loss(x,y,w,b):\n",
        "  prediction=model(x,y,b)\n",
        "  L=MSE(prediction, y)\n",
        "  return L"
      ],
      "execution_count": 40,
      "outputs": []
    },
    {
      "cell_type": "markdown",
      "metadata": {
        "id": "zb1GvW6sR9UK",
        "colab_type": "text"
      },
      "source": [
        "#7. Gradient 구하기"
      ]
    },
    {
      "cell_type": "code",
      "metadata": {
        "id": "OC5UX1D-XoHh",
        "colab_type": "code",
        "colab": {}
      },
      "source": [
        ""
      ],
      "execution_count": 51,
      "outputs": []
    },
    {
      "cell_type": "code",
      "metadata": {
        "id": "c37jKcLuRe-C",
        "colab_type": "code",
        "colab": {}
      },
      "source": [
        "def gradient(X, W, b, y):\n",
        "    N = len(W)\n",
        "    \n",
        "    y_pred = model(X, W, b)\n",
        "    \n",
        "    dW = 1/N * 2 * X.T.dot(y_pred - y)\n",
        "        \n",
        "    db = 2 * (y_pred - y).mean()\n",
        "    return dW, db"
      ],
      "execution_count": 52,
      "outputs": []
    },
    {
      "cell_type": "markdown",
      "metadata": {
        "id": "kymdtccvSB4X",
        "colab_type": "text"
      },
      "source": [
        "#8. Learning rate 구하기"
      ]
    },
    {
      "cell_type": "code",
      "metadata": {
        "id": "-aP2MSafSBja",
        "colab_type": "code",
        "colab": {}
      },
      "source": [
        "LEARNING_RATE = 0.0006"
      ],
      "execution_count": 67,
      "outputs": []
    },
    {
      "cell_type": "markdown",
      "metadata": {
        "id": "MxlWJsC4SCwk",
        "colab_type": "text"
      },
      "source": [
        "# 9. 모델 학습하기"
      ]
    },
    {
      "cell_type": "code",
      "metadata": {
        "id": "3PZhtYDESCRs",
        "colab_type": "code",
        "colab": {
          "base_uri": "https://localhost:8080/",
          "height": 1000
        },
        "outputId": "e5e2bd06-5990-4153-8be5-70aa29de2453"
      },
      "source": [
        "losses = []\n",
        "W=[2,2,2,2,2,2,2,2,2,2]\n",
        "b=1\n",
        "\n",
        "for i in range(1, 6000):\n",
        "    dW, db = gradient(x_train, W, b, y_train)\n",
        "    W -= LEARNING_RATE * dW\n",
        "    b -= LEARNING_RATE * db\n",
        "    L = loss(x_train, y_train,W,b)\n",
        "    losses.append(L)\n",
        "    if i % 10 == 0:\n",
        "        print('Iteration %d : Loss %0.4f' % (i, L))\n"
      ],
      "execution_count": 68,
      "outputs": [
        {
          "output_type": "stream",
          "text": [
            "Iteration 10 : Loss 27249.2985\n",
            "Iteration 20 : Loss 26717.6489\n",
            "Iteration 30 : Loss 26198.6650\n",
            "Iteration 40 : Loss 25692.0455\n",
            "Iteration 50 : Loss 25197.4959\n",
            "Iteration 60 : Loss 24714.7292\n",
            "Iteration 70 : Loss 24243.4647\n",
            "Iteration 80 : Loss 23783.4289\n",
            "Iteration 90 : Loss 23334.3543\n",
            "Iteration 100 : Loss 22895.9802\n",
            "Iteration 110 : Loss 22468.0517\n",
            "Iteration 120 : Loss 22050.3204\n",
            "Iteration 130 : Loss 21642.5433\n",
            "Iteration 140 : Loss 21244.4837\n",
            "Iteration 150 : Loss 20855.9102\n",
            "Iteration 160 : Loss 20476.5969\n",
            "Iteration 170 : Loss 20106.3234\n",
            "Iteration 180 : Loss 19744.8745\n",
            "Iteration 190 : Loss 19392.0402\n",
            "Iteration 200 : Loss 19047.6154\n",
            "Iteration 210 : Loss 18711.3998\n",
            "Iteration 220 : Loss 18383.1979\n",
            "Iteration 230 : Loss 18062.8191\n",
            "Iteration 240 : Loss 17750.0771\n",
            "Iteration 250 : Loss 17444.7900\n",
            "Iteration 260 : Loss 17146.7803\n",
            "Iteration 270 : Loss 16855.8748\n",
            "Iteration 280 : Loss 16571.9042\n",
            "Iteration 290 : Loss 16294.7035\n",
            "Iteration 300 : Loss 16024.1115\n",
            "Iteration 310 : Loss 15759.9708\n",
            "Iteration 320 : Loss 15502.1278\n",
            "Iteration 330 : Loss 15250.4324\n",
            "Iteration 340 : Loss 15004.7384\n",
            "Iteration 350 : Loss 14764.9027\n",
            "Iteration 360 : Loss 14530.7859\n",
            "Iteration 370 : Loss 14302.2518\n",
            "Iteration 380 : Loss 14079.1674\n",
            "Iteration 390 : Loss 13861.4029\n",
            "Iteration 400 : Loss 13648.8316\n",
            "Iteration 410 : Loss 13441.3299\n",
            "Iteration 420 : Loss 13238.7769\n",
            "Iteration 430 : Loss 13041.0548\n",
            "Iteration 440 : Loss 12848.0486\n",
            "Iteration 450 : Loss 12659.6458\n",
            "Iteration 460 : Loss 12475.7369\n",
            "Iteration 470 : Loss 12296.2148\n",
            "Iteration 480 : Loss 12120.9750\n",
            "Iteration 490 : Loss 11949.9155\n",
            "Iteration 500 : Loss 11782.9366\n",
            "Iteration 510 : Loss 11619.9413\n",
            "Iteration 520 : Loss 11460.8345\n",
            "Iteration 530 : Loss 11305.5236\n",
            "Iteration 540 : Loss 11153.9182\n",
            "Iteration 550 : Loss 11005.9301\n",
            "Iteration 560 : Loss 10861.4729\n",
            "Iteration 570 : Loss 10720.4627\n",
            "Iteration 580 : Loss 10582.8172\n",
            "Iteration 590 : Loss 10448.4562\n",
            "Iteration 600 : Loss 10317.3016\n",
            "Iteration 610 : Loss 10189.2769\n",
            "Iteration 620 : Loss 10064.3075\n",
            "Iteration 630 : Loss 9942.3206\n",
            "Iteration 640 : Loss 9823.2451\n",
            "Iteration 650 : Loss 9707.0117\n",
            "Iteration 660 : Loss 9593.5526\n",
            "Iteration 670 : Loss 9482.8016\n",
            "Iteration 680 : Loss 9374.6943\n",
            "Iteration 690 : Loss 9269.1677\n",
            "Iteration 700 : Loss 9166.1601\n",
            "Iteration 710 : Loss 9065.6116\n",
            "Iteration 720 : Loss 8967.4636\n",
            "Iteration 730 : Loss 8871.6588\n",
            "Iteration 740 : Loss 8778.1414\n",
            "Iteration 750 : Loss 8686.8568\n",
            "Iteration 760 : Loss 8597.7519\n",
            "Iteration 770 : Loss 8510.7746\n",
            "Iteration 780 : Loss 8425.8742\n",
            "Iteration 790 : Loss 8343.0013\n",
            "Iteration 800 : Loss 8262.1074\n",
            "Iteration 810 : Loss 8183.1454\n",
            "Iteration 820 : Loss 8106.0692\n",
            "Iteration 830 : Loss 8030.8338\n",
            "Iteration 840 : Loss 7957.3955\n",
            "Iteration 850 : Loss 7885.7112\n",
            "Iteration 860 : Loss 7815.7392\n",
            "Iteration 870 : Loss 7747.4386\n",
            "Iteration 880 : Loss 7680.7697\n",
            "Iteration 890 : Loss 7615.6934\n",
            "Iteration 900 : Loss 7552.1718\n",
            "Iteration 910 : Loss 7490.1678\n",
            "Iteration 920 : Loss 7429.6452\n",
            "Iteration 930 : Loss 7370.5686\n",
            "Iteration 940 : Loss 7312.9037\n",
            "Iteration 950 : Loss 7256.6167\n",
            "Iteration 960 : Loss 7201.6747\n",
            "Iteration 970 : Loss 7148.0456\n",
            "Iteration 980 : Loss 7095.6982\n",
            "Iteration 990 : Loss 7044.6019\n",
            "Iteration 1000 : Loss 6994.7267\n",
            "Iteration 1010 : Loss 6946.0436\n",
            "Iteration 1020 : Loss 6898.5242\n",
            "Iteration 1030 : Loss 6852.1406\n",
            "Iteration 1040 : Loss 6806.8658\n",
            "Iteration 1050 : Loss 6762.6733\n",
            "Iteration 1060 : Loss 6719.5372\n",
            "Iteration 1070 : Loss 6677.4325\n",
            "Iteration 1080 : Loss 6636.3344\n",
            "Iteration 1090 : Loss 6596.2189\n",
            "Iteration 1100 : Loss 6557.0626\n",
            "Iteration 1110 : Loss 6518.8426\n",
            "Iteration 1120 : Loss 6481.5365\n",
            "Iteration 1130 : Loss 6445.1226\n",
            "Iteration 1140 : Loss 6409.5794\n",
            "Iteration 1150 : Loss 6374.8864\n",
            "Iteration 1160 : Loss 6341.0231\n",
            "Iteration 1170 : Loss 6307.9697\n",
            "Iteration 1180 : Loss 6275.7069\n",
            "Iteration 1190 : Loss 6244.2159\n",
            "Iteration 1200 : Loss 6213.4782\n",
            "Iteration 1210 : Loss 6183.4758\n",
            "Iteration 1220 : Loss 6154.1912\n",
            "Iteration 1230 : Loss 6125.6072\n",
            "Iteration 1240 : Loss 6097.7071\n",
            "Iteration 1250 : Loss 6070.4745\n",
            "Iteration 1260 : Loss 6043.8936\n",
            "Iteration 1270 : Loss 6017.9488\n",
            "Iteration 1280 : Loss 5992.6248\n",
            "Iteration 1290 : Loss 5967.9069\n",
            "Iteration 1300 : Loss 5943.7805\n",
            "Iteration 1310 : Loss 5920.2316\n",
            "Iteration 1320 : Loss 5897.2463\n",
            "Iteration 1330 : Loss 5874.8112\n",
            "Iteration 1340 : Loss 5852.9132\n",
            "Iteration 1350 : Loss 5831.5393\n",
            "Iteration 1360 : Loss 5810.6772\n",
            "Iteration 1370 : Loss 5790.3145\n",
            "Iteration 1380 : Loss 5770.4393\n",
            "Iteration 1390 : Loss 5751.0400\n",
            "Iteration 1400 : Loss 5732.1052\n",
            "Iteration 1410 : Loss 5713.6239\n",
            "Iteration 1420 : Loss 5695.5851\n",
            "Iteration 1430 : Loss 5677.9783\n",
            "Iteration 1440 : Loss 5660.7931\n",
            "Iteration 1450 : Loss 5644.0196\n",
            "Iteration 1460 : Loss 5627.6478\n",
            "Iteration 1470 : Loss 5611.6682\n",
            "Iteration 1480 : Loss 5596.0714\n",
            "Iteration 1490 : Loss 5580.8482\n",
            "Iteration 1500 : Loss 5565.9897\n",
            "Iteration 1510 : Loss 5551.4872\n",
            "Iteration 1520 : Loss 5537.3322\n",
            "Iteration 1530 : Loss 5523.5163\n",
            "Iteration 1540 : Loss 5510.0315\n",
            "Iteration 1550 : Loss 5496.8698\n",
            "Iteration 1560 : Loss 5484.0236\n",
            "Iteration 1570 : Loss 5471.4852\n",
            "Iteration 1580 : Loss 5459.2473\n",
            "Iteration 1590 : Loss 5447.3027\n",
            "Iteration 1600 : Loss 5435.6445\n",
            "Iteration 1610 : Loss 5424.2657\n",
            "Iteration 1620 : Loss 5413.1597\n",
            "Iteration 1630 : Loss 5402.3199\n",
            "Iteration 1640 : Loss 5391.7401\n",
            "Iteration 1650 : Loss 5381.4138\n",
            "Iteration 1660 : Loss 5371.3352\n",
            "Iteration 1670 : Loss 5361.4983\n",
            "Iteration 1680 : Loss 5351.8972\n",
            "Iteration 1690 : Loss 5342.5265\n",
            "Iteration 1700 : Loss 5333.3804\n",
            "Iteration 1710 : Loss 5324.4537\n",
            "Iteration 1720 : Loss 5315.7411\n",
            "Iteration 1730 : Loss 5307.2375\n",
            "Iteration 1740 : Loss 5298.9379\n",
            "Iteration 1750 : Loss 5290.8374\n",
            "Iteration 1760 : Loss 5282.9312\n",
            "Iteration 1770 : Loss 5275.2148\n",
            "Iteration 1780 : Loss 5267.6834\n",
            "Iteration 1790 : Loss 5260.3328\n",
            "Iteration 1800 : Loss 5253.1586\n",
            "Iteration 1810 : Loss 5246.1565\n",
            "Iteration 1820 : Loss 5239.3225\n",
            "Iteration 1830 : Loss 5232.6525\n",
            "Iteration 1840 : Loss 5226.1426\n",
            "Iteration 1850 : Loss 5219.7890\n",
            "Iteration 1860 : Loss 5213.5878\n",
            "Iteration 1870 : Loss 5207.5356\n",
            "Iteration 1880 : Loss 5201.6286\n",
            "Iteration 1890 : Loss 5195.8635\n",
            "Iteration 1900 : Loss 5190.2368\n",
            "Iteration 1910 : Loss 5184.7451\n",
            "Iteration 1920 : Loss 5179.3854\n",
            "Iteration 1930 : Loss 5174.1544\n",
            "Iteration 1940 : Loss 5169.0490\n",
            "Iteration 1950 : Loss 5164.0662\n",
            "Iteration 1960 : Loss 5159.2031\n",
            "Iteration 1970 : Loss 5154.4568\n",
            "Iteration 1980 : Loss 5149.8245\n",
            "Iteration 1990 : Loss 5145.3035\n",
            "Iteration 2000 : Loss 5140.8911\n",
            "Iteration 2010 : Loss 5136.5848\n",
            "Iteration 2020 : Loss 5132.3818\n",
            "Iteration 2030 : Loss 5128.2799\n",
            "Iteration 2040 : Loss 5124.2766\n",
            "Iteration 2050 : Loss 5120.3694\n",
            "Iteration 2060 : Loss 5116.5562\n",
            "Iteration 2070 : Loss 5112.8346\n",
            "Iteration 2080 : Loss 5109.2025\n",
            "Iteration 2090 : Loss 5105.6576\n",
            "Iteration 2100 : Loss 5102.1980\n",
            "Iteration 2110 : Loss 5098.8216\n",
            "Iteration 2120 : Loss 5095.5263\n",
            "Iteration 2130 : Loss 5092.3102\n",
            "Iteration 2140 : Loss 5089.1715\n",
            "Iteration 2150 : Loss 5086.1083\n",
            "Iteration 2160 : Loss 5083.1187\n",
            "Iteration 2170 : Loss 5080.2010\n",
            "Iteration 2180 : Loss 5077.3534\n",
            "Iteration 2190 : Loss 5074.5744\n",
            "Iteration 2200 : Loss 5071.8622\n",
            "Iteration 2210 : Loss 5069.2153\n",
            "Iteration 2220 : Loss 5066.6320\n",
            "Iteration 2230 : Loss 5064.1108\n",
            "Iteration 2240 : Loss 5061.6503\n",
            "Iteration 2250 : Loss 5059.2491\n",
            "Iteration 2260 : Loss 5056.9056\n",
            "Iteration 2270 : Loss 5054.6184\n",
            "Iteration 2280 : Loss 5052.3864\n",
            "Iteration 2290 : Loss 5050.2080\n",
            "Iteration 2300 : Loss 5048.0821\n",
            "Iteration 2310 : Loss 5046.0073\n",
            "Iteration 2320 : Loss 5043.9824\n",
            "Iteration 2330 : Loss 5042.0064\n",
            "Iteration 2340 : Loss 5040.0778\n",
            "Iteration 2350 : Loss 5038.1957\n",
            "Iteration 2360 : Loss 5036.3589\n",
            "Iteration 2370 : Loss 5034.5664\n",
            "Iteration 2380 : Loss 5032.8170\n",
            "Iteration 2390 : Loss 5031.1097\n",
            "Iteration 2400 : Loss 5029.4435\n",
            "Iteration 2410 : Loss 5027.8175\n",
            "Iteration 2420 : Loss 5026.2306\n",
            "Iteration 2430 : Loss 5024.6819\n",
            "Iteration 2440 : Loss 5023.1706\n",
            "Iteration 2450 : Loss 5021.6956\n",
            "Iteration 2460 : Loss 5020.2562\n",
            "Iteration 2470 : Loss 5018.8514\n",
            "Iteration 2480 : Loss 5017.4805\n",
            "Iteration 2490 : Loss 5016.1426\n",
            "Iteration 2500 : Loss 5014.8370\n",
            "Iteration 2510 : Loss 5013.5628\n",
            "Iteration 2520 : Loss 5012.3193\n",
            "Iteration 2530 : Loss 5011.1058\n",
            "Iteration 2540 : Loss 5009.9215\n",
            "Iteration 2550 : Loss 5008.7657\n",
            "Iteration 2560 : Loss 5007.6379\n",
            "Iteration 2570 : Loss 5006.5372\n",
            "Iteration 2580 : Loss 5005.4630\n",
            "Iteration 2590 : Loss 5004.4147\n",
            "Iteration 2600 : Loss 5003.3917\n",
            "Iteration 2610 : Loss 5002.3933\n",
            "Iteration 2620 : Loss 5001.4191\n",
            "Iteration 2630 : Loss 5000.4683\n",
            "Iteration 2640 : Loss 4999.5404\n",
            "Iteration 2650 : Loss 4998.6349\n",
            "Iteration 2660 : Loss 4997.7513\n",
            "Iteration 2670 : Loss 4996.8889\n",
            "Iteration 2680 : Loss 4996.0473\n",
            "Iteration 2690 : Loss 4995.2261\n",
            "Iteration 2700 : Loss 4994.4246\n",
            "Iteration 2710 : Loss 4993.6425\n",
            "Iteration 2720 : Loss 4992.8792\n",
            "Iteration 2730 : Loss 4992.1344\n",
            "Iteration 2740 : Loss 4991.4075\n",
            "Iteration 2750 : Loss 4990.6982\n",
            "Iteration 2760 : Loss 4990.0059\n",
            "Iteration 2770 : Loss 4989.3304\n",
            "Iteration 2780 : Loss 4988.6711\n",
            "Iteration 2790 : Loss 4988.0278\n",
            "Iteration 2800 : Loss 4987.4000\n",
            "Iteration 2810 : Loss 4986.7873\n",
            "Iteration 2820 : Loss 4986.1894\n",
            "Iteration 2830 : Loss 4985.6060\n",
            "Iteration 2840 : Loss 4985.0366\n",
            "Iteration 2850 : Loss 4984.4809\n",
            "Iteration 2860 : Loss 4983.9387\n",
            "Iteration 2870 : Loss 4983.4096\n",
            "Iteration 2880 : Loss 4982.8932\n",
            "Iteration 2890 : Loss 4982.3893\n",
            "Iteration 2900 : Loss 4981.8975\n",
            "Iteration 2910 : Loss 4981.4176\n",
            "Iteration 2920 : Loss 4980.9493\n",
            "Iteration 2930 : Loss 4980.4923\n",
            "Iteration 2940 : Loss 4980.0464\n",
            "Iteration 2950 : Loss 4979.6112\n",
            "Iteration 2960 : Loss 4979.1865\n",
            "Iteration 2970 : Loss 4978.7720\n",
            "Iteration 2980 : Loss 4978.3676\n",
            "Iteration 2990 : Loss 4977.9729\n",
            "Iteration 3000 : Loss 4977.5878\n",
            "Iteration 3010 : Loss 4977.2119\n",
            "Iteration 3020 : Loss 4976.8451\n",
            "Iteration 3030 : Loss 4976.4872\n",
            "Iteration 3040 : Loss 4976.1379\n",
            "Iteration 3050 : Loss 4975.7971\n",
            "Iteration 3060 : Loss 4975.4644\n",
            "Iteration 3070 : Loss 4975.1398\n",
            "Iteration 3080 : Loss 4974.8231\n",
            "Iteration 3090 : Loss 4974.5140\n",
            "Iteration 3100 : Loss 4974.2123\n",
            "Iteration 3110 : Loss 4973.9180\n",
            "Iteration 3120 : Loss 4973.6307\n",
            "Iteration 3130 : Loss 4973.3504\n",
            "Iteration 3140 : Loss 4973.0768\n",
            "Iteration 3150 : Loss 4972.8099\n",
            "Iteration 3160 : Loss 4972.5494\n",
            "Iteration 3170 : Loss 4972.2952\n",
            "Iteration 3180 : Loss 4972.0471\n",
            "Iteration 3190 : Loss 4971.8050\n",
            "Iteration 3200 : Loss 4971.5688\n",
            "Iteration 3210 : Loss 4971.3382\n",
            "Iteration 3220 : Loss 4971.1133\n",
            "Iteration 3230 : Loss 4970.8937\n",
            "Iteration 3240 : Loss 4970.6795\n",
            "Iteration 3250 : Loss 4970.4704\n",
            "Iteration 3260 : Loss 4970.2664\n",
            "Iteration 3270 : Loss 4970.0673\n",
            "Iteration 3280 : Loss 4969.8730\n",
            "Iteration 3290 : Loss 4969.6834\n",
            "Iteration 3300 : Loss 4969.4983\n",
            "Iteration 3310 : Loss 4969.3178\n",
            "Iteration 3320 : Loss 4969.1416\n",
            "Iteration 3330 : Loss 4968.9696\n",
            "Iteration 3340 : Loss 4968.8018\n",
            "Iteration 3350 : Loss 4968.6381\n",
            "Iteration 3360 : Loss 4968.4783\n",
            "Iteration 3370 : Loss 4968.3223\n",
            "Iteration 3380 : Loss 4968.1702\n",
            "Iteration 3390 : Loss 4968.0216\n",
            "Iteration 3400 : Loss 4967.8767\n",
            "Iteration 3410 : Loss 4967.7353\n",
            "Iteration 3420 : Loss 4967.5973\n",
            "Iteration 3430 : Loss 4967.4626\n",
            "Iteration 3440 : Loss 4967.3311\n",
            "Iteration 3450 : Loss 4967.2029\n",
            "Iteration 3460 : Loss 4967.0777\n",
            "Iteration 3470 : Loss 4966.9555\n",
            "Iteration 3480 : Loss 4966.8363\n",
            "Iteration 3490 : Loss 4966.7200\n",
            "Iteration 3500 : Loss 4966.6065\n",
            "Iteration 3510 : Loss 4966.4957\n",
            "Iteration 3520 : Loss 4966.3875\n",
            "Iteration 3530 : Loss 4966.2820\n",
            "Iteration 3540 : Loss 4966.1791\n",
            "Iteration 3550 : Loss 4966.0786\n",
            "Iteration 3560 : Loss 4965.9805\n",
            "Iteration 3570 : Loss 4965.8848\n",
            "Iteration 3580 : Loss 4965.7914\n",
            "Iteration 3590 : Loss 4965.7002\n",
            "Iteration 3600 : Loss 4965.6113\n",
            "Iteration 3610 : Loss 4965.5245\n",
            "Iteration 3620 : Loss 4965.4397\n",
            "Iteration 3630 : Loss 4965.3571\n",
            "Iteration 3640 : Loss 4965.2764\n",
            "Iteration 3650 : Loss 4965.1976\n",
            "Iteration 3660 : Loss 4965.1208\n",
            "Iteration 3670 : Loss 4965.0458\n",
            "Iteration 3680 : Loss 4964.9726\n",
            "Iteration 3690 : Loss 4964.9011\n",
            "Iteration 3700 : Loss 4964.8314\n",
            "Iteration 3710 : Loss 4964.7634\n",
            "Iteration 3720 : Loss 4964.6970\n",
            "Iteration 3730 : Loss 4964.6321\n",
            "Iteration 3740 : Loss 4964.5689\n",
            "Iteration 3750 : Loss 4964.5072\n",
            "Iteration 3760 : Loss 4964.4469\n",
            "Iteration 3770 : Loss 4964.3881\n",
            "Iteration 3780 : Loss 4964.3307\n",
            "Iteration 3790 : Loss 4964.2747\n",
            "Iteration 3800 : Loss 4964.2201\n",
            "Iteration 3810 : Loss 4964.1667\n",
            "Iteration 3820 : Loss 4964.1146\n",
            "Iteration 3830 : Loss 4964.0638\n",
            "Iteration 3840 : Loss 4964.0142\n",
            "Iteration 3850 : Loss 4963.9658\n",
            "Iteration 3860 : Loss 4963.9186\n",
            "Iteration 3870 : Loss 4963.8724\n",
            "Iteration 3880 : Loss 4963.8274\n",
            "Iteration 3890 : Loss 4963.7835\n",
            "Iteration 3900 : Loss 4963.7406\n",
            "Iteration 3910 : Loss 4963.6988\n",
            "Iteration 3920 : Loss 4963.6579\n",
            "Iteration 3930 : Loss 4963.6181\n",
            "Iteration 3940 : Loss 4963.5791\n",
            "Iteration 3950 : Loss 4963.5412\n",
            "Iteration 3960 : Loss 4963.5041\n",
            "Iteration 3970 : Loss 4963.4679\n",
            "Iteration 3980 : Loss 4963.4326\n",
            "Iteration 3990 : Loss 4963.3981\n",
            "Iteration 4000 : Loss 4963.3644\n",
            "Iteration 4010 : Loss 4963.3316\n",
            "Iteration 4020 : Loss 4963.2995\n",
            "Iteration 4030 : Loss 4963.2682\n",
            "Iteration 4040 : Loss 4963.2377\n",
            "Iteration 4050 : Loss 4963.2078\n",
            "Iteration 4060 : Loss 4963.1787\n",
            "Iteration 4070 : Loss 4963.1503\n",
            "Iteration 4080 : Loss 4963.1226\n",
            "Iteration 4090 : Loss 4963.0955\n",
            "Iteration 4100 : Loss 4963.0691\n",
            "Iteration 4110 : Loss 4963.0432\n",
            "Iteration 4120 : Loss 4963.0181\n",
            "Iteration 4130 : Loss 4962.9935\n",
            "Iteration 4140 : Loss 4962.9695\n",
            "Iteration 4150 : Loss 4962.9460\n",
            "Iteration 4160 : Loss 4962.9231\n",
            "Iteration 4170 : Loss 4962.9008\n",
            "Iteration 4180 : Loss 4962.8790\n",
            "Iteration 4190 : Loss 4962.8577\n",
            "Iteration 4200 : Loss 4962.8369\n",
            "Iteration 4210 : Loss 4962.8166\n",
            "Iteration 4220 : Loss 4962.7968\n",
            "Iteration 4230 : Loss 4962.7775\n",
            "Iteration 4240 : Loss 4962.7586\n",
            "Iteration 4250 : Loss 4962.7402\n",
            "Iteration 4260 : Loss 4962.7222\n",
            "Iteration 4270 : Loss 4962.7046\n",
            "Iteration 4280 : Loss 4962.6875\n",
            "Iteration 4290 : Loss 4962.6707\n",
            "Iteration 4300 : Loss 4962.6544\n",
            "Iteration 4310 : Loss 4962.6384\n",
            "Iteration 4320 : Loss 4962.6228\n",
            "Iteration 4330 : Loss 4962.6076\n",
            "Iteration 4340 : Loss 4962.5927\n",
            "Iteration 4350 : Loss 4962.5782\n",
            "Iteration 4360 : Loss 4962.5640\n",
            "Iteration 4370 : Loss 4962.5502\n",
            "Iteration 4380 : Loss 4962.5367\n",
            "Iteration 4390 : Loss 4962.5235\n",
            "Iteration 4400 : Loss 4962.5106\n",
            "Iteration 4410 : Loss 4962.4980\n",
            "Iteration 4420 : Loss 4962.4857\n",
            "Iteration 4430 : Loss 4962.4737\n",
            "Iteration 4440 : Loss 4962.4620\n",
            "Iteration 4450 : Loss 4962.4506\n",
            "Iteration 4460 : Loss 4962.4394\n",
            "Iteration 4470 : Loss 4962.4285\n",
            "Iteration 4480 : Loss 4962.4178\n",
            "Iteration 4490 : Loss 4962.4074\n",
            "Iteration 4500 : Loss 4962.3972\n",
            "Iteration 4510 : Loss 4962.3873\n",
            "Iteration 4520 : Loss 4962.3776\n",
            "Iteration 4530 : Loss 4962.3681\n",
            "Iteration 4540 : Loss 4962.3589\n",
            "Iteration 4550 : Loss 4962.3498\n",
            "Iteration 4560 : Loss 4962.3410\n",
            "Iteration 4570 : Loss 4962.3324\n",
            "Iteration 4580 : Loss 4962.3240\n",
            "Iteration 4590 : Loss 4962.3157\n",
            "Iteration 4600 : Loss 4962.3077\n",
            "Iteration 4610 : Loss 4962.2999\n",
            "Iteration 4620 : Loss 4962.2922\n",
            "Iteration 4630 : Loss 4962.2847\n",
            "Iteration 4640 : Loss 4962.2774\n",
            "Iteration 4650 : Loss 4962.2702\n",
            "Iteration 4660 : Loss 4962.2632\n",
            "Iteration 4670 : Loss 4962.2564\n",
            "Iteration 4680 : Loss 4962.2498\n",
            "Iteration 4690 : Loss 4962.2432\n",
            "Iteration 4700 : Loss 4962.2369\n",
            "Iteration 4710 : Loss 4962.2307\n",
            "Iteration 4720 : Loss 4962.2246\n",
            "Iteration 4730 : Loss 4962.2187\n",
            "Iteration 4740 : Loss 4962.2129\n",
            "Iteration 4750 : Loss 4962.2072\n",
            "Iteration 4760 : Loss 4962.2017\n",
            "Iteration 4770 : Loss 4962.1962\n",
            "Iteration 4780 : Loss 4962.1910\n",
            "Iteration 4790 : Loss 4962.1858\n",
            "Iteration 4800 : Loss 4962.1807\n",
            "Iteration 4810 : Loss 4962.1758\n",
            "Iteration 4820 : Loss 4962.1710\n",
            "Iteration 4830 : Loss 4962.1663\n",
            "Iteration 4840 : Loss 4962.1617\n",
            "Iteration 4850 : Loss 4962.1572\n",
            "Iteration 4860 : Loss 4962.1528\n",
            "Iteration 4870 : Loss 4962.1485\n",
            "Iteration 4880 : Loss 4962.1443\n",
            "Iteration 4890 : Loss 4962.1402\n",
            "Iteration 4900 : Loss 4962.1361\n",
            "Iteration 4910 : Loss 4962.1322\n",
            "Iteration 4920 : Loss 4962.1284\n",
            "Iteration 4930 : Loss 4962.1246\n",
            "Iteration 4940 : Loss 4962.1210\n",
            "Iteration 4950 : Loss 4962.1174\n",
            "Iteration 4960 : Loss 4962.1139\n",
            "Iteration 4970 : Loss 4962.1104\n",
            "Iteration 4980 : Loss 4962.1071\n",
            "Iteration 4990 : Loss 4962.1038\n",
            "Iteration 5000 : Loss 4962.1006\n",
            "Iteration 5010 : Loss 4962.0975\n",
            "Iteration 5020 : Loss 4962.0944\n",
            "Iteration 5030 : Loss 4962.0914\n",
            "Iteration 5040 : Loss 4962.0885\n",
            "Iteration 5050 : Loss 4962.0856\n",
            "Iteration 5060 : Loss 4962.0828\n",
            "Iteration 5070 : Loss 4962.0801\n",
            "Iteration 5080 : Loss 4962.0774\n",
            "Iteration 5090 : Loss 4962.0748\n",
            "Iteration 5100 : Loss 4962.0723\n",
            "Iteration 5110 : Loss 4962.0698\n",
            "Iteration 5120 : Loss 4962.0673\n",
            "Iteration 5130 : Loss 4962.0649\n",
            "Iteration 5140 : Loss 4962.0626\n",
            "Iteration 5150 : Loss 4962.0603\n",
            "Iteration 5160 : Loss 4962.0580\n",
            "Iteration 5170 : Loss 4962.0558\n",
            "Iteration 5180 : Loss 4962.0537\n",
            "Iteration 5190 : Loss 4962.0516\n",
            "Iteration 5200 : Loss 4962.0495\n",
            "Iteration 5210 : Loss 4962.0475\n",
            "Iteration 5220 : Loss 4962.0456\n",
            "Iteration 5230 : Loss 4962.0437\n",
            "Iteration 5240 : Loss 4962.0418\n",
            "Iteration 5250 : Loss 4962.0399\n",
            "Iteration 5260 : Loss 4962.0381\n",
            "Iteration 5270 : Loss 4962.0364\n",
            "Iteration 5280 : Loss 4962.0346\n",
            "Iteration 5290 : Loss 4962.0330\n",
            "Iteration 5300 : Loss 4962.0313\n",
            "Iteration 5310 : Loss 4962.0297\n",
            "Iteration 5320 : Loss 4962.0281\n",
            "Iteration 5330 : Loss 4962.0266\n",
            "Iteration 5340 : Loss 4962.0250\n",
            "Iteration 5350 : Loss 4962.0236\n",
            "Iteration 5360 : Loss 4962.0221\n",
            "Iteration 5370 : Loss 4962.0207\n",
            "Iteration 5380 : Loss 4962.0193\n",
            "Iteration 5390 : Loss 4962.0179\n",
            "Iteration 5400 : Loss 4962.0166\n",
            "Iteration 5410 : Loss 4962.0153\n",
            "Iteration 5420 : Loss 4962.0140\n",
            "Iteration 5430 : Loss 4962.0128\n",
            "Iteration 5440 : Loss 4962.0115\n",
            "Iteration 5450 : Loss 4962.0104\n",
            "Iteration 5460 : Loss 4962.0092\n",
            "Iteration 5470 : Loss 4962.0080\n",
            "Iteration 5480 : Loss 4962.0069\n",
            "Iteration 5490 : Loss 4962.0058\n",
            "Iteration 5500 : Loss 4962.0047\n",
            "Iteration 5510 : Loss 4962.0037\n",
            "Iteration 5520 : Loss 4962.0026\n",
            "Iteration 5530 : Loss 4962.0016\n",
            "Iteration 5540 : Loss 4962.0006\n",
            "Iteration 5550 : Loss 4961.9997\n",
            "Iteration 5560 : Loss 4961.9987\n",
            "Iteration 5570 : Loss 4961.9978\n",
            "Iteration 5580 : Loss 4961.9969\n",
            "Iteration 5590 : Loss 4961.9960\n",
            "Iteration 5600 : Loss 4961.9951\n",
            "Iteration 5610 : Loss 4961.9942\n",
            "Iteration 5620 : Loss 4961.9934\n",
            "Iteration 5630 : Loss 4961.9926\n",
            "Iteration 5640 : Loss 4961.9917\n",
            "Iteration 5650 : Loss 4961.9910\n",
            "Iteration 5660 : Loss 4961.9902\n",
            "Iteration 5670 : Loss 4961.9894\n",
            "Iteration 5680 : Loss 4961.9887\n",
            "Iteration 5690 : Loss 4961.9879\n",
            "Iteration 5700 : Loss 4961.9872\n",
            "Iteration 5710 : Loss 4961.9865\n",
            "Iteration 5720 : Loss 4961.9858\n",
            "Iteration 5730 : Loss 4961.9852\n",
            "Iteration 5740 : Loss 4961.9845\n",
            "Iteration 5750 : Loss 4961.9839\n",
            "Iteration 5760 : Loss 4961.9832\n",
            "Iteration 5770 : Loss 4961.9826\n",
            "Iteration 5780 : Loss 4961.9820\n",
            "Iteration 5790 : Loss 4961.9814\n",
            "Iteration 5800 : Loss 4961.9808\n",
            "Iteration 5810 : Loss 4961.9802\n",
            "Iteration 5820 : Loss 4961.9797\n",
            "Iteration 5830 : Loss 4961.9791\n",
            "Iteration 5840 : Loss 4961.9786\n",
            "Iteration 5850 : Loss 4961.9781\n",
            "Iteration 5860 : Loss 4961.9775\n",
            "Iteration 5870 : Loss 4961.9770\n",
            "Iteration 5880 : Loss 4961.9765\n",
            "Iteration 5890 : Loss 4961.9760\n",
            "Iteration 5900 : Loss 4961.9756\n",
            "Iteration 5910 : Loss 4961.9751\n",
            "Iteration 5920 : Loss 4961.9746\n",
            "Iteration 5930 : Loss 4961.9742\n",
            "Iteration 5940 : Loss 4961.9737\n",
            "Iteration 5950 : Loss 4961.9733\n",
            "Iteration 5960 : Loss 4961.9729\n",
            "Iteration 5970 : Loss 4961.9725\n",
            "Iteration 5980 : Loss 4961.9721\n",
            "Iteration 5990 : Loss 4961.9716\n"
          ],
          "name": "stdout"
        }
      ]
    },
    {
      "cell_type": "markdown",
      "metadata": {
        "id": "7lR_QFGWSv1b",
        "colab_type": "text"
      },
      "source": [
        "#10. 성능 확인"
      ]
    },
    {
      "cell_type": "code",
      "metadata": {
        "id": "rHXwrIncSvko",
        "colab_type": "code",
        "colab": {
          "base_uri": "https://localhost:8080/",
          "height": 34
        },
        "outputId": "1732524e-0e44-419b-e228-703b44f35f5e"
      },
      "source": [
        "mse = loss(x_test, y_test, W, b)\n",
        "mse\n",
        "from sk"
      ],
      "execution_count": 69,
      "outputs": [
        {
          "output_type": "execute_result",
          "data": {
            "text/plain": [
              "5614.388165491717"
            ]
          },
          "metadata": {
            "tags": []
          },
          "execution_count": 69
        }
      ]
    },
    {
      "cell_type": "markdown",
      "metadata": {
        "id": "4MNpBsrXSrTx",
        "colab_type": "text"
      },
      "source": [
        "#11. 결과 시각화"
      ]
    },
    {
      "cell_type": "code",
      "metadata": {
        "id": "loD0V3_bStOJ",
        "colab_type": "code",
        "colab": {
          "base_uri": "https://localhost:8080/",
          "height": 265
        },
        "outputId": "b7fbbc85-245a-4f70-fce5-84718fecac01"
      },
      "source": [
        "import matplotlib.pyplot as plt\n",
        "plt.scatter(x_test[:, 0], y_test)\n",
        "prediction=model(x_test,W,b)\n",
        "plt.scatter(x_test[:, 0], prediction)\n",
        "plt.show()\n"
      ],
      "execution_count": 79,
      "outputs": [
        {
          "output_type": "display_data",
          "data": {
            "image/png": "[encoded data removed]",
            "text/plain": [
              "<Figure size 432x288 with 1 Axes>"
            ]
          },
          "metadata": {
            "tags": [],
            "needs_background": "light"
          }
        }
      ]
    },
    {
      "cell_type": "code",
      "metadata": {
        "id": "sZKHxznvZSlu",
        "colab_type": "code",
        "colab": {
          "base_uri": "https://localhost:8080/",
          "height": 282
        },
        "outputId": "d6b22fec-b73d-450b-f30c-28fd93a414cb"
      },
      "source": [
        "plt.plot(losses)"
      ],
      "execution_count": 73,
      "outputs": [
        {
          "output_type": "execute_result",
          "data": {
            "text/plain": [
              "[<matplotlib.lines.Line2D at 0x7f9a95139ba8>]"
            ]
          },
          "metadata": {
            "tags": []
          },
          "execution_count": 73
        },
        {
          "output_type": "display_data",
          "data": {
            "image/png": "[encoded data removed]",
            "text/plain": [
              "<Figure size 432x288 with 1 Axes>"
            ]
          },
          "metadata": {
            "tags": [],
            "needs_background": "light"
          }
        }
      ]
    },
    {
      "cell_type": "code",
      "metadata": {
        "id": "OaD5kIBhZ0Xb",
        "colab_type": "code",
        "colab": {}
      },
      "source": [
        ""
      ],
      "execution_count": 88,
      "outputs": []
    },
    {
      "cell_type": "code",
      "metadata": {
        "id": "AxvDhtJnaZ2Q",
        "colab_type": "code",
        "colab": {
          "base_uri": "https://localhost:8080/",
          "height": 34
        },
        "outputId": "ce70cf85-5883-46cd-e372-6b4518e3b29f"
      },
      "source": [
        ""
      ],
      "execution_count": 88,
      "outputs": [
        {
          "output_type": "execute_result",
          "data": {
            "text/plain": [
              "89"
            ]
          },
          "metadata": {
            "tags": []
          },
          "execution_count": 88
        }
      ]
    },
    {
      "cell_type": "code",
      "metadata": {
        "id": "sN_YFyBicEt0",
        "colab_type": "code",
        "colab": {
          "base_uri": "https://localhost:8080/",
          "height": 34
        },
        "outputId": "4de9509f-b2a2-4d38-dea1-31a82bcf3671"
      },
      "source": [
        ""
      ],
      "execution_count": 87,
      "outputs": [
        {
          "output_type": "execute_result",
          "data": {
            "text/plain": [
              "89"
            ]
          },
          "metadata": {
            "tags": []
          },
          "execution_count": 87
        }
      ]
    },
    {
      "cell_type": "code",
      "metadata": {
        "id": "9-C5k4CMcGMU",
        "colab_type": "code",
        "colab": {}
      },
      "source": [
        ""
      ],
      "execution_count": null,
      "outputs": []
    }
  ]
}