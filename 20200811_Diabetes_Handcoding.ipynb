{
  "nbformat": 4,
  "nbformat_minor": 0,
  "metadata": {
    "colab": {
      "name": "20200811_Diabetes_Handcoding.ipynb",
      "provenance": [],
      "collapsed_sections": [],
      "authorship_tag": "ABX9TyOq+hBY7mtAx+JViRfgIevS",
      "include_colab_link": true
    },
    "kernelspec": {
      "name": "python3",
      "display_name": "Python 3"
    }
  },
  "cells": [
    {
      "cell_type": "markdown",
      "metadata": {
        "id": "view-in-github",
        "colab_type": "text"
      },
      "source": [
        "<a href=\"https://colab.research.google.com/github/halim-jun/Ai_study/blob/master/20200811_Diabetes_Handcoding.ipynb\" target=\"_parent\"><img src=\"https://colab.research.google.com/assets/colab-badge.svg\" alt=\"Open In Colab\"/></a>"
      ]
    },
    {
      "cell_type": "markdown",
      "metadata": {
        "id": "Rr21YYGjNkct",
        "colab_type": "text"
      },
      "source": [
        "#1. 데이터 가져오기"
      ]
    },
    {
      "cell_type": "code",
      "metadata": {
        "id": "c1qPr5w8Nije",
        "colab_type": "code",
        "colab": {
          "base_uri": "https://localhost:8080/",
          "height": 68
        },
        "outputId": "612cf9b1-f518-44b3-fe8c-be5e3aa8dc2e"
      },
      "source": [
        "import seaborn as sns\n",
        "import sklearn\n",
        "from sklearn.datasets import load_diabetes\n",
        "import pandas as pd\n",
        "import numpy as np\n",
        "import sklearn.metrics\n",
        "from sklearn.metrics import accuracy_score\n",
        "diabetes=load_diabetes()\n",
        "diabetes.keys()\n"
      ],
      "execution_count": 1,
      "outputs": [
        {
          "output_type": "stream",
          "text": [
            "/usr/local/lib/python3.6/dist-packages/statsmodels/tools/_testing.py:19: FutureWarning: pandas.util.testing is deprecated. Use the functions in the public API at pandas.testing instead.\n",
            "  import pandas.util.testing as tm\n"
          ],
          "name": "stderr"
        },
        {
          "output_type": "execute_result",
          "data": {
            "text/plain": [
              "dict_keys(['data', 'target', 'DESCR', 'feature_names', 'data_filename', 'target_filename'])"
            ]
          },
          "metadata": {
            "tags": []
          },
          "execution_count": 1
        }
      ]
    },
    {
      "cell_type": "code",
      "metadata": {
        "id": "FNfDS1M4N-Hl",
        "colab_type": "code",
        "colab": {}
      },
      "source": [
        "df_X=diabetes.data\n",
        "df_Y=diabetes.target"
      ],
      "execution_count": 2,
      "outputs": []
    },
    {
      "cell_type": "code",
      "metadata": {
        "id": "qLA1eqGNQAtA",
        "colab_type": "code",
        "colab": {
          "base_uri": "https://localhost:8080/",
          "height": 323
        },
        "outputId": "fea4113f-35e8-484e-b649-bfb86a80a163"
      },
      "source": [
        "df_X[1:10,:]"
      ],
      "execution_count": 3,
      "outputs": [
        {
          "output_type": "execute_result",
          "data": {
            "text/plain": [
              "array([[-0.00188202, -0.04464164, -0.05147406, -0.02632783, -0.00844872,\n",
              "        -0.01916334,  0.07441156, -0.03949338, -0.06832974, -0.09220405],\n",
              "       [ 0.08529891,  0.05068012,  0.04445121, -0.00567061, -0.04559945,\n",
              "        -0.03419447, -0.03235593, -0.00259226,  0.00286377, -0.02593034],\n",
              "       [-0.08906294, -0.04464164, -0.01159501, -0.03665645,  0.01219057,\n",
              "         0.02499059, -0.03603757,  0.03430886,  0.02269202, -0.00936191],\n",
              "       [ 0.00538306, -0.04464164, -0.03638469,  0.02187235,  0.00393485,\n",
              "         0.01559614,  0.00814208, -0.00259226, -0.03199144, -0.04664087],\n",
              "       [-0.09269548, -0.04464164, -0.04069594, -0.01944209, -0.06899065,\n",
              "        -0.07928784,  0.04127682, -0.0763945 , -0.04118039, -0.09634616],\n",
              "       [-0.04547248,  0.05068012, -0.04716281, -0.01599922, -0.04009564,\n",
              "        -0.02480001,  0.00077881, -0.03949338, -0.06291295, -0.03835666],\n",
              "       [ 0.06350368,  0.05068012, -0.00189471,  0.06662967,  0.09061988,\n",
              "         0.10891438,  0.02286863,  0.01770335, -0.03581673,  0.00306441],\n",
              "       [ 0.04170844,  0.05068012,  0.06169621, -0.04009932, -0.01395254,\n",
              "         0.00620169, -0.02867429, -0.00259226, -0.01495648,  0.01134862],\n",
              "       [-0.07090025, -0.04464164,  0.03906215, -0.03321358, -0.01257658,\n",
              "        -0.03450761, -0.02499266, -0.00259226,  0.06773633, -0.01350402]])"
            ]
          },
          "metadata": {
            "tags": []
          },
          "execution_count": 3
        }
      ]
    },
    {
      "cell_type": "markdown",
      "metadata": {
        "id": "J6Vj4rGOOfHF",
        "colab_type": "text"
      },
      "source": [
        "# 2-3. 데이터 타입 변환하기 : 이미 numpy array 이기에 변환하지 않음"
      ]
    },
    {
      "cell_type": "code",
      "metadata": {
        "id": "Czr6-RYqOBRt",
        "colab_type": "code",
        "colab": {
          "base_uri": "https://localhost:8080/",
          "height": 34
        },
        "outputId": "d59d1f75-0cfa-4911-a6ab-45b98990dca7"
      },
      "source": [
        "type(df_X)\n",
        "type(df_Y)"
      ],
      "execution_count": 4,
      "outputs": [
        {
          "output_type": "execute_result",
          "data": {
            "text/plain": [
              "numpy.ndarray"
            ]
          },
          "metadata": {
            "tags": []
          },
          "execution_count": 4
        }
      ]
    },
    {
      "cell_type": "markdown",
      "metadata": {
        "id": "Q0FdiftwOvRR",
        "colab_type": "text"
      },
      "source": [
        "# 4.  트레인/테스트 스플릿"
      ]
    },
    {
      "cell_type": "code",
      "metadata": {
        "id": "PWoGR65FOu8C",
        "colab_type": "code",
        "colab": {}
      },
      "source": [
        "from sklearn.model_selection import train_test_split"
      ],
      "execution_count": 5,
      "outputs": []
    },
    {
      "cell_type": "code",
      "metadata": {
        "id": "ERGNfX3rNgkg",
        "colab_type": "code",
        "colab": {}
      },
      "source": [
        "(x_train, x_test, y_train, y_test)=train_test_split(df_X, df_Y, random_state=10, test_size=0.2)"
      ],
      "execution_count": 6,
      "outputs": []
    },
    {
      "cell_type": "code",
      "metadata": {
        "id": "wigGScbiPrqV",
        "colab_type": "code",
        "colab": {
          "base_uri": "https://localhost:8080/",
          "height": 34
        },
        "outputId": "1c9304dd-72e8-4a40-fa02-1bd180c990d2"
      },
      "source": [
        "x_test.shape\n",
        "x_train.shape\n",
        "y_train.shape"
      ],
      "execution_count": 7,
      "outputs": [
        {
          "output_type": "execute_result",
          "data": {
            "text/plain": [
              "(353,)"
            ]
          },
          "metadata": {
            "tags": []
          },
          "execution_count": 7
        }
      ]
    },
    {
      "cell_type": "markdown",
      "metadata": {
        "id": "prVzOq5CQdWP",
        "colab_type": "text"
      },
      "source": [
        "#5. 모델 준비하기"
      ]
    },
    {
      "cell_type": "code",
      "metadata": {
        "id": "tbw9H0WRQ8gn",
        "colab_type": "code",
        "colab": {}
      },
      "source": [
        "def model(X,w,b):\n",
        "  prediction=0\n",
        "  for i in range(10):\n",
        "    prediction+=X[:, i]*w[i] #모든 X 에 대해서 예측값 도출\n",
        "  prediction+=b\n",
        "  return prediction"
      ],
      "execution_count": 8,
      "outputs": []
    },
    {
      "cell_type": "markdown",
      "metadata": {
        "id": "fN_17S5bQ3Xo",
        "colab_type": "text"
      },
      "source": [
        "#6. 손실함수 준비하기"
      ]
    },
    {
      "cell_type": "code",
      "metadata": {
        "id": "975btENbRgUP",
        "colab_type": "code",
        "colab": {}
      },
      "source": [
        "def MSE(a,b):\n",
        "  mse=((a-b)**2).mean()\n",
        "  return mse\n",
        "def loss(x,y,w,b):\n",
        "  prediction=model(x,w,b)\n",
        "  L=MSE(prediction, y)\n",
        "  return L"
      ],
      "execution_count": 15,
      "outputs": []
    },
    {
      "cell_type": "markdown",
      "metadata": {
        "id": "zb1GvW6sR9UK",
        "colab_type": "text"
      },
      "source": [
        "#7. Gradient 구하기"
      ]
    },
    {
      "cell_type": "code",
      "metadata": {
        "id": "OC5UX1D-XoHh",
        "colab_type": "code",
        "colab": {}
      },
      "source": [
        ""
      ],
      "execution_count": 15,
      "outputs": []
    },
    {
      "cell_type": "code",
      "metadata": {
        "id": "c37jKcLuRe-C",
        "colab_type": "code",
        "colab": {}
      },
      "source": [
        "def gradient(X, W, b, y):\n",
        "    N = len(X)\n",
        "    \n",
        "    y_pred = model(X, W, b)\n",
        "    \n",
        "    dW = 1/N * 2 * X.T.dot(y_pred - y)\n",
        "        \n",
        "    db = 2 * (y_pred - y).mean()\n",
        "    return dW, db"
      ],
      "execution_count": 48,
      "outputs": []
    },
    {
      "cell_type": "markdown",
      "metadata": {
        "id": "kymdtccvSB4X",
        "colab_type": "text"
      },
      "source": [
        "#8. Learning rate 구하기"
      ]
    },
    {
      "cell_type": "code",
      "metadata": {
        "id": "-aP2MSafSBja",
        "colab_type": "code",
        "colab": {}
      },
      "source": [
        "LEARNING_RATE = 0.001"
      ],
      "execution_count": 49,
      "outputs": []
    },
    {
      "cell_type": "markdown",
      "metadata": {
        "id": "MxlWJsC4SCwk",
        "colab_type": "text"
      },
      "source": [
        "# 9. 모델 학습하기"
      ]
    },
    {
      "cell_type": "code",
      "metadata": {
        "id": "3PZhtYDESCRs",
        "colab_type": "code",
        "colab": {
          "base_uri": "https://localhost:8080/",
          "height": 1000
        },
        "outputId": "702ca3f1-b75b-4760-fd7f-c0ff1e4c6ccd"
      },
      "source": [
        "losses = []\n",
        "W=[2,2,2,2,2,2,2,2,2,2]\n",
        "b=1\n",
        "\n",
        "for i in range(1, 300000):\n",
        "    dW, db = gradient(x_train, W, b, y_train)\n",
        "    W -= LEARNING_RATE * dW\n",
        "    b -= LEARNING_RATE * db\n",
        "    L = loss(x_train, y_train,W,b)\n",
        "    losses.append(L)\n",
        "    if i % 1000 == 0:\n",
        "        print('Iteration %d : Loss %0.4f' % (i, L))\n"
      ],
      "execution_count": 53,
      "outputs": [
        {
          "output_type": "stream",
          "text": [
            "Iteration 1000 : Loss 6149.4781\n",
            "Iteration 2000 : Loss 5662.6380\n",
            "Iteration 3000 : Loss 5583.9573\n",
            "Iteration 4000 : Loss 5514.9763\n",
            "Iteration 5000 : Loss 5448.3480\n",
            "Iteration 6000 : Loss 5383.8625\n",
            "Iteration 7000 : Loss 5321.4431\n",
            "Iteration 8000 : Loss 5261.0178\n",
            "Iteration 9000 : Loss 5202.5174\n",
            "Iteration 10000 : Loss 5145.8751\n",
            "Iteration 11000 : Loss 5091.0265\n",
            "Iteration 12000 : Loss 5037.9095\n",
            "Iteration 13000 : Loss 4986.4642\n",
            "Iteration 14000 : Loss 4936.6328\n",
            "Iteration 15000 : Loss 4888.3595\n",
            "Iteration 16000 : Loss 4841.5905\n",
            "Iteration 17000 : Loss 4796.2741\n",
            "Iteration 18000 : Loss 4752.3602\n",
            "Iteration 19000 : Loss 4709.8005\n",
            "Iteration 20000 : Loss 4668.5485\n",
            "Iteration 21000 : Loss 4628.5594\n",
            "Iteration 22000 : Loss 4589.7899\n",
            "Iteration 23000 : Loss 4552.1982\n",
            "Iteration 24000 : Loss 4515.7439\n",
            "Iteration 25000 : Loss 4480.3883\n",
            "Iteration 26000 : Loss 4446.0939\n",
            "Iteration 27000 : Loss 4412.8245\n",
            "Iteration 28000 : Loss 4380.5453\n",
            "Iteration 29000 : Loss 4349.2225\n",
            "Iteration 30000 : Loss 4318.8238\n",
            "Iteration 31000 : Loss 4289.3179\n",
            "Iteration 32000 : Loss 4260.6744\n",
            "Iteration 33000 : Loss 4232.8644\n",
            "Iteration 34000 : Loss 4205.8596\n",
            "Iteration 35000 : Loss 4179.6329\n",
            "Iteration 36000 : Loss 4154.1583\n",
            "Iteration 37000 : Loss 4129.4104\n",
            "Iteration 38000 : Loss 4105.3649\n",
            "Iteration 39000 : Loss 4081.9983\n",
            "Iteration 40000 : Loss 4059.2880\n",
            "Iteration 41000 : Loss 4037.2119\n",
            "Iteration 42000 : Loss 4015.7492\n",
            "Iteration 43000 : Loss 3994.8793\n",
            "Iteration 44000 : Loss 3974.5826\n",
            "Iteration 45000 : Loss 3954.8402\n",
            "Iteration 46000 : Loss 3935.6338\n",
            "Iteration 47000 : Loss 3916.9457\n",
            "Iteration 48000 : Loss 3898.7588\n",
            "Iteration 49000 : Loss 3881.0568\n",
            "Iteration 50000 : Loss 3863.8238\n",
            "Iteration 51000 : Loss 3847.0445\n",
            "Iteration 52000 : Loss 3830.7040\n",
            "Iteration 53000 : Loss 3814.7882\n",
            "Iteration 54000 : Loss 3799.2832\n",
            "Iteration 55000 : Loss 3784.1758\n",
            "Iteration 56000 : Loss 3769.4532\n",
            "Iteration 57000 : Loss 3755.1029\n",
            "Iteration 58000 : Loss 3741.1131\n",
            "Iteration 59000 : Loss 3727.4721\n",
            "Iteration 60000 : Loss 3714.1690\n",
            "Iteration 61000 : Loss 3701.1928\n",
            "Iteration 62000 : Loss 3688.5334\n",
            "Iteration 63000 : Loss 3676.1806\n",
            "Iteration 64000 : Loss 3664.1247\n",
            "Iteration 65000 : Loss 3652.3565\n",
            "Iteration 66000 : Loss 3640.8670\n",
            "Iteration 67000 : Loss 3629.6473\n",
            "Iteration 68000 : Loss 3618.6892\n",
            "Iteration 69000 : Loss 3607.9846\n",
            "Iteration 70000 : Loss 3597.5255\n",
            "Iteration 71000 : Loss 3587.3045\n",
            "Iteration 72000 : Loss 3577.3142\n",
            "Iteration 73000 : Loss 3567.5475\n",
            "Iteration 74000 : Loss 3557.9978\n",
            "Iteration 75000 : Loss 3548.6583\n",
            "Iteration 76000 : Loss 3539.5227\n",
            "Iteration 77000 : Loss 3530.5850\n",
            "Iteration 78000 : Loss 3521.8391\n",
            "Iteration 79000 : Loss 3513.2793\n",
            "Iteration 80000 : Loss 3504.9002\n",
            "Iteration 81000 : Loss 3496.6963\n",
            "Iteration 82000 : Loss 3488.6625\n",
            "Iteration 83000 : Loss 3480.7938\n",
            "Iteration 84000 : Loss 3473.0854\n",
            "Iteration 85000 : Loss 3465.5326\n",
            "Iteration 86000 : Loss 3458.1309\n",
            "Iteration 87000 : Loss 3450.8761\n",
            "Iteration 88000 : Loss 3443.7638\n",
            "Iteration 89000 : Loss 3436.7900\n",
            "Iteration 90000 : Loss 3429.9507\n",
            "Iteration 91000 : Loss 3423.2423\n",
            "Iteration 92000 : Loss 3416.6610\n",
            "Iteration 93000 : Loss 3410.2033\n",
            "Iteration 94000 : Loss 3403.8657\n",
            "Iteration 95000 : Loss 3397.6449\n",
            "Iteration 96000 : Loss 3391.5377\n",
            "Iteration 97000 : Loss 3385.5410\n",
            "Iteration 98000 : Loss 3379.6519\n",
            "Iteration 99000 : Loss 3373.8674\n",
            "Iteration 100000 : Loss 3368.1847\n",
            "Iteration 101000 : Loss 3362.6010\n",
            "Iteration 102000 : Loss 3357.1139\n",
            "Iteration 103000 : Loss 3351.7207\n",
            "Iteration 104000 : Loss 3346.4189\n",
            "Iteration 105000 : Loss 3341.2063\n",
            "Iteration 106000 : Loss 3336.0805\n",
            "Iteration 107000 : Loss 3331.0392\n",
            "Iteration 108000 : Loss 3326.0803\n",
            "Iteration 109000 : Loss 3321.2018\n",
            "Iteration 110000 : Loss 3316.4016\n",
            "Iteration 111000 : Loss 3311.6778\n",
            "Iteration 112000 : Loss 3307.0284\n",
            "Iteration 113000 : Loss 3302.4517\n",
            "Iteration 114000 : Loss 3297.9458\n",
            "Iteration 115000 : Loss 3293.5090\n",
            "Iteration 116000 : Loss 3289.1398\n",
            "Iteration 117000 : Loss 3284.8364\n",
            "Iteration 118000 : Loss 3280.5973\n",
            "Iteration 119000 : Loss 3276.4210\n",
            "Iteration 120000 : Loss 3272.3060\n",
            "Iteration 121000 : Loss 3268.2509\n",
            "Iteration 122000 : Loss 3264.2543\n",
            "Iteration 123000 : Loss 3260.3150\n",
            "Iteration 124000 : Loss 3256.4315\n",
            "Iteration 125000 : Loss 3252.6027\n",
            "Iteration 126000 : Loss 3248.8273\n",
            "Iteration 127000 : Loss 3245.1042\n",
            "Iteration 128000 : Loss 3241.4321\n",
            "Iteration 129000 : Loss 3237.8101\n",
            "Iteration 130000 : Loss 3234.2369\n",
            "Iteration 131000 : Loss 3230.7116\n",
            "Iteration 132000 : Loss 3227.2332\n",
            "Iteration 133000 : Loss 3223.8007\n",
            "Iteration 134000 : Loss 3220.4131\n",
            "Iteration 135000 : Loss 3217.0694\n",
            "Iteration 136000 : Loss 3213.7689\n",
            "Iteration 137000 : Loss 3210.5106\n",
            "Iteration 138000 : Loss 3207.2936\n",
            "Iteration 139000 : Loss 3204.1172\n",
            "Iteration 140000 : Loss 3200.9805\n",
            "Iteration 141000 : Loss 3197.8828\n",
            "Iteration 142000 : Loss 3194.8233\n",
            "Iteration 143000 : Loss 3191.8013\n",
            "Iteration 144000 : Loss 3188.8160\n",
            "Iteration 145000 : Loss 3185.8668\n",
            "Iteration 146000 : Loss 3182.9530\n",
            "Iteration 147000 : Loss 3180.0739\n",
            "Iteration 148000 : Loss 3177.2289\n",
            "Iteration 149000 : Loss 3174.4174\n",
            "Iteration 150000 : Loss 3171.6388\n",
            "Iteration 151000 : Loss 3168.8924\n",
            "Iteration 152000 : Loss 3166.1777\n",
            "Iteration 153000 : Loss 3163.4942\n",
            "Iteration 154000 : Loss 3160.8413\n",
            "Iteration 155000 : Loss 3158.2185\n",
            "Iteration 156000 : Loss 3155.6252\n",
            "Iteration 157000 : Loss 3153.0610\n",
            "Iteration 158000 : Loss 3150.5253\n",
            "Iteration 159000 : Loss 3148.0178\n",
            "Iteration 160000 : Loss 3145.5379\n",
            "Iteration 161000 : Loss 3143.0852\n",
            "Iteration 162000 : Loss 3140.6592\n",
            "Iteration 163000 : Loss 3138.2595\n",
            "Iteration 164000 : Loss 3135.8857\n",
            "Iteration 165000 : Loss 3133.5374\n",
            "Iteration 166000 : Loss 3131.2142\n",
            "Iteration 167000 : Loss 3128.9157\n",
            "Iteration 168000 : Loss 3126.6415\n",
            "Iteration 169000 : Loss 3124.3912\n",
            "Iteration 170000 : Loss 3122.1645\n",
            "Iteration 171000 : Loss 3119.9611\n",
            "Iteration 172000 : Loss 3117.7805\n",
            "Iteration 173000 : Loss 3115.6225\n",
            "Iteration 174000 : Loss 3113.4866\n",
            "Iteration 175000 : Loss 3111.3727\n",
            "Iteration 176000 : Loss 3109.2804\n",
            "Iteration 177000 : Loss 3107.2093\n",
            "Iteration 178000 : Loss 3105.1592\n",
            "Iteration 179000 : Loss 3103.1298\n",
            "Iteration 180000 : Loss 3101.1207\n",
            "Iteration 181000 : Loss 3099.1318\n",
            "Iteration 182000 : Loss 3097.1627\n",
            "Iteration 183000 : Loss 3095.2131\n",
            "Iteration 184000 : Loss 3093.2829\n",
            "Iteration 185000 : Loss 3091.3716\n",
            "Iteration 186000 : Loss 3089.4792\n",
            "Iteration 187000 : Loss 3087.6053\n",
            "Iteration 188000 : Loss 3085.7497\n",
            "Iteration 189000 : Loss 3083.9122\n",
            "Iteration 190000 : Loss 3082.0924\n",
            "Iteration 191000 : Loss 3080.2903\n",
            "Iteration 192000 : Loss 3078.5056\n",
            "Iteration 193000 : Loss 3076.7380\n",
            "Iteration 194000 : Loss 3074.9873\n",
            "Iteration 195000 : Loss 3073.2533\n",
            "Iteration 196000 : Loss 3071.5359\n",
            "Iteration 197000 : Loss 3069.8348\n",
            "Iteration 198000 : Loss 3068.1498\n",
            "Iteration 199000 : Loss 3066.4807\n",
            "Iteration 200000 : Loss 3064.8274\n",
            "Iteration 201000 : Loss 3063.1895\n",
            "Iteration 202000 : Loss 3061.5671\n",
            "Iteration 203000 : Loss 3059.9598\n",
            "Iteration 204000 : Loss 3058.3675\n",
            "Iteration 205000 : Loss 3056.7900\n",
            "Iteration 206000 : Loss 3055.2272\n",
            "Iteration 207000 : Loss 3053.6788\n",
            "Iteration 208000 : Loss 3052.1448\n",
            "Iteration 209000 : Loss 3050.6249\n",
            "Iteration 210000 : Loss 3049.1190\n",
            "Iteration 211000 : Loss 3047.6269\n",
            "Iteration 212000 : Loss 3046.1485\n",
            "Iteration 213000 : Loss 3044.6836\n",
            "Iteration 214000 : Loss 3043.2321\n",
            "Iteration 215000 : Loss 3041.7938\n",
            "Iteration 216000 : Loss 3040.3686\n",
            "Iteration 217000 : Loss 3038.9563\n",
            "Iteration 218000 : Loss 3037.5568\n",
            "Iteration 219000 : Loss 3036.1699\n",
            "Iteration 220000 : Loss 3034.7956\n",
            "Iteration 221000 : Loss 3033.4336\n",
            "Iteration 222000 : Loss 3032.0839\n",
            "Iteration 223000 : Loss 3030.7463\n",
            "Iteration 224000 : Loss 3029.4207\n",
            "Iteration 225000 : Loss 3028.1069\n",
            "Iteration 226000 : Loss 3026.8049\n",
            "Iteration 227000 : Loss 3025.5146\n",
            "Iteration 228000 : Loss 3024.2357\n",
            "Iteration 229000 : Loss 3022.9681\n",
            "Iteration 230000 : Loss 3021.7119\n",
            "Iteration 231000 : Loss 3020.4667\n",
            "Iteration 232000 : Loss 3019.2326\n",
            "Iteration 233000 : Loss 3018.0094\n",
            "Iteration 234000 : Loss 3016.7970\n",
            "Iteration 235000 : Loss 3015.5953\n",
            "Iteration 236000 : Loss 3014.4042\n",
            "Iteration 237000 : Loss 3013.2236\n",
            "Iteration 238000 : Loss 3012.0533\n",
            "Iteration 239000 : Loss 3010.8933\n",
            "Iteration 240000 : Loss 3009.7435\n",
            "Iteration 241000 : Loss 3008.6037\n",
            "Iteration 242000 : Loss 3007.4739\n",
            "Iteration 243000 : Loss 3006.3539\n",
            "Iteration 244000 : Loss 3005.2438\n",
            "Iteration 245000 : Loss 3004.1432\n",
            "Iteration 246000 : Loss 3003.0523\n",
            "Iteration 247000 : Loss 3001.9709\n",
            "Iteration 248000 : Loss 3000.8988\n",
            "Iteration 249000 : Loss 2999.8360\n",
            "Iteration 250000 : Loss 2998.7825\n",
            "Iteration 251000 : Loss 2997.7381\n",
            "Iteration 252000 : Loss 2996.7027\n",
            "Iteration 253000 : Loss 2995.6762\n",
            "Iteration 254000 : Loss 2994.6586\n",
            "Iteration 255000 : Loss 2993.6498\n",
            "Iteration 256000 : Loss 2992.6496\n",
            "Iteration 257000 : Loss 2991.6581\n",
            "Iteration 258000 : Loss 2990.6751\n",
            "Iteration 259000 : Loss 2989.7005\n",
            "Iteration 260000 : Loss 2988.7343\n",
            "Iteration 261000 : Loss 2987.7764\n",
            "Iteration 262000 : Loss 2986.8267\n",
            "Iteration 263000 : Loss 2985.8852\n",
            "Iteration 264000 : Loss 2984.9516\n",
            "Iteration 265000 : Loss 2984.0261\n",
            "Iteration 266000 : Loss 2983.1085\n",
            "Iteration 267000 : Loss 2982.1986\n",
            "Iteration 268000 : Loss 2981.2966\n",
            "Iteration 269000 : Loss 2980.4022\n",
            "Iteration 270000 : Loss 2979.5155\n",
            "Iteration 271000 : Loss 2978.6363\n",
            "Iteration 272000 : Loss 2977.7645\n",
            "Iteration 273000 : Loss 2976.9002\n",
            "Iteration 274000 : Loss 2976.0432\n",
            "Iteration 275000 : Loss 2975.1935\n",
            "Iteration 276000 : Loss 2974.3509\n",
            "Iteration 277000 : Loss 2973.5155\n",
            "Iteration 278000 : Loss 2972.6872\n",
            "Iteration 279000 : Loss 2971.8659\n",
            "Iteration 280000 : Loss 2971.0515\n",
            "Iteration 281000 : Loss 2970.2440\n",
            "Iteration 282000 : Loss 2969.4433\n",
            "Iteration 283000 : Loss 2968.6494\n",
            "Iteration 284000 : Loss 2967.8622\n",
            "Iteration 285000 : Loss 2967.0816\n",
            "Iteration 286000 : Loss 2966.3075\n",
            "Iteration 287000 : Loss 2965.5400\n",
            "Iteration 288000 : Loss 2964.7789\n",
            "Iteration 289000 : Loss 2964.0243\n",
            "Iteration 290000 : Loss 2963.2759\n",
            "Iteration 291000 : Loss 2962.5339\n",
            "Iteration 292000 : Loss 2961.7980\n",
            "Iteration 293000 : Loss 2961.0684\n",
            "Iteration 294000 : Loss 2960.3448\n",
            "Iteration 295000 : Loss 2959.6273\n",
            "Iteration 296000 : Loss 2958.9158\n",
            "Iteration 297000 : Loss 2958.2103\n",
            "Iteration 298000 : Loss 2957.5106\n",
            "Iteration 299000 : Loss 2956.8168\n"
          ],
          "name": "stdout"
        }
      ]
    },
    {
      "cell_type": "markdown",
      "metadata": {
        "id": "7lR_QFGWSv1b",
        "colab_type": "text"
      },
      "source": [
        "#10. 성능 확인"
      ]
    },
    {
      "cell_type": "code",
      "metadata": {
        "id": "rHXwrIncSvko",
        "colab_type": "code",
        "colab": {
          "base_uri": "https://localhost:8080/",
          "height": 34
        },
        "outputId": "62ef9880-b068-4f19-b267-bc622f1ac375"
      },
      "source": [
        "mse = loss(x_test, y_test, W, b)\n",
        "mse"
      ],
      "execution_count": 54,
      "outputs": [
        {
          "output_type": "execute_result",
          "data": {
            "text/plain": [
              "3116.4007586575553"
            ]
          },
          "metadata": {
            "tags": []
          },
          "execution_count": 54
        }
      ]
    },
    {
      "cell_type": "markdown",
      "metadata": {
        "id": "4MNpBsrXSrTx",
        "colab_type": "text"
      },
      "source": [
        "#11. 결과 시각화"
      ]
    },
    {
      "cell_type": "code",
      "metadata": {
        "id": "loD0V3_bStOJ",
        "colab_type": "code",
        "colab": {
          "base_uri": "https://localhost:8080/",
          "height": 265
        },
        "outputId": "41689306-a148-472c-a8a3-fe9cd9b7e09a"
      },
      "source": [
        "import matplotlib.pyplot as plt\n",
        "plt.scatter(x_test[:, 0], y_test)\n",
        "prediction=model(x_test,W,b)\n",
        "plt.scatter(x_test[:, 0], prediction)\n",
        "plt.show()\n"
      ],
      "execution_count": 55,
      "outputs": [
        {
          "output_type": "display_data",
          "data": {
            "image/png": "[encoded data removed]",
            "text/plain": [
              "<Figure size 432x288 with 1 Axes>"
            ]
          },
          "metadata": {
            "tags": [],
            "needs_background": "light"
          }
        }
      ]
    },
    {
      "cell_type": "code",
      "metadata": {
        "id": "sZKHxznvZSlu",
        "colab_type": "code",
        "colab": {
          "base_uri": "https://localhost:8080/",
          "height": 286
        },
        "outputId": "7f1f3637-d45f-4c73-a127-08785b7f4528"
      },
      "source": [
        "plt.plot(losses)"
      ],
      "execution_count": 56,
      "outputs": [
        {
          "output_type": "execute_result",
          "data": {
            "text/plain": [
              "[<matplotlib.lines.Line2D at 0x7f39ce743b00>]"
            ]
          },
          "metadata": {
            "tags": []
          },
          "execution_count": 56
        },
        {
          "output_type": "display_data",
          "data": {
            "image/png": "[encoded data removed]",
            "text/plain": [
              "<Figure size 432x288 with 1 Axes>"
            ]
          },
          "metadata": {
            "tags": [],
            "needs_background": "light"
          }
        }
      ]
    },
    {
      "cell_type": "code",
      "metadata": {
        "id": "OaD5kIBhZ0Xb",
        "colab_type": "code",
        "colab": {
          "base_uri": "https://localhost:8080/",
          "height": 51
        },
        "outputId": "41e4bc46-3974-4511-8e66-46cd28c54bce"
      },
      "source": [
        "dW"
      ],
      "execution_count": 34,
      "outputs": [
        {
          "output_type": "execute_result",
          "data": {
            "text/plain": [
              "array([ 0.22728305,  0.47753058, -0.75404538, -0.33841938,  0.97250988,\n",
              "       -0.35968032, -0.31885176,  0.06881674, -1.37934092,  1.16524066])"
            ]
          },
          "metadata": {
            "tags": []
          },
          "execution_count": 34
        }
      ]
    },
    {
      "cell_type": "code",
      "metadata": {
        "id": "AxvDhtJnaZ2Q",
        "colab_type": "code",
        "colab": {
          "base_uri": "https://localhost:8080/",
          "height": 34
        },
        "outputId": "ce70cf85-5883-46cd-e372-6b4518e3b29f"
      },
      "source": [
        ""
      ],
      "execution_count": null,
      "outputs": [
        {
          "output_type": "execute_result",
          "data": {
            "text/plain": [
              "89"
            ]
          },
          "metadata": {
            "tags": []
          },
          "execution_count": 88
        }
      ]
    },
    {
      "cell_type": "code",
      "metadata": {
        "id": "sN_YFyBicEt0",
        "colab_type": "code",
        "colab": {
          "base_uri": "https://localhost:8080/",
          "height": 34
        },
        "outputId": "4de9509f-b2a2-4d38-dea1-31a82bcf3671"
      },
      "source": [
        ""
      ],
      "execution_count": null,
      "outputs": [
        {
          "output_type": "execute_result",
          "data": {
            "text/plain": [
              "89"
            ]
          },
          "metadata": {
            "tags": []
          },
          "execution_count": 87
        }
      ]
    },
    {
      "cell_type": "code",
      "metadata": {
        "id": "9-C5k4CMcGMU",
        "colab_type": "code",
        "colab": {}
      },
      "source": [
        ""
      ],
      "execution_count": null,
      "outputs": []
    }
  ]
}