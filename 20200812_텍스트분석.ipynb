{
  "nbformat": 4,
  "nbformat_minor": 0,
  "metadata": {
    "colab": {
      "name": "20200812_텍스트분석.ipynb",
      "provenance": [],
      "machine_shape": "hm",
      "authorship_tag": "ABX9TyPZ8DjU8qTT0VWaOa0Dp3ez",
      "include_colab_link": true
    },
    "kernelspec": {
      "name": "python3",
      "display_name": "Python 3"
    }
  },
  "cells": [
    {
      "cell_type": "markdown",
      "metadata": {
        "id": "view-in-github",
        "colab_type": "text"
      },
      "source": [
        "<a href=\"https://colab.research.google.com/github/halim-jun/Ai_study/blob/master/20200812_%ED%85%8D%EC%8A%A4%ED%8A%B8%EB%B6%84%EC%84%9D.ipynb\" target=\"_parent\"><img src=\"https://colab.research.google.com/assets/colab-badge.svg\" alt=\"Open In Colab\"/></a>"
      ]
    },
    {
      "cell_type": "markdown",
      "metadata": {
        "id": "Xbm1EW8BWNcs",
        "colab_type": "text"
      },
      "source": [
        "#1. 크롤러 제작"
      ]
    },
    {
      "cell_type": "code",
      "metadata": {
        "id": "CNJgbyLJV85i",
        "colab_type": "code",
        "colab": {
          "base_uri": "https://localhost:8080/",
          "height": 792
        },
        "outputId": "6db347b4-1b22-48aa-8aa1-399de5118124"
      },
      "source": [
        "import requests\n",
        "import pandas as pd\n",
        "from bs4 import BeautifulSoup\n",
        "!pip install newspaper3k\n",
        "from newspaper import Article\n",
        "!pip install requests\n"
      ],
      "execution_count": 24,
      "outputs": [
        {
          "output_type": "stream",
          "text": [
            "Requirement already satisfied: newspaper3k in /usr/local/lib/python3.6/dist-packages (0.2.8)\n",
            "Requirement already satisfied: feedfinder2>=0.0.4 in /usr/local/lib/python3.6/dist-packages (from newspaper3k) (0.0.4)\n",
            "Requirement already satisfied: python-dateutil>=2.5.3 in /usr/local/lib/python3.6/dist-packages (from newspaper3k) (2.8.1)\n",
            "Requirement already satisfied: lxml>=3.6.0 in /usr/local/lib/python3.6/dist-packages (from newspaper3k) (4.2.6)\n",
            "Requirement already satisfied: beautifulsoup4>=4.4.1 in /usr/local/lib/python3.6/dist-packages (from newspaper3k) (4.6.3)\n",
            "Requirement already satisfied: feedparser>=5.2.1 in /usr/local/lib/python3.6/dist-packages (from newspaper3k) (5.2.1)\n",
            "Requirement already satisfied: cssselect>=0.9.2 in /usr/local/lib/python3.6/dist-packages (from newspaper3k) (1.1.0)\n",
            "Requirement already satisfied: Pillow>=3.3.0 in /usr/local/lib/python3.6/dist-packages (from newspaper3k) (7.0.0)\n",
            "Requirement already satisfied: jieba3k>=0.35.1 in /usr/local/lib/python3.6/dist-packages (from newspaper3k) (0.35.1)\n",
            "Requirement already satisfied: nltk>=3.2.1 in /usr/local/lib/python3.6/dist-packages (from newspaper3k) (3.2.5)\n",
            "Requirement already satisfied: tldextract>=2.0.1 in /usr/local/lib/python3.6/dist-packages (from newspaper3k) (2.2.2)\n",
            "Requirement already satisfied: tinysegmenter==0.3 in /usr/local/lib/python3.6/dist-packages (from newspaper3k) (0.3)\n",
            "Requirement already satisfied: PyYAML>=3.11 in /usr/local/lib/python3.6/dist-packages (from newspaper3k) (3.13)\n",
            "Requirement already satisfied: requests>=2.10.0 in /usr/local/lib/python3.6/dist-packages (from newspaper3k) (2.23.0)\n",
            "Requirement already satisfied: six in /usr/local/lib/python3.6/dist-packages (from feedfinder2>=0.0.4->newspaper3k) (1.15.0)\n",
            "Requirement already satisfied: setuptools in /usr/local/lib/python3.6/dist-packages (from tldextract>=2.0.1->newspaper3k) (49.2.0)\n",
            "Requirement already satisfied: idna in /usr/local/lib/python3.6/dist-packages (from tldextract>=2.0.1->newspaper3k) (2.10)\n",
            "Requirement already satisfied: requests-file>=1.4 in /usr/local/lib/python3.6/dist-packages (from tldextract>=2.0.1->newspaper3k) (1.5.1)\n",
            "Requirement already satisfied: urllib3!=1.25.0,!=1.25.1,<1.26,>=1.21.1 in /usr/local/lib/python3.6/dist-packages (from requests>=2.10.0->newspaper3k) (1.24.3)\n",
            "Requirement already satisfied: chardet<4,>=3.0.2 in /usr/local/lib/python3.6/dist-packages (from requests>=2.10.0->newspaper3k) (3.0.4)\n",
            "Requirement already satisfied: certifi>=2017.4.17 in /usr/local/lib/python3.6/dist-packages (from requests>=2.10.0->newspaper3k) (2020.6.20)\n",
            "Requirement already satisfied: requests in /usr/local/lib/python3.6/dist-packages (2.23.0)\n",
            "Requirement already satisfied: urllib3!=1.25.0,!=1.25.1,<1.26,>=1.21.1 in /usr/local/lib/python3.6/dist-packages (from requests) (1.24.3)\n",
            "Requirement already satisfied: idna<3,>=2.5 in /usr/local/lib/python3.6/dist-packages (from requests) (2.10)\n",
            "Requirement already satisfied: chardet<4,>=3.0.2 in /usr/local/lib/python3.6/dist-packages (from requests) (3.0.4)\n",
            "Requirement already satisfied: certifi>=2017.4.17 in /usr/local/lib/python3.6/dist-packages (from requests) (2020.6.20)\n"
          ],
          "name": "stdout"
        },
        {
          "output_type": "error",
          "ename": "ModuleNotFoundError",
          "evalue": "ignored",
          "traceback": [
            "\u001b[0;31m---------------------------------------------------------------------------\u001b[0m",
            "\u001b[0;31mModuleNotFoundError\u001b[0m                       Traceback (most recent call last)",
            "\u001b[0;32m<ipython-input-24-8d7082716da1>\u001b[0m in \u001b[0;36m<module>\u001b[0;34m()\u001b[0m\n\u001b[1;32m      5\u001b[0m \u001b[0;32mfrom\u001b[0m \u001b[0mnewspaper\u001b[0m \u001b[0;32mimport\u001b[0m \u001b[0mArticle\u001b[0m\u001b[0;34m\u001b[0m\u001b[0;34m\u001b[0m\u001b[0m\n\u001b[1;32m      6\u001b[0m \u001b[0mget_ipython\u001b[0m\u001b[0;34m(\u001b[0m\u001b[0;34m)\u001b[0m\u001b[0;34m.\u001b[0m\u001b[0msystem\u001b[0m\u001b[0;34m(\u001b[0m\u001b[0;34m'pip install requests'\u001b[0m\u001b[0;34m)\u001b[0m\u001b[0;34m\u001b[0m\u001b[0;34m\u001b[0m\u001b[0m\n\u001b[0;32m----> 7\u001b[0;31m \u001b[0;32mfrom\u001b[0m \u001b[0mkonlpy\u001b[0m\u001b[0;34m.\u001b[0m\u001b[0mtag\u001b[0m \u001b[0;32mimport\u001b[0m \u001b[0mHannanum\u001b[0m\u001b[0;34m\u001b[0m\u001b[0;34m\u001b[0m\u001b[0m\n\u001b[0m\u001b[1;32m      8\u001b[0m \u001b[0mtokenizer\u001b[0m \u001b[0;34m=\u001b[0m \u001b[0mHannanum\u001b[0m\u001b[0;34m(\u001b[0m\u001b[0;34m)\u001b[0m\u001b[0;34m\u001b[0m\u001b[0;34m\u001b[0m\u001b[0m\n",
            "\u001b[0;31mModuleNotFoundError\u001b[0m: No module named 'konlpy'",
            "",
            "\u001b[0;31m---------------------------------------------------------------------------\u001b[0;32m\nNOTE: If your import is failing due to a missing package, you can\nmanually install dependencies using either !pip or !apt.\n\nTo view examples of installing some common dependencies, click the\n\"Open Examples\" button below.\n\u001b[0;31m---------------------------------------------------------------------------\u001b[0m\n"
          ]
        }
      ]
    },
    {
      "cell_type": "code",
      "metadata": {
        "id": "O-34c0hXmhPx",
        "colab_type": "code",
        "colab": {
          "base_uri": "https://localhost:8080/",
          "height": 306
        },
        "outputId": "6303a5ef-3b6b-4605-9220-b67c7d0c8c9e"
      },
      "source": [
        "!pip install konlpy\n",
        "from konlpy.tag import Komoran\n",
        "tokenizer = Komoran()"
      ],
      "execution_count": 32,
      "outputs": [
        {
          "output_type": "stream",
          "text": [
            "Requirement already satisfied: konlpy in /usr/local/lib/python3.6/dist-packages (0.5.2)\n",
            "Requirement already satisfied: beautifulsoup4==4.6.0 in /usr/local/lib/python3.6/dist-packages (from konlpy) (4.6.0)\n",
            "Requirement already satisfied: numpy>=1.6 in /usr/local/lib/python3.6/dist-packages (from konlpy) (1.18.5)\n",
            "Requirement already satisfied: JPype1>=0.7.0 in /usr/local/lib/python3.6/dist-packages (from konlpy) (1.0.1)\n",
            "Requirement already satisfied: lxml>=4.1.0 in /usr/local/lib/python3.6/dist-packages (from konlpy) (4.2.6)\n",
            "Requirement already satisfied: colorama in /usr/local/lib/python3.6/dist-packages (from konlpy) (0.4.3)\n",
            "Requirement already satisfied: tweepy>=3.7.0 in /usr/local/lib/python3.6/dist-packages (from konlpy) (3.9.0)\n",
            "Requirement already satisfied: typing-extensions; python_version < \"3.8\" in /usr/local/lib/python3.6/dist-packages (from JPype1>=0.7.0->konlpy) (3.7.4.2)\n",
            "Requirement already satisfied: six>=1.10.0 in /usr/local/lib/python3.6/dist-packages (from tweepy>=3.7.0->konlpy) (1.15.0)\n",
            "Requirement already satisfied: requests[socks]>=2.11.1 in /usr/local/lib/python3.6/dist-packages (from tweepy>=3.7.0->konlpy) (2.23.0)\n",
            "Requirement already satisfied: requests-oauthlib>=0.7.0 in /usr/local/lib/python3.6/dist-packages (from tweepy>=3.7.0->konlpy) (1.3.0)\n",
            "Requirement already satisfied: urllib3!=1.25.0,!=1.25.1,<1.26,>=1.21.1 in /usr/local/lib/python3.6/dist-packages (from requests[socks]>=2.11.1->tweepy>=3.7.0->konlpy) (1.24.3)\n",
            "Requirement already satisfied: chardet<4,>=3.0.2 in /usr/local/lib/python3.6/dist-packages (from requests[socks]>=2.11.1->tweepy>=3.7.0->konlpy) (3.0.4)\n",
            "Requirement already satisfied: certifi>=2017.4.17 in /usr/local/lib/python3.6/dist-packages (from requests[socks]>=2.11.1->tweepy>=3.7.0->konlpy) (2020.6.20)\n",
            "Requirement already satisfied: idna<3,>=2.5 in /usr/local/lib/python3.6/dist-packages (from requests[socks]>=2.11.1->tweepy>=3.7.0->konlpy) (2.10)\n",
            "Requirement already satisfied: PySocks!=1.5.7,>=1.5.6; extra == \"socks\" in /usr/local/lib/python3.6/dist-packages (from requests[socks]>=2.11.1->tweepy>=3.7.0->konlpy) (1.7.1)\n",
            "Requirement already satisfied: oauthlib>=3.0.0 in /usr/local/lib/python3.6/dist-packages (from requests-oauthlib>=0.7.0->tweepy>=3.7.0->konlpy) (3.1.0)\n"
          ],
          "name": "stdout"
        }
      ]
    },
    {
      "cell_type": "code",
      "metadata": {
        "id": "dFqrpnjwavxt",
        "colab_type": "code",
        "colab": {}
      },
      "source": [
        "def make_urllist(page_num, code, date):\n",
        "  urllist=[]\n",
        "  for i in range(1,page_num+1):\n",
        "    url = 'https://news.naver.com/main/list.nhn?mode=LSD&mid=sec&sid1='+str(code)+'&date='+str(date)+'&page='+str(i)   \n",
        "    news=requests.get(url)\n",
        "    soup=BeautifulSoup(news.content, 'html.parser')\n",
        "\n",
        "    news_list=soup.select('.newsflash_body .type06_headline li dl')\n",
        "    news_list.extend(soup.select('.newsflash_body .type06 li dl'))\n",
        "    \n",
        "    for line in news_list:\n",
        "      urllist.append(line.a.get('href'))\n",
        "  return urllist"
      ],
      "execution_count": 10,
      "outputs": []
    },
    {
      "cell_type": "code",
      "metadata": {
        "id": "i55d6znXYwy8",
        "colab_type": "code",
        "colab": {
          "base_uri": "https://localhost:8080/",
          "height": 34
        },
        "outputId": "671ec8d7-b775-4b08-e923-54c7092f762f"
      },
      "source": [
        "idx2word = {'101' : '경제', '102' : '사회', '103' : '생활/문화', '105' : 'IT/과학'}\n",
        "idx2word.keys()"
      ],
      "execution_count": 11,
      "outputs": [
        {
          "output_type": "execute_result",
          "data": {
            "text/plain": [
              "dict_keys(['101', '102', '103', '105'])"
            ]
          },
          "metadata": {
            "tags": []
          },
          "execution_count": 11
        }
      ]
    },
    {
      "cell_type": "code",
      "metadata": {
        "id": "K-hVKcIHf22X",
        "colab_type": "code",
        "colab": {}
      },
      "source": [
        "def make_data(urllist, code):\n",
        "  text_list = []\n",
        "  for url in urllist:\n",
        "    article = Article(url, language='ko')\n",
        "    article.download()\n",
        "    article.parse()\n",
        "    text_list.append(article.text)\n",
        "\n",
        "  df = pd.DataFrame({'news': text_list})\n",
        "\n",
        "  df['code'] = idx2word[str(code)]\n",
        "  return df"
      ],
      "execution_count": 12,
      "outputs": []
    },
    {
      "cell_type": "code",
      "metadata": {
        "id": "3ldD3QJ0f3LJ",
        "colab_type": "code",
        "colab": {}
      },
      "source": [
        "def make_total_data(page_num, code_list, date):\n",
        "  df = None\n",
        "\n",
        "  for code in code_list:\n",
        "    url_list = make_urllist(page_num, code, date)\n",
        "    df_temp = make_data(url_list, code)\n",
        "\n",
        "    if df is not None:\n",
        "      df = pd.concat([df, df_temp])\n",
        "    else:\n",
        "      df = df_temp\n",
        "\n",
        "  return df"
      ],
      "execution_count": 13,
      "outputs": []
    },
    {
      "cell_type": "markdown",
      "metadata": {
        "id": "1_GiXoCpZQch",
        "colab_type": "text"
      },
      "source": [
        "#2. 크롤링 진행\n",
        "\n",
        "- 정확도를 높이기 위해서 날짜를 다양화 => "
      ]
    },
    {
      "cell_type": "code",
      "metadata": {
        "id": "XaCPrdzfZP5n",
        "colab_type": "code",
        "colab": {}
      },
      "source": [
        "df=None\n",
        "\n",
        "date_list=[20200301,20200310,20200401,20200410,20200501,202005010,20200520,20200601, 20200610,20200630, 20200701, 20200801]\n",
        "for date in date_list:\n",
        "  return_data=make_total_data(1,[101,102,103,105],date)\n",
        "  if df is not None:\n",
        "    df=pd.concat([df, return_data])\n",
        "  else:\n",
        "    df=return_data"
      ],
      "execution_count": 52,
      "outputs": []
    },
    {
      "cell_type": "code",
      "metadata": {
        "id": "fCYOOeB7cPOh",
        "colab_type": "code",
        "colab": {
          "base_uri": "https://localhost:8080/",
          "height": 17
        },
        "outputId": "d0b28aa3-7623-49f0-b98b-d76efd96d1b4"
      },
      "source": [
        "from google.colab import files\n",
        "df.to_csv('20200804_전하림.csv') \n",
        "files.download('20200804_전하림.csv')"
      ],
      "execution_count": 68,
      "outputs": [
        {
          "output_type": "display_data",
          "data": {
            "application/javascript": [
              "\n",
              "    async function download(id, filename, size) {\n",
              "      if (!google.colab.kernel.accessAllowed) {\n",
              "        return;\n",
              "      }\n",
              "      const div = document.createElement('div');\n",
              "      const label = document.createElement('label');\n",
              "      label.textContent = `Downloading \"${filename}\": `;\n",
              "      div.appendChild(label);\n",
              "      const progress = document.createElement('progress');\n",
              "      progress.max = size;\n",
              "      div.appendChild(progress);\n",
              "      document.body.appendChild(div);\n",
              "\n",
              "      const buffers = [];\n",
              "      let downloaded = 0;\n",
              "\n",
              "      const channel = await google.colab.kernel.comms.open(id);\n",
              "      // Send a message to notify the kernel that we're ready.\n",
              "      channel.send({})\n",
              "\n",
              "      for await (const message of channel.messages) {\n",
              "        // Send a message to notify the kernel that we're ready.\n",
              "        channel.send({})\n",
              "        if (message.buffers) {\n",
              "          for (const buffer of message.buffers) {\n",
              "            buffers.push(buffer);\n",
              "            downloaded += buffer.byteLength;\n",
              "            progress.value = downloaded;\n",
              "          }\n",
              "        }\n",
              "      }\n",
              "      const blob = new Blob(buffers, {type: 'application/binary'});\n",
              "      const a = document.createElement('a');\n",
              "      a.href = window.URL.createObjectURL(blob);\n",
              "      a.download = filename;\n",
              "      div.appendChild(a);\n",
              "      a.click();\n",
              "      div.remove();\n",
              "    }\n",
              "  "
            ],
            "text/plain": [
              "<IPython.core.display.Javascript object>"
            ]
          },
          "metadata": {
            "tags": []
          }
        },
        {
          "output_type": "display_data",
          "data": {
            "application/javascript": [
              "download(\"download_01f2082a-e7ed-43a8-bf6b-3230e0c1d68e\", \"20200804_\\uc804\\ud558\\ub9bc.csv\", 1757050)"
            ],
            "text/plain": [
              "<IPython.core.display.Javascript object>"
            ]
          },
          "metadata": {
            "tags": []
          }
        }
      ]
    },
    {
      "cell_type": "code",
      "metadata": {
        "id": "DDAmNoircQpm",
        "colab_type": "code",
        "colab": {
          "base_uri": "https://localhost:8080/",
          "height": 419
        },
        "outputId": "e1261c8d-49f8-401b-c8b6-97231d567845"
      },
      "source": [
        "df['news'] = df['news'].str.replace(\"[^ㄱ-ㅎㅏ-ㅣ가-힣 ]\",\"\")\n",
        "df.drop_duplicates(subset=['news'], inplace=True)\n",
        "df"
      ],
      "execution_count": 54,
      "outputs": [
        {
          "output_type": "execute_result",
          "data": {
            "text/html": [
              "<div>\n",
              "<style scoped>\n",
              "    .dataframe tbody tr th:only-of-type {\n",
              "        vertical-align: middle;\n",
              "    }\n",
              "\n",
              "    .dataframe tbody tr th {\n",
              "        vertical-align: top;\n",
              "    }\n",
              "\n",
              "    .dataframe thead th {\n",
              "        text-align: right;\n",
              "    }\n",
              "</style>\n",
              "<table border=\"1\" class=\"dataframe\">\n",
              "  <thead>\n",
              "    <tr style=\"text-align: right;\">\n",
              "      <th></th>\n",
              "      <th>news</th>\n",
              "      <th>code</th>\n",
              "    </tr>\n",
              "  </thead>\n",
              "  <tbody>\n",
              "    <tr>\n",
              "      <th>0</th>\n",
              "      <td>동영상 뉴스코로나로 위축되는 내수를 살리기 위해 정부가 개별소비세 인하를 모든 승용...</td>\n",
              "      <td>경제</td>\n",
              "    </tr>\n",
              "    <tr>\n",
              "      <th>1</th>\n",
              "      <td>동영상 뉴스앵커인터넷에서 해외 직구로 쉽게 살 수 있는 초저가 어린이 휴대용 카시트...</td>\n",
              "      <td>경제</td>\n",
              "    </tr>\n",
              "    <tr>\n",
              "      <th>2</th>\n",
              "      <td>코로나가 세계적으로 점점 확산되면서 종합상사를 비롯한 국내 기업들의 해외영업에 비상...</td>\n",
              "      <td>경제</td>\n",
              "    </tr>\n",
              "    <tr>\n",
              "      <th>3</th>\n",
              "      <td>육군 마스크 생산업체 지원나섰다 일 인천의 한 코로나 예방용 마스크 생산업체에서 육...</td>\n",
              "      <td>경제</td>\n",
              "    </tr>\n",
              "    <tr>\n",
              "      <th>4</th>\n",
              "      <td>발길 끊긴 대구 동성로 일 오후 대구 동성로의 한 상점에 코로나 확산을 막기 위해 ...</td>\n",
              "      <td>경제</td>\n",
              "    </tr>\n",
              "    <tr>\n",
              "      <th>...</th>\n",
              "      <td>...</td>\n",
              "      <td>...</td>\n",
              "    </tr>\n",
              "    <tr>\n",
              "      <th>15</th>\n",
              "      <td>이데일리 김현아 기자온라인 동영상 서비스 웨이브 대표 이태현가 오늘 유니버설로부터 ...</td>\n",
              "      <td>IT/과학</td>\n",
              "    </tr>\n",
              "    <tr>\n",
              "      <th>16</th>\n",
              "      <td>이데일리 김현아 기자대한민국 대표 중고거래 플랫폼 중고나라대표이승우가 이용자의 안전...</td>\n",
              "      <td>IT/과학</td>\n",
              "    </tr>\n",
              "    <tr>\n",
              "      <th>17</th>\n",
              "      <td>바라카원전 사진한국전력지디넷코리아주문정 기자아랍에미리트연합 원전 주계약자인 한국전...</td>\n",
              "      <td>IT/과학</td>\n",
              "    </tr>\n",
              "    <tr>\n",
              "      <th>18</th>\n",
              "      <td>이데일리 김현아 기자가상자산암호화폐거래소 지닥이 월 일부터 카카오 자회사의 발행 가...</td>\n",
              "      <td>IT/과학</td>\n",
              "    </tr>\n",
              "    <tr>\n",
              "      <th>19</th>\n",
              "      <td>중국 내 삼성전자 매장  뉴스 자료사진 중국 내 삼성전자 매장  뉴스 자료사진서울뉴...</td>\n",
              "      <td>IT/과학</td>\n",
              "    </tr>\n",
              "  </tbody>\n",
              "</table>\n",
              "<p>786 rows × 2 columns</p>\n",
              "</div>"
            ],
            "text/plain": [
              "                                                 news   code\n",
              "0   동영상 뉴스코로나로 위축되는 내수를 살리기 위해 정부가 개별소비세 인하를 모든 승용...     경제\n",
              "1   동영상 뉴스앵커인터넷에서 해외 직구로 쉽게 살 수 있는 초저가 어린이 휴대용 카시트...     경제\n",
              "2   코로나가 세계적으로 점점 확산되면서 종합상사를 비롯한 국내 기업들의 해외영업에 비상...     경제\n",
              "3   육군 마스크 생산업체 지원나섰다 일 인천의 한 코로나 예방용 마스크 생산업체에서 육...     경제\n",
              "4   발길 끊긴 대구 동성로 일 오후 대구 동성로의 한 상점에 코로나 확산을 막기 위해 ...     경제\n",
              "..                                                ...    ...\n",
              "15  이데일리 김현아 기자온라인 동영상 서비스 웨이브 대표 이태현가 오늘 유니버설로부터 ...  IT/과학\n",
              "16  이데일리 김현아 기자대한민국 대표 중고거래 플랫폼 중고나라대표이승우가 이용자의 안전...  IT/과학\n",
              "17   바라카원전 사진한국전력지디넷코리아주문정 기자아랍에미리트연합 원전 주계약자인 한국전...  IT/과학\n",
              "18  이데일리 김현아 기자가상자산암호화폐거래소 지닥이 월 일부터 카카오 자회사의 발행 가...  IT/과학\n",
              "19  중국 내 삼성전자 매장  뉴스 자료사진 중국 내 삼성전자 매장  뉴스 자료사진서울뉴...  IT/과학\n",
              "\n",
              "[786 rows x 2 columns]"
            ]
          },
          "metadata": {
            "tags": []
          },
          "execution_count": 54
        }
      ]
    },
    {
      "cell_type": "code",
      "metadata": {
        "id": "4-U66klrdifN",
        "colab_type": "code",
        "colab": {
          "base_uri": "https://localhost:8080/",
          "height": 102
        },
        "outputId": "f7acf88a-3d0f-436f-bcbd-0da1fbf6b3c4"
      },
      "source": [
        "df['code'].value_counts()"
      ],
      "execution_count": 55,
      "outputs": [
        {
          "output_type": "execute_result",
          "data": {
            "text/plain": [
              "IT/과학    207\n",
              "생활/문화    197\n",
              "경제       196\n",
              "사회       186\n",
              "Name: code, dtype: int64"
            ]
          },
          "metadata": {
            "tags": []
          },
          "execution_count": 55
        }
      ]
    },
    {
      "cell_type": "markdown",
      "metadata": {
        "id": "bPOPe8ianQxN",
        "colab_type": "text"
      },
      "source": [
        "#3. Token화 \n",
        "- Stop words 제외\n",
        "- **데이터 처리 속도가 상대적으로 빠르다고 알려졌기 때문에 Komoran 사용**\n"
      ]
    },
    {
      "cell_type": "code",
      "metadata": {
        "id": "NBW9OJ7ElIIB",
        "colab_type": "code",
        "colab": {}
      },
      "source": [
        "# 토큰화 및 토큰화 과정에서 불용어를 제거하는 함수입니다.\n",
        "stopwords = ['에','것', 'ㄴ','는','은','을','했','에게','있','이','의','하','한','다','과','때문','할','수','무단','따른','및','금지','전재','경향신문','기자','습니다','는데','가','앵커','등','들','파이낸셜','저작','등','뉴스','노컷뉴스', '저작권자','ㄹ','네','습니다','죠','아','었','를','라는','었','에서','와','후','아','고','었','아',\n",
        "             '어서','되']\n",
        "\n",
        "def preprocessing(data):\n",
        "  text_data = []\n",
        "\n",
        "  for sentence in data:\n",
        "    temp_data = []\n",
        "    #- 토큰화\n",
        "    temp_data = tokenizer.morphs(sentence) \n",
        "    #- 불용어 제거\n",
        "    temp_data = [word for word in temp_data if not word in stopwords] \n",
        "    text_data.append(temp_data)\n",
        "\n",
        "  text_data = list(map(' '.join, text_data))\n",
        "\n",
        "  return text_data\n"
      ],
      "execution_count": 71,
      "outputs": []
    },
    {
      "cell_type": "code",
      "metadata": {
        "id": "UCNbLOd1lr-X",
        "colab_type": "code",
        "colab": {
          "base_uri": "https://localhost:8080/",
          "height": 34
        },
        "outputId": "8284a6c0-28c4-4173-c707-e4e4b7b2f9f1"
      },
      "source": [
        "text_data = preprocessing(df['news'])\n",
        "len(stopwords)"
      ],
      "execution_count": 72,
      "outputs": [
        {
          "output_type": "execute_result",
          "data": {
            "text/plain": [
              "55"
            ]
          },
          "metadata": {
            "tags": []
          },
          "execution_count": 72
        }
      ]
    },
    {
      "cell_type": "code",
      "metadata": {
        "id": "_J8iZ7mZlyso",
        "colab_type": "code",
        "colab": {
          "base_uri": "https://localhost:8080/",
          "height": 105
        },
        "outputId": "107a5380-9b56-4e4a-9671-08e709db4d4a"
      },
      "source": [
        "text_data[1:5]"
      ],
      "execution_count": 73,
      "outputs": [
        {
          "output_type": "execute_result",
          "data": {
            "text/plain": [
              "['동영상 인터넷 해외 직구 로 쉽 게 살 초 저가 어린이 휴대 용 카 시트 안전 지 않 다는 소비자 원 조사 결과 나오 았 소비자 원 문제 제품 안전 벨트 아예 착용 지 않 다르 바 없 수준 라고 지적 았 차 유정 보도 ㅂ니다 인터넷 검색 만 면 나오 어린이 휴대 용 카 시트 ㅂ니다 주로 천 재질 ㄴ데 제품 좌석 고정 뒤 벨트 채우 중간 패드 좌석 안전띠 통과 시키 어 이중 으로 고정 방식 입 니다 해외 직구 로 살 가격 도 만 원 미만 으로 저렴 ㅂ니다 그러 ㄴ데 문제 안전 입 니다 소비자 원 저가 형 카 시트 개 제품 살피 더니 인증 받 제품 단 개 도 없 기능 실험 결과 도 충격 적 소비자 원 미 인증 시트 개 고르 장착 차량 시속 속도 로 벽 부딪히 게 보 았 문제 제품 보 면 목 부위 심하 게 꺾이 가슴 골반 부위 시트 완전히 떨어지 ㅂ니다 인증 제품 마네킹 신체 전반 안정 적 으로 고정 상체 앞 으로 내 로 쏠리 반면 미 인증 품 까 지 튀 어 나가 ㅂ니다 또 다른 미 인증 제품 도 마 찬가 집 니다 고정 장치 망가지 면서 마네킹 하체 시트 앞 으로 그대로 미끄러지 ㅂ니다 사 충격 실험 뒤 미 인증 제품 입 니다 골반 고정 장치 완전히 떨어지 어 나가 았 정도 면 카 시트 로 보호 기능 거의 없 다는 게 소비자 원 판단 입 니다 김 병법 소비자 원 안전 감시 국 생활 안전 팀 저희 느끼 던 안전 벨트 착용 지 않 크 차이 없 다는 겁 니다 일부 미 인증 제품 피부염 이나 호흡기 질환 유발 유해 물질 폼알데하이드 도 기준 치 초과 검출 기 도 았 소비자 원 지금 문제 제품 팔 지 말 도록 조치 았 다면서 소비자 도 안전 인증 표시 없 저가 형 제품 사지 말 라고 당부 았 차 유정 입 니다 저작권 자 재 배포',\n",
              " '코로나 세계 적 으로 점점 확산 면서 종합상사 비롯 국내 기업 해외 영업 비상 걸리 사태 초기 발병 국인 중국 출장 자제 았 지만 최근 확진 자 급증 한국 해외 출장 기피 대상 국인 입국 제한 국가 속출 데 입국 더라도 격리 조치 당하 해외 출장길 막히 대구경북 비롯 한국 으로 여행경보 격상 으로 외국 기업 관계자 한국 방문 역시 제한 산업 계 따르 면 가장 크 타격 받 곳 해외 영업 주 업무 로 종합상사 한국인 경계 분위기 로 출장 뿐 만 아니 라 해외 바이어 초청 도 막히 면서 기존 거래처 만 유지 뿐 신규 영업 중단 다시피 았 삼성물산 중국 베이 성 출장 데 이어 임직원 해외 출장 잠정 제한 았 또 외부 고객 미팅 가급적 줄이 전화 나 콘퍼런스 콜 활용 상사 국내외 위험 지역 출장 비롯 현지 주재원 국내 로 들어오 도 해외 사업장 간 방문 도 자제 시키 종합상사 관계자 입국 제한 아니 국가 라도 격리 경우 어 해외 출장 줄줄이 취소 았 다며 통상 팀 별 로 월간 출장 여건 월 출장 계획 전무 다고 말 았 해외 기업 방한 일정 도 잇따르 취소 구글 아마존 코로나 확산 한국 비롯 이탈리아 이란 일본 출장 제한 다고 미국 언론 전하 았 아마존 직원 월 말 까지 출장 미팅 일정 잡지 않 도록 메일 보내 으로 알리 어 지 현대 기아자동차 두산 밥캣 해외 업무 화상 회의 나 서류 검토 콘퍼런스 콜 비대 면 회의 로 이어 지만 정상 적 영업 활동 어렵 상태 대기업 관계자 해외 고객 사와 새로 공급 계약 맺 거나 투자 유치 려면 국내 로 해외 기업 초청 아야 ㄴ다며 한국 코로나 사태 악화 로 비즈니스 미팅 많이 취소 거나 연기 다고 말 았 제네바 모터쇼 취소 도 걱정거리 배터리 업계 관계자 제네바 모터쇼 취소 로 전 기차 업체 바이어 만나 기회 조차 사라지 다며 베이징 모터쇼 무기 연기 월 개막 예정 국내 트렌드 코리아 참가 해외 기업 도 주 ㄹ지 않 을지 걱정 라고 말 았 중동 동남아시아 현장 많 건설사 입국 장기 화 경우 인력 수급 차질 우려 ㄴ다 대형 건설사 관계자 현장 상황 따르 추가 인력 보내 거나 현지 국내 로 휴가 도 나오 아야 입국 문제 길 어 지 면 정말 큰일 라고 말 았 정유미 재 배포',\n",
              " '육군 마스크 생산 업체 지원 나 섰다 일 인천 코로나 예방 용 마스크 생산 업체 육군 현 장지원 팀 장병 제품 포장 작업 국방부 부산 전주 파주 등지 개 마스크 생산 업체 장병 명 배 송 차량 대 지원 았 국방부 제공 육군 마스크 생산 업체 지원 나 섰다 일 인천 코로나 예방 용 마스크 생산 업체 육군 현 장지원 팀 장병 제품 포장 작업 국방부 부산 전주 파주 등지 개 마스크 생산 업체 장병 명 배 송 차량 대 지원 았 국방부 제공 코로나 급속 확산 으로 수요 커지 우체국 마스크 판매 시간 기존 오후 시 일 부터 오전 시로 앞당기 어 지 ㄴ다 문재인 대통령 마스크 수급 문제 해결 모든 대책 최 우선 강구 라고 지시 았 과학기술 정보 통신부 우정사업본부 일 우체국 오 고객 조금 라도 빨리 마스크 구하 도록 오전 시로 판매 시간 조정 겠 다고 밝히 일 부터 우체국 오전 시 마스크 판매 며 당일 판매 수량 도 입구 안내문 붙이 사전 안내 기 로 았 다만 제주 지역 오후 시 도서 지역 도착 여부 따르 판매 기 로 았 또한 오후 근무 시간 제 우체국 오후 시 판매 우체국 판매 마스크 수량 인당 개 로 제한 ㄴ다 가격 원 개 당 원 전국 하루 판매 물량 만 개 하루 판매 물량 가격 제조 업체 협의 따르 매일 달라지 있다 우정사업본부 지난달 일 대구 청도 지역 시작 으로 일 전국 개 우체국 마스크 판매 았 그러나 공급량 부족 읍 면 소재 우체국 약 명 만 마스크 판매 았 마스크 판매 우체국 기타 자세 사항 우정사업본부 인터넷우체국 홈페이지 우체국 콜 센터 통하 확인 있다 문 대통령 이날 오후 홍 남 기 부총리 겸 기획 재 정부 장관 이의 경 식품 의약품 안전 처장 마스크 공급 관련 긴급 보고 받 대책 마련 투명 정보 공개 지시 았 문 대통령 마스크 공급 유통 장애 법 제도 다면 가능 범위 시급히 정비 라고 지시 았 품 귀 현상 빚 자 정부 지난달 일 마스크 긴급 수급 조정 조치 발동 하루 생산량 공적 판매 도록 강제 조치 들어가 았 박 능 중앙재난안전대책본부 차장 보건 복지부 장관 국민 보다 쉽 게 마스크 살 방안 강구 다고 밝히 곽희 양 재 배포',\n",
              " '발길 끊기 대구 동성로 일 오후 대구 동성로 상점 코로나 확산 막 기 위하 임시 휴업 ㄴ다는 안내문 붙 어 연합뉴스 발길 끊기 대구 동성로 일 오후 대구 동성로 상점 코로나 확산 막 기 위하 임시 휴업 ㄴ다는 안내문 붙 어 연합뉴스이노텍과 삼성전자 구미 사업장 코로나 확진 자 나오 생산 라인 멈추 산업 계 셧다운 현실화 재택근무 어렵 일부 중소기업 고민 깊 어 지 한편 이미 재택근무 들어가 직원 업무 집중 도 피로감 도 호소한다이노텍은 일 구미 공장 확진 자 발생 해당 라인 폐쇄 방역 실시 다고 밝히 카메라 모듈 생산 공장 일 던 직원 모두 자택 대기 상태 로 들어가 았 보건 당국 협의 안전 다고 판단 경우 공장 일 재 가동 예정 이다 지난달 일 삼성전자 구미 사업장 무선 사업부 일 ㄱ씨가 코로나 확진 판정 받 일 오후 시 까지 사업장 문 닫히 지난달 일 무선 사업부 직원 씨 확진 판정 으로 사흘 간 구미 사업장 폐쇄 이후 다시 벌어지 일 지난달 일 구미 사업장 네트워크 사업부 직원 ㄷ씨가 확진 판정 받 해당 사무실 닫 았 삼성전자 측 사업장 일시 폐쇄 생산량 재고량 조절 로 관리 범위 생산 차질 빚 지 않 는다고 밝히 자사 직원 확진 자 아니 어도 공장 멈추 경우 디스플레이 구미 사업장 내 모듈 공장 지난달 일 부터 일 까지 폐쇄 해당 사업장 은행 식당 매점 입주 복지 동이 은행 직원 확진 판정 받 아서 디스플레이 복지 동 이용 직원 근무 모듈 공장 일 까지 닫 자동차 업계 위기감 도 계속 지난달 일 현대자동차 울산 공장 근무 직원 코로나 확진 판정 받 자 일 까지 공장 가동 멈추 어 세우 스포츠 유틸리티 차 팰리세이드 싼타페 생산 곳 업계 국내 자동차 부 품사 몰리 대구경북 지역 확진 자 더 늘어나 경우 자동차 업계 피해 커지 다고 보 코로나 확산 세 누그러지 지 않 자 텔레콤 재택근무 당초 일 일 까지 연장 대기업 중심 으로 재택근무 늘리 추세 다만 정보통신기술 기반 약하 재택근무 기 어렵 일부 중소기업 고민 깊 어 지 서울 인 가량 직원 두 업체 임신부 허용 았 지만 전 직원 재택근무 엄두 내지 못하 ㄴ다 회사 관계자 영상 회의 나 원격 업무 시스템 충분 지 못하 중소기업 현실 상 전 직원 재택근무 어렵 다고 말 았 재택근무 직원 피로감 도 나오 ㄴ다 대기업 과장 씨 아침 정장 입 출퇴근 수고 롭 ㅁ 덜 다면서 도 집 만 자니 업무 집중도 떨어지 답답 다고 말 았 다른 대기업 직원 ㅁ씨는 어린이집 까지 문 닫 아서 아이 보 면서 집 일 느라 더 힘들 거 같 다고 말 았 편 사람 몰리 꺼리 분위기 강하 지 면서 월 정기 주주총회 개최 대하 걱정 도 늘 화학 이노베이션 효성 주 총장 입구 열 화상 카메라 로 참석자 체온 재기 로 았 삼성전자 현대자동차 이번 주총 부터 도입 전자 투표 제도 대안 월 기준 국내 전체 상 장사 곳 중 곳 전자 투표 제 적용 았 곽희 양 재 배포']"
            ]
          },
          "metadata": {
            "tags": []
          },
          "execution_count": 73
        }
      ]
    },
    {
      "cell_type": "code",
      "metadata": {
        "id": "8jpcfDj3m-cn",
        "colab_type": "code",
        "colab": {}
      },
      "source": [
        ""
      ],
      "execution_count": 73,
      "outputs": []
    },
    {
      "cell_type": "markdown",
      "metadata": {
        "id": "d4RF5xBnsaZq",
        "colab_type": "text"
      },
      "source": [
        "#3. 머신러닝"
      ]
    },
    {
      "cell_type": "code",
      "metadata": {
        "id": "hYbrWijnrten",
        "colab_type": "code",
        "colab": {}
      },
      "source": [
        "from sklearn.model_selection import train_test_split\n",
        "from sklearn.feature_extraction.text import CountVectorizer\n",
        "from sklearn.feature_extraction.text import TfidfTransformer\n",
        "from sklearn.naive_bayes import MultinomialNB\n",
        "from sklearn import metrics"
      ],
      "execution_count": 74,
      "outputs": []
    },
    {
      "cell_type": "code",
      "metadata": {
        "id": "aBIYj6GYsZec",
        "colab_type": "code",
        "colab": {}
      },
      "source": [
        "X_train, X_test, y_train, y_test = train_test_split(text_data, df['code'], random_state = 10)"
      ],
      "execution_count": 83,
      "outputs": []
    },
    {
      "cell_type": "code",
      "metadata": {
        "id": "73eH7lbEsjkT",
        "colab_type": "code",
        "colab": {}
      },
      "source": [
        "count_vect = CountVectorizer()\n",
        "X_train_counts = count_vect.fit_transform(X_train)\n",
        "\n",
        "tfidf_transformer = TfidfTransformer()\n",
        "X_train_tfidf = tfidf_transformer.fit_transform(X_train_counts)\n",
        "\n",
        "clf = MultinomialNB().fit(X_train_tfidf, y_train)"
      ],
      "execution_count": 80,
      "outputs": []
    },
    {
      "cell_type": "code",
      "metadata": {
        "id": "uE54qwXssp4_",
        "colab_type": "code",
        "colab": {}
      },
      "source": [
        "def tfidf_vectorizer(data):\n",
        "  data_counts = count_vect.transform(data)\n",
        "  data_tfidf = tfidf_transformer.transform(data_counts)\n",
        "  return data_tfidf"
      ],
      "execution_count": 81,
      "outputs": []
    },
    {
      "cell_type": "code",
      "metadata": {
        "id": "5TfqH2YIss6x",
        "colab_type": "code",
        "colab": {
          "base_uri": "https://localhost:8080/",
          "height": 204
        },
        "outputId": "65bf154e-4b30-437d-c175-f2329eb7c8f2"
      },
      "source": [
        "y_pred = clf.predict(tfidf_vectorizer(X_test))\n",
        "print(metrics.classification_report(y_test, y_pred))"
      ],
      "execution_count": 84,
      "outputs": [
        {
          "output_type": "stream",
          "text": [
            "              precision    recall  f1-score   support\n",
            "\n",
            "       IT/과학       0.83      0.88      0.85        50\n",
            "          경제       0.80      0.80      0.80        46\n",
            "          사회       0.83      0.88      0.85        49\n",
            "       생활/문화       0.93      0.83      0.88        52\n",
            "\n",
            "    accuracy                           0.85       197\n",
            "   macro avg       0.85      0.85      0.85       197\n",
            "weighted avg       0.85      0.85      0.85       197\n",
            "\n"
          ],
          "name": "stdout"
        }
      ]
    },
    {
      "cell_type": "code",
      "metadata": {
        "id": "xx2bY5mMsxcN",
        "colab_type": "code",
        "colab": {}
      },
      "source": [
        ""
      ],
      "execution_count": null,
      "outputs": []
    }
  ]
}