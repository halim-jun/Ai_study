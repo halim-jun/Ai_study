{
  "nbformat": 4,
  "nbformat_minor": 0,
  "metadata": {
    "colab": {
      "name": "Aiffel_Team10_SalesPrediction.ipynb",
      "provenance": [],
      "collapsed_sections": [],
      "toc_visible": true,
      "include_colab_link": true
    },
    "kernelspec": {
      "name": "python3",
      "display_name": "Python 3"
    }
  },
  "cells": [
    {
      "cell_type": "markdown",
      "metadata": {
        "id": "view-in-github",
        "colab_type": "text"
      },
      "source": [
        "<a href=\"https://colab.research.google.com/github/halim-jun/Ai_study/blob/master/Aiffel_Team10_SalesPrediction.ipynb\" target=\"_parent\"><img src=\"https://colab.research.google.com/assets/colab-badge.svg\" alt=\"Open In Colab\"/></a>"
      ]
    },
    {
      "cell_type": "code",
      "metadata": {
        "id": "Meuw8uiXZNjr",
        "colab_type": "code",
        "colab": {
          "resources": {
            "http://localhost:8080/nbextensions/google.colab/files.js": {
              "data": "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",
              "ok": true,
              "headers": [
                [
                  "content-type",
                  "application/javascript"
                ]
              ],
              "status": 200,
              "status_text": ""
            }
          },
          "base_uri": "https://localhost:8080/",
          "height": 242
        },
        "outputId": "d4cb4808-cd06-49d2-932c-43205bea124d"
      },
      "source": [
        "from google.colab import files\n",
        "files.upload()"
      ],
      "execution_count": null,
      "outputs": [
        {
          "output_type": "display_data",
          "data": {
            "text/html": [
              "\n",
              "     <input type=\"file\" id=\"files-a15eed6d-5652-4df0-9c0a-9e36a1f92bce\" name=\"files[]\" multiple disabled\n",
              "        style=\"border:none\" />\n",
              "     <output id=\"result-a15eed6d-5652-4df0-9c0a-9e36a1f92bce\">\n",
              "      Upload widget is only available when the cell has been executed in the\n",
              "      current browser session. Please rerun this cell to enable.\n",
              "      </output>\n",
              "      <script src=\"/nbextensions/google.colab/files.js\"></script> "
            ],
            "text/plain": [
              "<IPython.core.display.HTML object>"
            ]
          },
          "metadata": {
            "tags": []
          }
        },
        {
          "output_type": "stream",
          "text": [
            "Saving test.csv to test.csv\n",
            "Saving shops.csv to shops.csv\n",
            "Saving sample_submission.csv to sample_submission.csv\n",
            "Saving sales_train.csv to sales_train.csv\n",
            "Saving items.csv to items.csv\n",
            "Saving item_categories.csv to item_categories.csv\n"
          ],
          "name": "stdout"
        }
      ]
    },
    {
      "cell_type": "code",
      "metadata": {
        "id": "YnAXQ7mDRrVu",
        "colab_type": "code",
        "colab": {}
      },
      "source": [
        "import pandas as pd\n",
        "import seaborn as sns \n",
        "import matplotlib.pyplot as plt\n",
        "import numpy as np\n",
        "import sklearn\n",
        "from os.path import join"
      ],
      "execution_count": null,
      "outputs": []
    },
    {
      "cell_type": "code",
      "metadata": {
        "id": "U5-yAqBfRqTX",
        "colab_type": "code",
        "colab": {}
      },
      "source": [
        "item_categories=pd.read_csv(\"./item_categories.csv\")\n",
        "items=pd.read_csv(\"./items.csv\")\n",
        "sales_train=pd.read_csv(\"./sales_train.csv\")\n",
        "shops=pd.read_csv(\"./shops.csv\")\n",
        "sample_submission=pd.read_csv(\"./sample_submission.csv\")\n",
        "test=pd.read_csv(\"./test.csv\")"
      ],
      "execution_count": null,
      "outputs": []
    },
    {
      "cell_type": "code",
      "metadata": {
        "id": "K_D2D8hAIKUq",
        "colab_type": "code",
        "colab": {}
      },
      "source": [
        "item_categories_add=pd.read_csv(\"./item_categories_add.csv\")"
      ],
      "execution_count": null,
      "outputs": []
    },
    {
      "cell_type": "markdown",
      "metadata": {
        "id": "0PAmvJqo4DJX",
        "colab_type": "text"
      },
      "source": [
        "#0. 전처리 / Pre-Processing"
      ]
    },
    {
      "cell_type": "markdown",
      "metadata": {
        "id": "7K4HdNif-mJ3",
        "colab_type": "text"
      },
      "source": [
        "##1) 중복제거 / drop duplicates"
      ]
    },
    {
      "cell_type": "code",
      "metadata": {
        "id": "ccghI4yn4GL9",
        "colab_type": "code",
        "colab": {
          "base_uri": "https://localhost:8080/",
          "height": 68
        },
        "outputId": "dd4e1c9b-8faa-466f-d5f4-27187c0cf800"
      },
      "source": [
        "subset = ['date','date_block_num','shop_id','item_id','item_cnt_day']\n",
        "print(sales_train.duplicated(subset=subset).value_counts())\n",
        "sales_train.drop_duplicates(subset=subset, inplace=True)"
      ],
      "execution_count": null,
      "outputs": [
        {
          "output_type": "stream",
          "text": [
            "False    2935825\n",
            "True          24\n",
            "dtype: int64\n"
          ],
          "name": "stdout"
        }
      ]
    },
    {
      "cell_type": "markdown",
      "metadata": {
        "id": "bhY8icWf_B7v",
        "colab_type": "text"
      },
      "source": [
        "##2) 예측에 필요 없는 데이터 항복 제거 /drop shops&items not in test data "
      ]
    },
    {
      "cell_type": "code",
      "metadata": {
        "id": "0EOjXc7i4JlV",
        "colab_type": "code",
        "colab": {}
      },
      "source": [
        "test_shops = test.shop_id.unique() \n",
        "test_items = test.item_id.unique()\n",
        "sales_train = sales_train[sales_train.shop_id.isin(test_shops)] \n",
        "sales_train = sales_train[sales_train.item_id.isin(test_items)]"
      ],
      "execution_count": null,
      "outputs": []
    },
    {
      "cell_type": "code",
      "metadata": {
        "id": "bvZegYgMF1yj",
        "colab_type": "code",
        "colab": {}
      },
      "source": [
        "## date_new columns"
      ],
      "execution_count": null,
      "outputs": []
    },
    {
      "cell_type": "markdown",
      "metadata": {
        "id": "3rD2mW-uRsXr",
        "colab_type": "text"
      },
      "source": [
        "## 3) Date 칼럼 전처리 (시계열화)"
      ]
    },
    {
      "cell_type": "code",
      "metadata": {
        "id": "yE4t7_LYF4Yo",
        "colab_type": "code",
        "colab": {}
      },
      "source": [
        "sales_train['date_new'] = sales_train['date'].apply(lambda i:i[6:]+i[3:5]+i[0:2]).astype(str)"
      ],
      "execution_count": null,
      "outputs": []
    },
    {
      "cell_type": "code",
      "metadata": {
        "id": "HsKgqQUCF4en",
        "colab_type": "code",
        "colab": {}
      },
      "source": [
        "sales_train['date_new']=pd.to_datetime(sales_train['date_new'])"
      ],
      "execution_count": null,
      "outputs": []
    },
    {
      "cell_type": "code",
      "metadata": {
        "id": "huptkyUdF4kI",
        "colab_type": "code",
        "colab": {}
      },
      "source": [
        "sales_train['year_month'] = sales_train['date_new'].dt.to_period('M')"
      ],
      "execution_count": null,
      "outputs": []
    },
    {
      "cell_type": "code",
      "metadata": {
        "id": "rd-tDhAzF7hn",
        "colab_type": "code",
        "colab": {}
      },
      "source": [
        "sales_train['month']=sales_train['date_new'].dt.month"
      ],
      "execution_count": null,
      "outputs": []
    },
    {
      "cell_type": "code",
      "metadata": {
        "id": "zDUj3_vlF9NO",
        "colab_type": "code",
        "colab": {}
      },
      "source": [
        "# 다 끝나고 del date_new, date 하기"
      ],
      "execution_count": null,
      "outputs": []
    },
    {
      "cell_type": "code",
      "metadata": {
        "id": "ps8UxKwfJJGF",
        "colab_type": "code",
        "colab": {
          "base_uri": "https://localhost:8080/",
          "height": 419
        },
        "outputId": "0bc82a33-a32a-4567-c3d2-03d59c3da3a8"
      },
      "source": [
        "sales_train"
      ],
      "execution_count": null,
      "outputs": [
        {
          "output_type": "execute_result",
          "data": {
            "text/html": [
              "<div>\n",
              "<style scoped>\n",
              "    .dataframe tbody tr th:only-of-type {\n",
              "        vertical-align: middle;\n",
              "    }\n",
              "\n",
              "    .dataframe tbody tr th {\n",
              "        vertical-align: top;\n",
              "    }\n",
              "\n",
              "    .dataframe thead th {\n",
              "        text-align: right;\n",
              "    }\n",
              "</style>\n",
              "<table border=\"1\" class=\"dataframe\">\n",
              "  <thead>\n",
              "    <tr style=\"text-align: right;\">\n",
              "      <th></th>\n",
              "      <th>date</th>\n",
              "      <th>date_block_num</th>\n",
              "      <th>shop_id</th>\n",
              "      <th>item_id</th>\n",
              "      <th>item_price</th>\n",
              "      <th>item_cnt_day</th>\n",
              "      <th>item_category_id</th>\n",
              "      <th>item_category_name_L</th>\n",
              "      <th>date_new</th>\n",
              "      <th>year_month</th>\n",
              "      <th>month</th>\n",
              "    </tr>\n",
              "  </thead>\n",
              "  <tbody>\n",
              "    <tr>\n",
              "      <th>0</th>\n",
              "      <td>02.01.2013</td>\n",
              "      <td>0</td>\n",
              "      <td>59</td>\n",
              "      <td>22154</td>\n",
              "      <td>999.00</td>\n",
              "      <td>1.0</td>\n",
              "      <td>37</td>\n",
              "      <td>Movies</td>\n",
              "      <td>2013-01-02</td>\n",
              "      <td>2013-01</td>\n",
              "      <td>1</td>\n",
              "    </tr>\n",
              "    <tr>\n",
              "      <th>1</th>\n",
              "      <td>03.01.2013</td>\n",
              "      <td>0</td>\n",
              "      <td>25</td>\n",
              "      <td>2552</td>\n",
              "      <td>899.00</td>\n",
              "      <td>1.0</td>\n",
              "      <td>58</td>\n",
              "      <td>Music</td>\n",
              "      <td>2013-01-03</td>\n",
              "      <td>2013-01</td>\n",
              "      <td>1</td>\n",
              "    </tr>\n",
              "    <tr>\n",
              "      <th>2</th>\n",
              "      <td>05.01.2013</td>\n",
              "      <td>0</td>\n",
              "      <td>25</td>\n",
              "      <td>2552</td>\n",
              "      <td>899.00</td>\n",
              "      <td>-1.0</td>\n",
              "      <td>58</td>\n",
              "      <td>Music</td>\n",
              "      <td>2013-01-05</td>\n",
              "      <td>2013-01</td>\n",
              "      <td>1</td>\n",
              "    </tr>\n",
              "    <tr>\n",
              "      <th>3</th>\n",
              "      <td>06.01.2013</td>\n",
              "      <td>0</td>\n",
              "      <td>25</td>\n",
              "      <td>2554</td>\n",
              "      <td>1709.05</td>\n",
              "      <td>1.0</td>\n",
              "      <td>58</td>\n",
              "      <td>Music</td>\n",
              "      <td>2013-01-06</td>\n",
              "      <td>2013-01</td>\n",
              "      <td>1</td>\n",
              "    </tr>\n",
              "    <tr>\n",
              "      <th>4</th>\n",
              "      <td>15.01.2013</td>\n",
              "      <td>0</td>\n",
              "      <td>25</td>\n",
              "      <td>2555</td>\n",
              "      <td>1099.00</td>\n",
              "      <td>1.0</td>\n",
              "      <td>56</td>\n",
              "      <td>Music</td>\n",
              "      <td>2013-01-15</td>\n",
              "      <td>2013-01</td>\n",
              "      <td>1</td>\n",
              "    </tr>\n",
              "    <tr>\n",
              "      <th>...</th>\n",
              "      <td>...</td>\n",
              "      <td>...</td>\n",
              "      <td>...</td>\n",
              "      <td>...</td>\n",
              "      <td>...</td>\n",
              "      <td>...</td>\n",
              "      <td>...</td>\n",
              "      <td>...</td>\n",
              "      <td>...</td>\n",
              "      <td>...</td>\n",
              "      <td>...</td>\n",
              "    </tr>\n",
              "    <tr>\n",
              "      <th>2935844</th>\n",
              "      <td>10.10.2015</td>\n",
              "      <td>33</td>\n",
              "      <td>25</td>\n",
              "      <td>7409</td>\n",
              "      <td>299.00</td>\n",
              "      <td>1.0</td>\n",
              "      <td>55</td>\n",
              "      <td>Music</td>\n",
              "      <td>2015-10-10</td>\n",
              "      <td>2015-10</td>\n",
              "      <td>10</td>\n",
              "    </tr>\n",
              "    <tr>\n",
              "      <th>2935845</th>\n",
              "      <td>09.10.2015</td>\n",
              "      <td>33</td>\n",
              "      <td>25</td>\n",
              "      <td>7460</td>\n",
              "      <td>299.00</td>\n",
              "      <td>1.0</td>\n",
              "      <td>55</td>\n",
              "      <td>Music</td>\n",
              "      <td>2015-10-09</td>\n",
              "      <td>2015-10</td>\n",
              "      <td>10</td>\n",
              "    </tr>\n",
              "    <tr>\n",
              "      <th>2935846</th>\n",
              "      <td>14.10.2015</td>\n",
              "      <td>33</td>\n",
              "      <td>25</td>\n",
              "      <td>7459</td>\n",
              "      <td>349.00</td>\n",
              "      <td>1.0</td>\n",
              "      <td>55</td>\n",
              "      <td>Music</td>\n",
              "      <td>2015-10-14</td>\n",
              "      <td>2015-10</td>\n",
              "      <td>10</td>\n",
              "    </tr>\n",
              "    <tr>\n",
              "      <th>2935847</th>\n",
              "      <td>22.10.2015</td>\n",
              "      <td>33</td>\n",
              "      <td>25</td>\n",
              "      <td>7440</td>\n",
              "      <td>299.00</td>\n",
              "      <td>1.0</td>\n",
              "      <td>57</td>\n",
              "      <td>Music</td>\n",
              "      <td>2015-10-22</td>\n",
              "      <td>2015-10</td>\n",
              "      <td>10</td>\n",
              "    </tr>\n",
              "    <tr>\n",
              "      <th>2935848</th>\n",
              "      <td>03.10.2015</td>\n",
              "      <td>33</td>\n",
              "      <td>25</td>\n",
              "      <td>7460</td>\n",
              "      <td>299.00</td>\n",
              "      <td>1.0</td>\n",
              "      <td>55</td>\n",
              "      <td>Music</td>\n",
              "      <td>2015-10-03</td>\n",
              "      <td>2015-10</td>\n",
              "      <td>10</td>\n",
              "    </tr>\n",
              "  </tbody>\n",
              "</table>\n",
              "<p>2935849 rows × 11 columns</p>\n",
              "</div>"
            ],
            "text/plain": [
              "               date  date_block_num  shop_id  ...   date_new  year_month  month\n",
              "0        02.01.2013               0       59  ... 2013-01-02     2013-01      1\n",
              "1        03.01.2013               0       25  ... 2013-01-03     2013-01      1\n",
              "2        05.01.2013               0       25  ... 2013-01-05     2013-01      1\n",
              "3        06.01.2013               0       25  ... 2013-01-06     2013-01      1\n",
              "4        15.01.2013               0       25  ... 2013-01-15     2013-01      1\n",
              "...             ...             ...      ...  ...        ...         ...    ...\n",
              "2935844  10.10.2015              33       25  ... 2015-10-10     2015-10     10\n",
              "2935845  09.10.2015              33       25  ... 2015-10-09     2015-10     10\n",
              "2935846  14.10.2015              33       25  ... 2015-10-14     2015-10     10\n",
              "2935847  22.10.2015              33       25  ... 2015-10-22     2015-10     10\n",
              "2935848  03.10.2015              33       25  ... 2015-10-03     2015-10     10\n",
              "\n",
              "[2935849 rows x 11 columns]"
            ]
          },
          "metadata": {
            "tags": []
          },
          "execution_count": 25
        }
      ]
    },
    {
      "cell_type": "markdown",
      "metadata": {
        "id": "F-VDD22oXamR",
        "colab_type": "text"
      },
      "source": [
        "## 4) 결측값 처리"
      ]
    },
    {
      "cell_type": "code",
      "metadata": {
        "id": "QkDNcKUHXmOI",
        "colab_type": "code",
        "colab": {
          "base_uri": "https://localhost:8080/",
          "height": 221
        },
        "outputId": "ed7fdc6c-e73c-414f-9dad-26ee01ff2304"
      },
      "source": [
        "from sklearn import ensemble, metrics\n",
        "\n",
        "train_group = sales_train.groupby(['date_block_num','shop_id','item_id'])\n",
        "\n",
        "train_price = train_group['item_price'].mean().reset_index()\n",
        "price = train_price[~train_price['item_price'].isnull()]\n",
        "price.head()\n",
        "\n",
        "last_price = price.drop_duplicates(subset=['shop_id', 'item_id'], keep='last').drop(['date_block_num'], axis=1)\n",
        "\n",
        "uitem = price['item_id'].unique()\n",
        "pred_price_set = test[~test['item_id'].isin(uitem)].drop('ID', axis=1) \n",
        "\n",
        "print(pred_price_set.shape)\n",
        "pred_price_set.head()\n",
        "\n",
        "\n",
        "if len(pred_price_set) > 0:\n",
        "    train_price_set = pd.merge(price, items, on=['item_id'], how='inner')\n",
        "    pred_price_set = pd.merge(pred_price_set, items, on=['item_id'], how='inner').drop(['item_name'], axis=1)\n",
        "    reg = ensemble.ExtraTreesRegressor(n_estimators=25, n_jobs=-1, max_depth=15, random_state=42)\n",
        "    reg.fit(train_price_set[pred_price_set.columns], train_price_set['item_price'])\n",
        "    pred_price_set['item_price'] = reg.predict(pred_price_set)\n",
        "\n",
        "test_price = pd.concat([last_price, pred_price_set], join='inner') \n",
        "\n",
        "test_price.shape\n",
        "\n",
        "test_price.head()"
      ],
      "execution_count": null,
      "outputs": [
        {
          "output_type": "stream",
          "text": [
            "(15246, 2)\n"
          ],
          "name": "stdout"
        },
        {
          "output_type": "execute_result",
          "data": {
            "text/html": [
              "<div>\n",
              "<style scoped>\n",
              "    .dataframe tbody tr th:only-of-type {\n",
              "        vertical-align: middle;\n",
              "    }\n",
              "\n",
              "    .dataframe tbody tr th {\n",
              "        vertical-align: top;\n",
              "    }\n",
              "\n",
              "    .dataframe thead th {\n",
              "        text-align: right;\n",
              "    }\n",
              "</style>\n",
              "<table border=\"1\" class=\"dataframe\">\n",
              "  <thead>\n",
              "    <tr style=\"text-align: right;\">\n",
              "      <th></th>\n",
              "      <th>shop_id</th>\n",
              "      <th>item_id</th>\n",
              "      <th>item_price</th>\n",
              "    </tr>\n",
              "  </thead>\n",
              "  <tbody>\n",
              "    <tr>\n",
              "      <th>3</th>\n",
              "      <td>0</td>\n",
              "      <td>43</td>\n",
              "      <td>221.0</td>\n",
              "    </tr>\n",
              "    <tr>\n",
              "      <th>5</th>\n",
              "      <td>0</td>\n",
              "      <td>61</td>\n",
              "      <td>195.0</td>\n",
              "    </tr>\n",
              "    <tr>\n",
              "      <th>6</th>\n",
              "      <td>0</td>\n",
              "      <td>75</td>\n",
              "      <td>76.0</td>\n",
              "    </tr>\n",
              "    <tr>\n",
              "      <th>7</th>\n",
              "      <td>0</td>\n",
              "      <td>88</td>\n",
              "      <td>76.0</td>\n",
              "    </tr>\n",
              "    <tr>\n",
              "      <th>8</th>\n",
              "      <td>0</td>\n",
              "      <td>95</td>\n",
              "      <td>193.0</td>\n",
              "    </tr>\n",
              "  </tbody>\n",
              "</table>\n",
              "</div>"
            ],
            "text/plain": [
              "   shop_id  item_id  item_price\n",
              "3        0       43       221.0\n",
              "5        0       61       195.0\n",
              "6        0       75        76.0\n",
              "7        0       88        76.0\n",
              "8        0       95       193.0"
            ]
          },
          "metadata": {
            "tags": []
          },
          "execution_count": 153
        }
      ]
    },
    {
      "cell_type": "markdown",
      "metadata": {
        "id": "YRhoOCIu1btT",
        "colab_type": "text"
      },
      "source": [
        "#1. EDA"
      ]
    },
    {
      "cell_type": "markdown",
      "metadata": {
        "id": "xw_ZeP7JYFfn",
        "colab_type": "text"
      },
      "source": [
        "##1) Item 테이블"
      ]
    },
    {
      "cell_type": "code",
      "metadata": {
        "id": "WnwQn4zOYAzY",
        "colab_type": "code",
        "colab": {
          "base_uri": "https://localhost:8080/",
          "height": 204
        },
        "outputId": "adec426c-dfe1-43d4-de13-b5f943a58153"
      },
      "source": [
        "items.head()"
      ],
      "execution_count": null,
      "outputs": [
        {
          "output_type": "execute_result",
          "data": {
            "text/html": [
              "<div>\n",
              "<style scoped>\n",
              "    .dataframe tbody tr th:only-of-type {\n",
              "        vertical-align: middle;\n",
              "    }\n",
              "\n",
              "    .dataframe tbody tr th {\n",
              "        vertical-align: top;\n",
              "    }\n",
              "\n",
              "    .dataframe thead th {\n",
              "        text-align: right;\n",
              "    }\n",
              "</style>\n",
              "<table border=\"1\" class=\"dataframe\">\n",
              "  <thead>\n",
              "    <tr style=\"text-align: right;\">\n",
              "      <th></th>\n",
              "      <th>item_name</th>\n",
              "      <th>item_id</th>\n",
              "      <th>item_category_id</th>\n",
              "    </tr>\n",
              "  </thead>\n",
              "  <tbody>\n",
              "    <tr>\n",
              "      <th>0</th>\n",
              "      <td>! ВО ВЛАСТИ НАВАЖДЕНИЯ (ПЛАСТ.)         D</td>\n",
              "      <td>0</td>\n",
              "      <td>40</td>\n",
              "    </tr>\n",
              "    <tr>\n",
              "      <th>1</th>\n",
              "      <td>!ABBYY FineReader 12 Professional Edition Full...</td>\n",
              "      <td>1</td>\n",
              "      <td>76</td>\n",
              "    </tr>\n",
              "    <tr>\n",
              "      <th>2</th>\n",
              "      <td>***В ЛУЧАХ СЛАВЫ   (UNV)                    D</td>\n",
              "      <td>2</td>\n",
              "      <td>40</td>\n",
              "    </tr>\n",
              "    <tr>\n",
              "      <th>3</th>\n",
              "      <td>***ГОЛУБАЯ ВОЛНА  (Univ)                      D</td>\n",
              "      <td>3</td>\n",
              "      <td>40</td>\n",
              "    </tr>\n",
              "    <tr>\n",
              "      <th>4</th>\n",
              "      <td>***КОРОБКА (СТЕКЛО)                       D</td>\n",
              "      <td>4</td>\n",
              "      <td>40</td>\n",
              "    </tr>\n",
              "  </tbody>\n",
              "</table>\n",
              "</div>"
            ],
            "text/plain": [
              "                                           item_name  item_id  item_category_id\n",
              "0          ! ВО ВЛАСТИ НАВАЖДЕНИЯ (ПЛАСТ.)         D        0                40\n",
              "1  !ABBYY FineReader 12 Professional Edition Full...        1                76\n",
              "2      ***В ЛУЧАХ СЛАВЫ   (UNV)                    D        2                40\n",
              "3    ***ГОЛУБАЯ ВОЛНА  (Univ)                      D        3                40\n",
              "4        ***КОРОБКА (СТЕКЛО)                       D        4                40"
            ]
          },
          "metadata": {
            "tags": []
          },
          "execution_count": 154
        }
      ]
    },
    {
      "cell_type": "markdown",
      "metadata": {
        "id": "vnCzCfO-Yhw4",
        "colab_type": "text"
      },
      "source": [
        "### (1) 아이템 카테고리별 아이템 개수\n",
        "\n",
        "- 각 아이템 카테고리별 속해있는 아이템의 수는 균일할까, 아니면 skew 되어 있을까?"
      ]
    },
    {
      "cell_type": "code",
      "metadata": {
        "id": "KrtH76pfYVBQ",
        "colab_type": "code",
        "colab": {
          "base_uri": "https://localhost:8080/",
          "height": 390
        },
        "outputId": "eac66a85-ddbd-4f60-e17f-5bbbbb6cec16"
      },
      "source": [
        "item_per_category=pd.DataFrame(items.groupby('item_category_id').count()['item_id'])\n",
        "item_per_category.sort_values(by='item_id', ascending=False).head(10)"
      ],
      "execution_count": null,
      "outputs": [
        {
          "output_type": "execute_result",
          "data": {
            "text/html": [
              "<div>\n",
              "<style scoped>\n",
              "    .dataframe tbody tr th:only-of-type {\n",
              "        vertical-align: middle;\n",
              "    }\n",
              "\n",
              "    .dataframe tbody tr th {\n",
              "        vertical-align: top;\n",
              "    }\n",
              "\n",
              "    .dataframe thead th {\n",
              "        text-align: right;\n",
              "    }\n",
              "</style>\n",
              "<table border=\"1\" class=\"dataframe\">\n",
              "  <thead>\n",
              "    <tr style=\"text-align: right;\">\n",
              "      <th></th>\n",
              "      <th>item_id</th>\n",
              "    </tr>\n",
              "    <tr>\n",
              "      <th>item_category_id</th>\n",
              "      <th></th>\n",
              "    </tr>\n",
              "  </thead>\n",
              "  <tbody>\n",
              "    <tr>\n",
              "      <th>40</th>\n",
              "      <td>5035</td>\n",
              "    </tr>\n",
              "    <tr>\n",
              "      <th>55</th>\n",
              "      <td>2365</td>\n",
              "    </tr>\n",
              "    <tr>\n",
              "      <th>37</th>\n",
              "      <td>1780</td>\n",
              "    </tr>\n",
              "    <tr>\n",
              "      <th>31</th>\n",
              "      <td>1125</td>\n",
              "    </tr>\n",
              "    <tr>\n",
              "      <th>58</th>\n",
              "      <td>790</td>\n",
              "    </tr>\n",
              "    <tr>\n",
              "      <th>30</th>\n",
              "      <td>756</td>\n",
              "    </tr>\n",
              "    <tr>\n",
              "      <th>72</th>\n",
              "      <td>666</td>\n",
              "    </tr>\n",
              "    <tr>\n",
              "      <th>19</th>\n",
              "      <td>628</td>\n",
              "    </tr>\n",
              "    <tr>\n",
              "      <th>61</th>\n",
              "      <td>598</td>\n",
              "    </tr>\n",
              "    <tr>\n",
              "      <th>23</th>\n",
              "      <td>501</td>\n",
              "    </tr>\n",
              "  </tbody>\n",
              "</table>\n",
              "</div>"
            ],
            "text/plain": [
              "                  item_id\n",
              "item_category_id         \n",
              "40                   5035\n",
              "55                   2365\n",
              "37                   1780\n",
              "31                   1125\n",
              "58                    790\n",
              "30                    756\n",
              "72                    666\n",
              "19                    628\n",
              "61                    598\n",
              "23                    501"
            ]
          },
          "metadata": {
            "tags": []
          },
          "execution_count": 155
        }
      ]
    },
    {
      "cell_type": "code",
      "metadata": {
        "id": "qce9FBFkYZKH",
        "colab_type": "code",
        "colab": {
          "base_uri": "https://localhost:8080/",
          "height": 34
        },
        "outputId": "89deb32f-0af2-4816-ca48-0eb0f094f2ea"
      },
      "source": [
        "item_per_category['item_id'].max()\n",
        "#최대 5035 가지의 제품이 있는 카테고리도 있습니다."
      ],
      "execution_count": null,
      "outputs": [
        {
          "output_type": "execute_result",
          "data": {
            "text/plain": [
              "5035"
            ]
          },
          "metadata": {
            "tags": []
          },
          "execution_count": 156
        }
      ]
    },
    {
      "cell_type": "markdown",
      "metadata": {
        "id": "iJAWa0j1Y6-I",
        "colab_type": "text"
      },
      "source": [
        "- 하단 그래프를 보면, 각 카테고리별로 제품의 종류가 다양한 것도 있고 아닌 것도 있습니다."
      ]
    },
    {
      "cell_type": "code",
      "metadata": {
        "id": "aucLYQtwYbdQ",
        "colab_type": "code",
        "colab": {
          "base_uri": "https://localhost:8080/",
          "height": 623
        },
        "outputId": "ee5f9d6e-494e-40a1-a450-75a9fc14572e"
      },
      "source": [
        "import matplotlib.pyplot as plt\n",
        "fig=plt.figure(figsize=(20,10))\n",
        "sns.barplot(x=item_per_category.index,y='item_id', data=item_per_category)"
      ],
      "execution_count": null,
      "outputs": [
        {
          "output_type": "execute_result",
          "data": {
            "text/plain": [
              "<matplotlib.axes._subplots.AxesSubplot at 0x7fd36b8e6c88>"
            ]
          },
          "metadata": {
            "tags": []
          },
          "execution_count": 157
        },
        {
          "output_type": "display_data",
          "data": {
            "image/png": "[encoded data removed]",
            "text/plain": [
              "<Figure size 1440x720 with 1 Axes>"
            ]
          },
          "metadata": {
            "tags": [],
            "needs_background": "light"
          }
        }
      ]
    },
    {
      "cell_type": "markdown",
      "metadata": {
        "id": "KbIv2nAIZG9o",
        "colab_type": "text"
      },
      "source": [
        "## 2) shops"
      ]
    },
    {
      "cell_type": "code",
      "metadata": {
        "id": "1Dlisjb7ZLfF",
        "colab_type": "code",
        "colab": {
          "base_uri": "https://localhost:8080/",
          "height": 85
        },
        "outputId": "2580ef1e-6dd3-443c-f969-1a2994042da6"
      },
      "source": [
        "shops['shop_id'].unique()"
      ],
      "execution_count": null,
      "outputs": [
        {
          "output_type": "execute_result",
          "data": {
            "text/plain": [
              "array([ 0,  1, 57, 58,  5,  6,  7,  8, 15, 17, 18, 19, 36, 37, 38, 42, 43,\n",
              "       44, 45, 48, 52, 53,  2,  3,  4, 10, 11, 13, 14, 33, 34, 35, 39, 40,\n",
              "       41, 49, 50, 51, 54, 56, 59,  9, 12, 55, 16, 46, 47, 20, 21, 22, 23,\n",
              "       24, 25, 26, 27, 28, 29, 30, 31, 32])"
            ]
          },
          "metadata": {
            "tags": []
          },
          "execution_count": 158
        }
      ]
    },
    {
      "cell_type": "markdown",
      "metadata": {
        "id": "RTX369XRZOr4",
        "colab_type": "text"
      },
      "source": [
        "- shop 은 총 60개가 있습니다."
      ]
    },
    {
      "cell_type": "markdown",
      "metadata": {
        "id": "s6vaRgKhZQJY",
        "colab_type": "text"
      },
      "source": [
        "## 3) sales_train"
      ]
    },
    {
      "cell_type": "code",
      "metadata": {
        "id": "A32HslsZZUVB",
        "colab_type": "code",
        "colab": {
          "base_uri": "https://localhost:8080/",
          "height": 204
        },
        "outputId": "c4c283e0-02cd-4ce2-8db7-ac0bcfd86bc3"
      },
      "source": [
        "sales_train.head()"
      ],
      "execution_count": null,
      "outputs": [
        {
          "output_type": "execute_result",
          "data": {
            "text/html": [
              "<div>\n",
              "<style scoped>\n",
              "    .dataframe tbody tr th:only-of-type {\n",
              "        vertical-align: middle;\n",
              "    }\n",
              "\n",
              "    .dataframe tbody tr th {\n",
              "        vertical-align: top;\n",
              "    }\n",
              "\n",
              "    .dataframe thead th {\n",
              "        text-align: right;\n",
              "    }\n",
              "</style>\n",
              "<table border=\"1\" class=\"dataframe\">\n",
              "  <thead>\n",
              "    <tr style=\"text-align: right;\">\n",
              "      <th></th>\n",
              "      <th>date</th>\n",
              "      <th>date_block_num</th>\n",
              "      <th>shop_id</th>\n",
              "      <th>item_id</th>\n",
              "      <th>item_price</th>\n",
              "      <th>item_cnt_day</th>\n",
              "    </tr>\n",
              "  </thead>\n",
              "  <tbody>\n",
              "    <tr>\n",
              "      <th>0</th>\n",
              "      <td>02.01.2013</td>\n",
              "      <td>0</td>\n",
              "      <td>59</td>\n",
              "      <td>22154</td>\n",
              "      <td>999.00</td>\n",
              "      <td>1.0</td>\n",
              "    </tr>\n",
              "    <tr>\n",
              "      <th>1</th>\n",
              "      <td>03.01.2013</td>\n",
              "      <td>0</td>\n",
              "      <td>25</td>\n",
              "      <td>2552</td>\n",
              "      <td>899.00</td>\n",
              "      <td>1.0</td>\n",
              "    </tr>\n",
              "    <tr>\n",
              "      <th>2</th>\n",
              "      <td>05.01.2013</td>\n",
              "      <td>0</td>\n",
              "      <td>25</td>\n",
              "      <td>2552</td>\n",
              "      <td>899.00</td>\n",
              "      <td>-1.0</td>\n",
              "    </tr>\n",
              "    <tr>\n",
              "      <th>3</th>\n",
              "      <td>06.01.2013</td>\n",
              "      <td>0</td>\n",
              "      <td>25</td>\n",
              "      <td>2554</td>\n",
              "      <td>1709.05</td>\n",
              "      <td>1.0</td>\n",
              "    </tr>\n",
              "    <tr>\n",
              "      <th>4</th>\n",
              "      <td>15.01.2013</td>\n",
              "      <td>0</td>\n",
              "      <td>25</td>\n",
              "      <td>2555</td>\n",
              "      <td>1099.00</td>\n",
              "      <td>1.0</td>\n",
              "    </tr>\n",
              "  </tbody>\n",
              "</table>\n",
              "</div>"
            ],
            "text/plain": [
              "         date  date_block_num  shop_id  item_id  item_price  item_cnt_day\n",
              "0  02.01.2013               0       59    22154      999.00           1.0\n",
              "1  03.01.2013               0       25     2552      899.00           1.0\n",
              "2  05.01.2013               0       25     2552      899.00          -1.0\n",
              "3  06.01.2013               0       25     2554     1709.05           1.0\n",
              "4  15.01.2013               0       25     2555     1099.00           1.0"
            ]
          },
          "metadata": {
            "tags": []
          },
          "execution_count": 159
        }
      ]
    },
    {
      "cell_type": "markdown",
      "metadata": {
        "id": "UhLMHJPfZaXx",
        "colab_type": "text"
      },
      "source": [
        "### (1) Shop 별 판매수량 격차 확인"
      ]
    },
    {
      "cell_type": "code",
      "metadata": {
        "id": "3utAfkv4ZV9g",
        "colab_type": "code",
        "colab": {
          "base_uri": "https://localhost:8080/",
          "height": 359
        },
        "outputId": "cd90776a-df27-438b-9fe9-14ea85ebd50b"
      },
      "source": [
        "sales_train.dtypes\n",
        "sales_train['date']=pd.to_datetime(sales_train['date'])\n",
        "sales_train['revenue']=sales_train['item_price']*sales_train['item_cnt_day']\n",
        "sales_train.head(10)"
      ],
      "execution_count": null,
      "outputs": [
        {
          "output_type": "execute_result",
          "data": {
            "text/html": [
              "<div>\n",
              "<style scoped>\n",
              "    .dataframe tbody tr th:only-of-type {\n",
              "        vertical-align: middle;\n",
              "    }\n",
              "\n",
              "    .dataframe tbody tr th {\n",
              "        vertical-align: top;\n",
              "    }\n",
              "\n",
              "    .dataframe thead th {\n",
              "        text-align: right;\n",
              "    }\n",
              "</style>\n",
              "<table border=\"1\" class=\"dataframe\">\n",
              "  <thead>\n",
              "    <tr style=\"text-align: right;\">\n",
              "      <th></th>\n",
              "      <th>date</th>\n",
              "      <th>date_block_num</th>\n",
              "      <th>shop_id</th>\n",
              "      <th>item_id</th>\n",
              "      <th>item_price</th>\n",
              "      <th>item_cnt_day</th>\n",
              "      <th>revenue</th>\n",
              "    </tr>\n",
              "  </thead>\n",
              "  <tbody>\n",
              "    <tr>\n",
              "      <th>0</th>\n",
              "      <td>2013-02-01</td>\n",
              "      <td>0</td>\n",
              "      <td>59</td>\n",
              "      <td>22154</td>\n",
              "      <td>999.00</td>\n",
              "      <td>1.0</td>\n",
              "      <td>999.00</td>\n",
              "    </tr>\n",
              "    <tr>\n",
              "      <th>1</th>\n",
              "      <td>2013-03-01</td>\n",
              "      <td>0</td>\n",
              "      <td>25</td>\n",
              "      <td>2552</td>\n",
              "      <td>899.00</td>\n",
              "      <td>1.0</td>\n",
              "      <td>899.00</td>\n",
              "    </tr>\n",
              "    <tr>\n",
              "      <th>2</th>\n",
              "      <td>2013-05-01</td>\n",
              "      <td>0</td>\n",
              "      <td>25</td>\n",
              "      <td>2552</td>\n",
              "      <td>899.00</td>\n",
              "      <td>-1.0</td>\n",
              "      <td>-899.00</td>\n",
              "    </tr>\n",
              "    <tr>\n",
              "      <th>3</th>\n",
              "      <td>2013-06-01</td>\n",
              "      <td>0</td>\n",
              "      <td>25</td>\n",
              "      <td>2554</td>\n",
              "      <td>1709.05</td>\n",
              "      <td>1.0</td>\n",
              "      <td>1709.05</td>\n",
              "    </tr>\n",
              "    <tr>\n",
              "      <th>4</th>\n",
              "      <td>2013-01-15</td>\n",
              "      <td>0</td>\n",
              "      <td>25</td>\n",
              "      <td>2555</td>\n",
              "      <td>1099.00</td>\n",
              "      <td>1.0</td>\n",
              "      <td>1099.00</td>\n",
              "    </tr>\n",
              "    <tr>\n",
              "      <th>5</th>\n",
              "      <td>2013-10-01</td>\n",
              "      <td>0</td>\n",
              "      <td>25</td>\n",
              "      <td>2564</td>\n",
              "      <td>349.00</td>\n",
              "      <td>1.0</td>\n",
              "      <td>349.00</td>\n",
              "    </tr>\n",
              "    <tr>\n",
              "      <th>6</th>\n",
              "      <td>2013-02-01</td>\n",
              "      <td>0</td>\n",
              "      <td>25</td>\n",
              "      <td>2565</td>\n",
              "      <td>549.00</td>\n",
              "      <td>1.0</td>\n",
              "      <td>549.00</td>\n",
              "    </tr>\n",
              "    <tr>\n",
              "      <th>7</th>\n",
              "      <td>2013-04-01</td>\n",
              "      <td>0</td>\n",
              "      <td>25</td>\n",
              "      <td>2572</td>\n",
              "      <td>239.00</td>\n",
              "      <td>1.0</td>\n",
              "      <td>239.00</td>\n",
              "    </tr>\n",
              "    <tr>\n",
              "      <th>8</th>\n",
              "      <td>2013-11-01</td>\n",
              "      <td>0</td>\n",
              "      <td>25</td>\n",
              "      <td>2572</td>\n",
              "      <td>299.00</td>\n",
              "      <td>1.0</td>\n",
              "      <td>299.00</td>\n",
              "    </tr>\n",
              "    <tr>\n",
              "      <th>9</th>\n",
              "      <td>2013-03-01</td>\n",
              "      <td>0</td>\n",
              "      <td>25</td>\n",
              "      <td>2573</td>\n",
              "      <td>299.00</td>\n",
              "      <td>3.0</td>\n",
              "      <td>897.00</td>\n",
              "    </tr>\n",
              "  </tbody>\n",
              "</table>\n",
              "</div>"
            ],
            "text/plain": [
              "        date  date_block_num  shop_id  ...  item_price  item_cnt_day  revenue\n",
              "0 2013-02-01               0       59  ...      999.00           1.0   999.00\n",
              "1 2013-03-01               0       25  ...      899.00           1.0   899.00\n",
              "2 2013-05-01               0       25  ...      899.00          -1.0  -899.00\n",
              "3 2013-06-01               0       25  ...     1709.05           1.0  1709.05\n",
              "4 2013-01-15               0       25  ...     1099.00           1.0  1099.00\n",
              "5 2013-10-01               0       25  ...      349.00           1.0   349.00\n",
              "6 2013-02-01               0       25  ...      549.00           1.0   549.00\n",
              "7 2013-04-01               0       25  ...      239.00           1.0   239.00\n",
              "8 2013-11-01               0       25  ...      299.00           1.0   299.00\n",
              "9 2013-03-01               0       25  ...      299.00           3.0   897.00\n",
              "\n",
              "[10 rows x 7 columns]"
            ]
          },
          "metadata": {
            "tags": []
          },
          "execution_count": 161
        }
      ]
    },
    {
      "cell_type": "code",
      "metadata": {
        "id": "kEkGav7mZvwI",
        "colab_type": "code",
        "colab": {
          "base_uri": "https://localhost:8080/",
          "height": 297
        },
        "outputId": "58d794da-515f-4fad-cdd2-7634e6930c93"
      },
      "source": [
        "shop_sales_count=pd.DataFrame(sales_train.groupby('shop_id').count()['item_cnt_day'])\n",
        "shop_sales_count.describe()"
      ],
      "execution_count": null,
      "outputs": [
        {
          "output_type": "execute_result",
          "data": {
            "text/html": [
              "<div>\n",
              "<style scoped>\n",
              "    .dataframe tbody tr th:only-of-type {\n",
              "        vertical-align: middle;\n",
              "    }\n",
              "\n",
              "    .dataframe tbody tr th {\n",
              "        vertical-align: top;\n",
              "    }\n",
              "\n",
              "    .dataframe thead th {\n",
              "        text-align: right;\n",
              "    }\n",
              "</style>\n",
              "<table border=\"1\" class=\"dataframe\">\n",
              "  <thead>\n",
              "    <tr style=\"text-align: right;\">\n",
              "      <th></th>\n",
              "      <th>item_cnt_day</th>\n",
              "    </tr>\n",
              "  </thead>\n",
              "  <tbody>\n",
              "    <tr>\n",
              "      <th>count</th>\n",
              "      <td>60.000000</td>\n",
              "    </tr>\n",
              "    <tr>\n",
              "      <th>mean</th>\n",
              "      <td>48930.416667</td>\n",
              "    </tr>\n",
              "    <tr>\n",
              "      <th>std</th>\n",
              "      <td>44691.733115</td>\n",
              "    </tr>\n",
              "    <tr>\n",
              "      <th>min</th>\n",
              "      <td>306.000000</td>\n",
              "    </tr>\n",
              "    <tr>\n",
              "      <th>25%</th>\n",
              "      <td>20503.750000</td>\n",
              "    </tr>\n",
              "    <tr>\n",
              "      <th>50%</th>\n",
              "      <td>42037.500000</td>\n",
              "    </tr>\n",
              "    <tr>\n",
              "      <th>75%</th>\n",
              "      <td>58210.250000</td>\n",
              "    </tr>\n",
              "    <tr>\n",
              "      <th>max</th>\n",
              "      <td>235630.000000</td>\n",
              "    </tr>\n",
              "  </tbody>\n",
              "</table>\n",
              "</div>"
            ],
            "text/plain": [
              "        item_cnt_day\n",
              "count      60.000000\n",
              "mean    48930.416667\n",
              "std     44691.733115\n",
              "min       306.000000\n",
              "25%     20503.750000\n",
              "50%     42037.500000\n",
              "75%     58210.250000\n",
              "max    235630.000000"
            ]
          },
          "metadata": {
            "tags": []
          },
          "execution_count": 162
        }
      ]
    },
    {
      "cell_type": "markdown",
      "metadata": {
        "id": "uBakRyTnZzq5",
        "colab_type": "text"
      },
      "source": [
        "- 표준편차가 매우 큽니다 (mean 의 95% 수준) 즉,값이 대부분 4000 ~ 200000 에 흩어져있다는 것을 확인 할 수 있습니다. (하단 그래프 : 시각화)"
      ]
    },
    {
      "cell_type": "code",
      "metadata": {
        "id": "UzzLx628Z1MA",
        "colab_type": "code",
        "colab": {
          "base_uri": "https://localhost:8080/",
          "height": 623
        },
        "outputId": "7bc7dcfc-b8a8-45b3-8000-3c83c1467e4b"
      },
      "source": [
        "fig=plt.figure(figsize=(20,10))\n",
        "sns.barplot(data=shop_sales_count, y='item_cnt_day', x=shop_sales_count.index)\n",
        "plt.ylabel('amount of data per shop')"
      ],
      "execution_count": null,
      "outputs": [
        {
          "output_type": "execute_result",
          "data": {
            "text/plain": [
              "Text(0, 0.5, 'amount of data per shop')"
            ]
          },
          "metadata": {
            "tags": []
          },
          "execution_count": 163
        },
        {
          "output_type": "display_data",
          "data": {
            "image/png": "[encoded data removed]",
            "text/plain": [
              "<Figure size 1440x720 with 1 Axes>"
            ]
          },
          "metadata": {
            "tags": [],
            "needs_background": "light"
          }
        }
      ]
    },
    {
      "cell_type": "markdown",
      "metadata": {
        "id": "eqrjdLe_Z6tA",
        "colab_type": "text"
      },
      "source": [
        "### (2) shop별 매출 격차 확인\n",
        "\n",
        "- 특정 매장만 많은 돈을 벌고 있을까?"
      ]
    },
    {
      "cell_type": "code",
      "metadata": {
        "id": "DDot8_fjZ6Nx",
        "colab_type": "code",
        "colab": {
          "base_uri": "https://localhost:8080/",
          "height": 235
        },
        "outputId": "682e2c0c-3827-43a3-e930-2cb43944e215"
      },
      "source": [
        "shop_revenue=pd.DataFrame(sales_train.groupby('shop_id').sum()['revenue'])\n",
        "shop_revenue.head()"
      ],
      "execution_count": null,
      "outputs": [
        {
          "output_type": "execute_result",
          "data": {
            "text/html": [
              "<div>\n",
              "<style scoped>\n",
              "    .dataframe tbody tr th:only-of-type {\n",
              "        vertical-align: middle;\n",
              "    }\n",
              "\n",
              "    .dataframe tbody tr th {\n",
              "        vertical-align: top;\n",
              "    }\n",
              "\n",
              "    .dataframe thead th {\n",
              "        text-align: right;\n",
              "    }\n",
              "</style>\n",
              "<table border=\"1\" class=\"dataframe\">\n",
              "  <thead>\n",
              "    <tr style=\"text-align: right;\">\n",
              "      <th></th>\n",
              "      <th>revenue</th>\n",
              "    </tr>\n",
              "    <tr>\n",
              "      <th>shop_id</th>\n",
              "      <th></th>\n",
              "    </tr>\n",
              "  </thead>\n",
              "  <tbody>\n",
              "    <tr>\n",
              "      <th>0</th>\n",
              "      <td>6.637370e+06</td>\n",
              "    </tr>\n",
              "    <tr>\n",
              "      <th>1</th>\n",
              "      <td>3.238207e+06</td>\n",
              "    </tr>\n",
              "    <tr>\n",
              "      <th>2</th>\n",
              "      <td>4.404964e+07</td>\n",
              "    </tr>\n",
              "    <tr>\n",
              "      <th>3</th>\n",
              "      <td>3.014085e+07</td>\n",
              "    </tr>\n",
              "    <tr>\n",
              "      <th>4</th>\n",
              "      <td>4.053965e+07</td>\n",
              "    </tr>\n",
              "  </tbody>\n",
              "</table>\n",
              "</div>"
            ],
            "text/plain": [
              "              revenue\n",
              "shop_id              \n",
              "0        6.637370e+06\n",
              "1        3.238207e+06\n",
              "2        4.404964e+07\n",
              "3        3.014085e+07\n",
              "4        4.053965e+07"
            ]
          },
          "metadata": {
            "tags": []
          },
          "execution_count": 164
        }
      ]
    },
    {
      "cell_type": "code",
      "metadata": {
        "id": "3Y7TQJ-MZ-Oa",
        "colab_type": "code",
        "colab": {
          "base_uri": "https://localhost:8080/",
          "height": 634
        },
        "outputId": "39fd0abe-dd6e-4087-aeb7-b59343a35731"
      },
      "source": [
        "fig=plt.figure(figsize=(20,10))\n",
        "sns.barplot(data=shop_revenue, y='revenue', x=shop_revenue.index)\n",
        "plt.ylabel('revenue per shop')"
      ],
      "execution_count": null,
      "outputs": [
        {
          "output_type": "execute_result",
          "data": {
            "text/plain": [
              "Text(0, 0.5, 'revenue per shop')"
            ]
          },
          "metadata": {
            "tags": []
          },
          "execution_count": 165
        },
        {
          "output_type": "display_data",
          "data": {
            "image/png": "[encoded data removed]",
            "text/plain": [
              "<Figure size 1440x720 with 1 Axes>"
            ]
          },
          "metadata": {
            "tags": [],
            "needs_background": "light"
          }
        }
      ]
    },
    {
      "cell_type": "code",
      "metadata": {
        "id": "W_LEmmGcaA5w",
        "colab_type": "code",
        "colab": {
          "base_uri": "https://localhost:8080/",
          "height": 297
        },
        "outputId": "5e9ddd87-7d5d-49fe-9356-5d007cc2c25e"
      },
      "source": [
        "shop_revenue.describe()\n",
        "#revenue 도 아이템 판매량과 유사한 분포로 매우 분산되어있는 모양입니다."
      ],
      "execution_count": null,
      "outputs": [
        {
          "output_type": "execute_result",
          "data": {
            "text/html": [
              "<div>\n",
              "<style scoped>\n",
              "    .dataframe tbody tr th:only-of-type {\n",
              "        vertical-align: middle;\n",
              "    }\n",
              "\n",
              "    .dataframe tbody tr th {\n",
              "        vertical-align: top;\n",
              "    }\n",
              "\n",
              "    .dataframe thead th {\n",
              "        text-align: right;\n",
              "    }\n",
              "</style>\n",
              "<table border=\"1\" class=\"dataframe\">\n",
              "  <thead>\n",
              "    <tr style=\"text-align: right;\">\n",
              "      <th></th>\n",
              "      <th>revenue</th>\n",
              "    </tr>\n",
              "  </thead>\n",
              "  <tbody>\n",
              "    <tr>\n",
              "      <th>count</th>\n",
              "      <td>6.000000e+01</td>\n",
              "    </tr>\n",
              "    <tr>\n",
              "      <th>mean</th>\n",
              "      <td>5.664854e+07</td>\n",
              "    </tr>\n",
              "    <tr>\n",
              "      <th>std</th>\n",
              "      <td>4.980259e+07</td>\n",
              "    </tr>\n",
              "    <tr>\n",
              "      <th>min</th>\n",
              "      <td>3.777140e+05</td>\n",
              "    </tr>\n",
              "    <tr>\n",
              "      <th>25%</th>\n",
              "      <td>1.995826e+07</td>\n",
              "    </tr>\n",
              "    <tr>\n",
              "      <th>50%</th>\n",
              "      <td>4.671987e+07</td>\n",
              "    </tr>\n",
              "    <tr>\n",
              "      <th>75%</th>\n",
              "      <td>6.875614e+07</td>\n",
              "    </tr>\n",
              "    <tr>\n",
              "      <th>max</th>\n",
              "      <td>2.352156e+08</td>\n",
              "    </tr>\n",
              "  </tbody>\n",
              "</table>\n",
              "</div>"
            ],
            "text/plain": [
              "            revenue\n",
              "count  6.000000e+01\n",
              "mean   5.664854e+07\n",
              "std    4.980259e+07\n",
              "min    3.777140e+05\n",
              "25%    1.995826e+07\n",
              "50%    4.671987e+07\n",
              "75%    6.875614e+07\n",
              "max    2.352156e+08"
            ]
          },
          "metadata": {
            "tags": []
          },
          "execution_count": 166
        }
      ]
    },
    {
      "cell_type": "markdown",
      "metadata": {
        "id": "IGX1mkYqbwHK",
        "colab_type": "text"
      },
      "source": [
        "### (3) Shop 별 평균 거래액"
      ]
    },
    {
      "cell_type": "code",
      "metadata": {
        "id": "kQqzF6TUb0Q2",
        "colab_type": "code",
        "colab": {
          "base_uri": "https://localhost:8080/",
          "height": 235
        },
        "outputId": "e0d3849b-503e-4de9-e0ee-6022ac01bcdd"
      },
      "source": [
        "average_price=pd.DataFrame(sales_train.groupby(['shop_id']).mean()['item_price'])\n",
        "average_price.describe()\n",
        "average_price.head()"
      ],
      "execution_count": 167,
      "outputs": [
        {
          "output_type": "execute_result",
          "data": {
            "text/html": [
              "<div>\n",
              "<style scoped>\n",
              "    .dataframe tbody tr th:only-of-type {\n",
              "        vertical-align: middle;\n",
              "    }\n",
              "\n",
              "    .dataframe tbody tr th {\n",
              "        vertical-align: top;\n",
              "    }\n",
              "\n",
              "    .dataframe thead th {\n",
              "        text-align: right;\n",
              "    }\n",
              "</style>\n",
              "<table border=\"1\" class=\"dataframe\">\n",
              "  <thead>\n",
              "    <tr style=\"text-align: right;\">\n",
              "      <th></th>\n",
              "      <th>item_price</th>\n",
              "    </tr>\n",
              "    <tr>\n",
              "      <th>shop_id</th>\n",
              "      <th></th>\n",
              "    </tr>\n",
              "  </thead>\n",
              "  <tbody>\n",
              "    <tr>\n",
              "      <th>0</th>\n",
              "      <td>563.444151</td>\n",
              "    </tr>\n",
              "    <tr>\n",
              "      <th>1</th>\n",
              "      <td>515.350652</td>\n",
              "    </tr>\n",
              "    <tr>\n",
              "      <th>2</th>\n",
              "      <td>1350.638391</td>\n",
              "    </tr>\n",
              "    <tr>\n",
              "      <th>3</th>\n",
              "      <td>1036.840634</td>\n",
              "    </tr>\n",
              "    <tr>\n",
              "      <th>4</th>\n",
              "      <td>923.994318</td>\n",
              "    </tr>\n",
              "  </tbody>\n",
              "</table>\n",
              "</div>"
            ],
            "text/plain": [
              "          item_price\n",
              "shop_id             \n",
              "0         563.444151\n",
              "1         515.350652\n",
              "2        1350.638391\n",
              "3        1036.840634\n",
              "4         923.994318"
            ]
          },
          "metadata": {
            "tags": []
          },
          "execution_count": 167
        }
      ]
    },
    {
      "cell_type": "code",
      "metadata": {
        "id": "WvuNGEsqb3p5",
        "colab_type": "code",
        "colab": {
          "base_uri": "https://localhost:8080/",
          "height": 623
        },
        "outputId": "b97acbb7-3413-4ea6-f894-465fe80a459d"
      },
      "source": [
        "fig=plt.figure(figsize=(20,10))\n",
        "sns.barplot(data=average_price, x=average_price.index, y=average_price.item_price)"
      ],
      "execution_count": 168,
      "outputs": [
        {
          "output_type": "execute_result",
          "data": {
            "text/plain": [
              "<matplotlib.axes._subplots.AxesSubplot at 0x7fd365300160>"
            ]
          },
          "metadata": {
            "tags": []
          },
          "execution_count": 168
        },
        {
          "output_type": "display_data",
          "data": {
            "image/png": "[encoded data removed]",
            "text/plain": [
              "<Figure size 1440x720 with 1 Axes>"
            ]
          },
          "metadata": {
            "tags": [],
            "needs_background": "light"
          }
        }
      ]
    },
    {
      "cell_type": "markdown",
      "metadata": {
        "id": "6wCq1hTebyBb",
        "colab_type": "text"
      },
      "source": [
        "- 각 매장별 각 구매별 평균 거래액은 큰 차이가 나지 않음 \n",
        "- 평균 925, std 217 = 대부분 700 ~ 1100 (기준화폐) 의 거래량\n",
        "- 이 말은 각 매장의 성격이 비슷하다는 것으로 확인 가능 (럭셔리 샵이나 저렴한 샵이 있지 않다"
      ]
    },
    {
      "cell_type": "markdown",
      "metadata": {
        "id": "o04v78oGb_ei",
        "colab_type": "text"
      },
      "source": [
        "### (4) Time series 분포 확인하기"
      ]
    },
    {
      "cell_type": "markdown",
      "metadata": {
        "id": "cr2SEjulcDfB",
        "colab_type": "text"
      },
      "source": [
        ""
      ]
    },
    {
      "cell_type": "code",
      "metadata": {
        "id": "YIWNGHijcDJj",
        "colab_type": "code",
        "colab": {
          "base_uri": "https://localhost:8080/",
          "height": 602
        },
        "outputId": "eb6c642c-3c6d-4131-baad-007168f38145"
      },
      "source": [
        "#1. 모든 샵의 세일즈 트렌드\n",
        "\n",
        "sales_train.groupby('date').sum()['revenue']\n",
        "fig=plt.figure(figsize=(20,10))\n",
        "plt.plot(sales_train.groupby('date').sum()['revenue'])\n",
        "plt.show()"
      ],
      "execution_count": 170,
      "outputs": [
        {
          "output_type": "display_data",
          "data": {
            "image/png": "[encoded data removed]",
            "text/plain": [
              "<Figure size 1440x720 with 1 Axes>"
            ]
          },
          "metadata": {
            "tags": [],
            "needs_background": "light"
          }
        }
      ]
    },
    {
      "cell_type": "markdown",
      "metadata": {
        "id": "pSlzF1MopkWH",
        "colab_type": "text"
      },
      "source": [
        "#2. Feature Engineering \n",
        "\n",
        "## 1) 매장이 속한 도시별 규모 / Feature of the shop's location (city)\n",
        "\n",
        "### (1) 파일 골라오기"
      ]
    },
    {
      "cell_type": "code",
      "metadata": {
        "id": "rkBkPbK_R_b3",
        "colab_type": "code",
        "colab": {}
      },
      "source": [
        "shop_english=pd.read_csv(\"shop_english.csv\")\n",
        "shop_english.head()\n",
        "shop_english['english shop_name']=shop_english['english shop_name'].str.strip('!')"
      ],
      "execution_count": null,
      "outputs": []
    },
    {
      "cell_type": "code",
      "metadata": {
        "id": "c9uemiFboiki",
        "colab_type": "code",
        "colab": {}
      },
      "source": [
        "city_code=pd.DataFrame(shop_english['english shop_name'].str.split(expand=True), shop_english['shop_id'])"
      ],
      "execution_count": null,
      "outputs": []
    },
    {
      "cell_type": "code",
      "metadata": {
        "id": "QlKDPvy2qTZy",
        "colab_type": "code",
        "colab": {}
      },
      "source": [
        "city_code.replace('St.', 'Saint Petersburg', inplace=True)\n",
        "city_code.replace('Sergiev', 'Sergiyev Posad', inplace=True)"
      ],
      "execution_count": null,
      "outputs": []
    },
    {
      "cell_type": "code",
      "metadata": {
        "id": "3hZEKcX56lto",
        "colab_type": "code",
        "colab": {
          "base_uri": "https://localhost:8080/",
          "height": 235
        },
        "outputId": "c387875c-2db3-4277-e5a8-b386b4fa3971"
      },
      "source": [
        "city_code.head()\n",
        "code=pd.Series([i for i in range(60)])\n",
        "city_code=pd.merge(city_code,code.rename('shop_id'), left_index=True, right_index=True)\n",
        "city_code.head()"
      ],
      "execution_count": null,
      "outputs": [
        {
          "output_type": "execute_result",
          "data": {
            "text/html": [
              "<div>\n",
              "<style scoped>\n",
              "    .dataframe tbody tr th:only-of-type {\n",
              "        vertical-align: middle;\n",
              "    }\n",
              "\n",
              "    .dataframe tbody tr th {\n",
              "        vertical-align: top;\n",
              "    }\n",
              "\n",
              "    .dataframe thead th {\n",
              "        text-align: right;\n",
              "    }\n",
              "</style>\n",
              "<table border=\"1\" class=\"dataframe\">\n",
              "  <thead>\n",
              "    <tr style=\"text-align: right;\">\n",
              "      <th></th>\n",
              "      <th>0</th>\n",
              "      <th>1</th>\n",
              "      <th>2</th>\n",
              "      <th>3</th>\n",
              "      <th>4</th>\n",
              "      <th>5</th>\n",
              "      <th>6</th>\n",
              "      <th>7</th>\n",
              "      <th>shop_id</th>\n",
              "    </tr>\n",
              "    <tr>\n",
              "      <th>shop_id</th>\n",
              "      <th></th>\n",
              "      <th></th>\n",
              "      <th></th>\n",
              "      <th></th>\n",
              "      <th></th>\n",
              "      <th></th>\n",
              "      <th></th>\n",
              "      <th></th>\n",
              "      <th></th>\n",
              "    </tr>\n",
              "  </thead>\n",
              "  <tbody>\n",
              "    <tr>\n",
              "      <th>0</th>\n",
              "      <td>Yakutsk</td>\n",
              "      <td>Ordzhonikidze,</td>\n",
              "      <td>56</td>\n",
              "      <td>Franc</td>\n",
              "      <td>None</td>\n",
              "      <td>None</td>\n",
              "      <td>None</td>\n",
              "      <td>None</td>\n",
              "      <td>0</td>\n",
              "    </tr>\n",
              "    <tr>\n",
              "      <th>1</th>\n",
              "      <td>Yakutsk</td>\n",
              "      <td>TC</td>\n",
              "      <td>\"Central\"</td>\n",
              "      <td>Franc</td>\n",
              "      <td>None</td>\n",
              "      <td>None</td>\n",
              "      <td>None</td>\n",
              "      <td>None</td>\n",
              "      <td>1</td>\n",
              "    </tr>\n",
              "    <tr>\n",
              "      <th>2</th>\n",
              "      <td>Adygea</td>\n",
              "      <td>TC</td>\n",
              "      <td>\"Mega\"</td>\n",
              "      <td>None</td>\n",
              "      <td>None</td>\n",
              "      <td>None</td>\n",
              "      <td>None</td>\n",
              "      <td>None</td>\n",
              "      <td>2</td>\n",
              "    </tr>\n",
              "    <tr>\n",
              "      <th>3</th>\n",
              "      <td>Balashikha</td>\n",
              "      <td>TRC</td>\n",
              "      <td>\"October-Kinomir\"</td>\n",
              "      <td>None</td>\n",
              "      <td>None</td>\n",
              "      <td>None</td>\n",
              "      <td>None</td>\n",
              "      <td>None</td>\n",
              "      <td>3</td>\n",
              "    </tr>\n",
              "    <tr>\n",
              "      <th>4</th>\n",
              "      <td>Volzhsky</td>\n",
              "      <td>mall</td>\n",
              "      <td>\"Volga</td>\n",
              "      <td>Mall\"</td>\n",
              "      <td>None</td>\n",
              "      <td>None</td>\n",
              "      <td>None</td>\n",
              "      <td>None</td>\n",
              "      <td>4</td>\n",
              "    </tr>\n",
              "  </tbody>\n",
              "</table>\n",
              "</div>"
            ],
            "text/plain": [
              "                  0               1                  2  ...     6     7 shop_id\n",
              "shop_id                                                 ...                    \n",
              "0           Yakutsk  Ordzhonikidze,                 56  ...  None  None       0\n",
              "1           Yakutsk              TC          \"Central\"  ...  None  None       1\n",
              "2            Adygea              TC             \"Mega\"  ...  None  None       2\n",
              "3        Balashikha             TRC  \"October-Kinomir\"  ...  None  None       3\n",
              "4          Volzhsky            mall             \"Volga  ...  None  None       4\n",
              "\n",
              "[5 rows x 9 columns]"
            ]
          },
          "metadata": {
            "tags": []
          },
          "execution_count": 10
        }
      ]
    },
    {
      "cell_type": "code",
      "metadata": {
        "id": "H7AiHYhYr6bG",
        "colab_type": "code",
        "colab": {
          "base_uri": "https://localhost:8080/",
          "height": 235
        },
        "outputId": "8ccdd068-eba3-4476-8d22-0af79a3a5552"
      },
      "source": [
        "city_code.head() #매장 이름을 parsing"
      ],
      "execution_count": null,
      "outputs": [
        {
          "output_type": "execute_result",
          "data": {
            "text/html": [
              "<div>\n",
              "<style scoped>\n",
              "    .dataframe tbody tr th:only-of-type {\n",
              "        vertical-align: middle;\n",
              "    }\n",
              "\n",
              "    .dataframe tbody tr th {\n",
              "        vertical-align: top;\n",
              "    }\n",
              "\n",
              "    .dataframe thead th {\n",
              "        text-align: right;\n",
              "    }\n",
              "</style>\n",
              "<table border=\"1\" class=\"dataframe\">\n",
              "  <thead>\n",
              "    <tr style=\"text-align: right;\">\n",
              "      <th></th>\n",
              "      <th>0</th>\n",
              "      <th>1</th>\n",
              "      <th>2</th>\n",
              "      <th>3</th>\n",
              "      <th>4</th>\n",
              "      <th>5</th>\n",
              "      <th>6</th>\n",
              "      <th>7</th>\n",
              "      <th>shop_id</th>\n",
              "    </tr>\n",
              "    <tr>\n",
              "      <th>shop_id</th>\n",
              "      <th></th>\n",
              "      <th></th>\n",
              "      <th></th>\n",
              "      <th></th>\n",
              "      <th></th>\n",
              "      <th></th>\n",
              "      <th></th>\n",
              "      <th></th>\n",
              "      <th></th>\n",
              "    </tr>\n",
              "  </thead>\n",
              "  <tbody>\n",
              "    <tr>\n",
              "      <th>0</th>\n",
              "      <td>Yakutsk</td>\n",
              "      <td>Ordzhonikidze,</td>\n",
              "      <td>56</td>\n",
              "      <td>Franc</td>\n",
              "      <td>None</td>\n",
              "      <td>None</td>\n",
              "      <td>None</td>\n",
              "      <td>None</td>\n",
              "      <td>0</td>\n",
              "    </tr>\n",
              "    <tr>\n",
              "      <th>1</th>\n",
              "      <td>Yakutsk</td>\n",
              "      <td>TC</td>\n",
              "      <td>\"Central\"</td>\n",
              "      <td>Franc</td>\n",
              "      <td>None</td>\n",
              "      <td>None</td>\n",
              "      <td>None</td>\n",
              "      <td>None</td>\n",
              "      <td>1</td>\n",
              "    </tr>\n",
              "    <tr>\n",
              "      <th>2</th>\n",
              "      <td>Adygea</td>\n",
              "      <td>TC</td>\n",
              "      <td>\"Mega\"</td>\n",
              "      <td>None</td>\n",
              "      <td>None</td>\n",
              "      <td>None</td>\n",
              "      <td>None</td>\n",
              "      <td>None</td>\n",
              "      <td>2</td>\n",
              "    </tr>\n",
              "    <tr>\n",
              "      <th>3</th>\n",
              "      <td>Balashikha</td>\n",
              "      <td>TRC</td>\n",
              "      <td>\"October-Kinomir\"</td>\n",
              "      <td>None</td>\n",
              "      <td>None</td>\n",
              "      <td>None</td>\n",
              "      <td>None</td>\n",
              "      <td>None</td>\n",
              "      <td>3</td>\n",
              "    </tr>\n",
              "    <tr>\n",
              "      <th>4</th>\n",
              "      <td>Volzhsky</td>\n",
              "      <td>mall</td>\n",
              "      <td>\"Volga</td>\n",
              "      <td>Mall\"</td>\n",
              "      <td>None</td>\n",
              "      <td>None</td>\n",
              "      <td>None</td>\n",
              "      <td>None</td>\n",
              "      <td>4</td>\n",
              "    </tr>\n",
              "  </tbody>\n",
              "</table>\n",
              "</div>"
            ],
            "text/plain": [
              "                  0               1                  2  ...     6     7 shop_id\n",
              "shop_id                                                 ...                    \n",
              "0           Yakutsk  Ordzhonikidze,                 56  ...  None  None       0\n",
              "1           Yakutsk              TC          \"Central\"  ...  None  None       1\n",
              "2            Adygea              TC             \"Mega\"  ...  None  None       2\n",
              "3        Balashikha             TRC  \"October-Kinomir\"  ...  None  None       3\n",
              "4          Volzhsky            mall             \"Volga  ...  None  None       4\n",
              "\n",
              "[5 rows x 9 columns]"
            ]
          },
          "metadata": {
            "tags": []
          },
          "execution_count": 11
        }
      ]
    },
    {
      "cell_type": "code",
      "metadata": {
        "id": "7m0-1SkIt5bt",
        "colab_type": "code",
        "colab": {}
      },
      "source": [
        "city_info=pd.read_csv('ru.csv') # 도시에 대해 조사한 사항 csv 업로드"
      ],
      "execution_count": null,
      "outputs": []
    },
    {
      "cell_type": "code",
      "metadata": {
        "id": "0w7UaBaXt_7_",
        "colab_type": "code",
        "colab": {}
      },
      "source": [
        "city_info.head() \n",
        "city_info['capital'].fillna('Other', inplace=True)"
      ],
      "execution_count": null,
      "outputs": []
    },
    {
      "cell_type": "code",
      "metadata": {
        "id": "BoH9qwfbwCyB",
        "colab_type": "code",
        "colab": {}
      },
      "source": [
        "city_info.drop(['lat', 'lng', 'country', 'admin', 'population_proper', 'iso2'], axis=1, inplace=True) #위도, 경도, 국가 등은 제거"
      ],
      "execution_count": null,
      "outputs": []
    },
    {
      "cell_type": "code",
      "metadata": {
        "id": "bn86yLTa-rZ-",
        "colab_type": "code",
        "colab": {
          "base_uri": "https://localhost:8080/",
          "height": 204
        },
        "outputId": "18fdc850-b62d-491a-85bb-151924aab4f6"
      },
      "source": [
        "city_info.head() "
      ],
      "execution_count": null,
      "outputs": [
        {
          "output_type": "execute_result",
          "data": {
            "text/html": [
              "<div>\n",
              "<style scoped>\n",
              "    .dataframe tbody tr th:only-of-type {\n",
              "        vertical-align: middle;\n",
              "    }\n",
              "\n",
              "    .dataframe tbody tr th {\n",
              "        vertical-align: top;\n",
              "    }\n",
              "\n",
              "    .dataframe thead th {\n",
              "        text-align: right;\n",
              "    }\n",
              "</style>\n",
              "<table border=\"1\" class=\"dataframe\">\n",
              "  <thead>\n",
              "    <tr style=\"text-align: right;\">\n",
              "      <th></th>\n",
              "      <th>city</th>\n",
              "      <th>capital</th>\n",
              "      <th>population</th>\n",
              "    </tr>\n",
              "  </thead>\n",
              "  <tbody>\n",
              "    <tr>\n",
              "      <th>0</th>\n",
              "      <td>Moscow</td>\n",
              "      <td>primary</td>\n",
              "      <td>10452000.0</td>\n",
              "    </tr>\n",
              "    <tr>\n",
              "      <th>1</th>\n",
              "      <td>Saint Petersburg</td>\n",
              "      <td>admin</td>\n",
              "      <td>4553000.0</td>\n",
              "    </tr>\n",
              "    <tr>\n",
              "      <th>2</th>\n",
              "      <td>Novosibirsk</td>\n",
              "      <td>admin</td>\n",
              "      <td>1389000.0</td>\n",
              "    </tr>\n",
              "    <tr>\n",
              "      <th>3</th>\n",
              "      <td>Yekaterinburg</td>\n",
              "      <td>admin</td>\n",
              "      <td>1313000.0</td>\n",
              "    </tr>\n",
              "    <tr>\n",
              "      <th>4</th>\n",
              "      <td>Nizhniy Novgorod</td>\n",
              "      <td>admin</td>\n",
              "      <td>1278000.0</td>\n",
              "    </tr>\n",
              "  </tbody>\n",
              "</table>\n",
              "</div>"
            ],
            "text/plain": [
              "               city  capital  population\n",
              "0            Moscow  primary  10452000.0\n",
              "1  Saint Petersburg    admin   4553000.0\n",
              "2       Novosibirsk    admin   1389000.0\n",
              "3     Yekaterinburg    admin   1313000.0\n",
              "4  Nizhniy Novgorod    admin   1278000.0"
            ]
          },
          "metadata": {
            "tags": []
          },
          "execution_count": 15
        }
      ]
    },
    {
      "cell_type": "code",
      "metadata": {
        "id": "vzJmpPmTuBis",
        "colab_type": "code",
        "colab": {}
      },
      "source": [
        "city_merge=pd.merge(city_code,city_info, left_on=0, right_on='city',  how='left')"
      ],
      "execution_count": null,
      "outputs": []
    },
    {
      "cell_type": "code",
      "metadata": {
        "id": "1qM5HfOKvYew",
        "colab_type": "code",
        "colab": {
          "base_uri": "https://localhost:8080/",
          "height": 204
        },
        "outputId": "0e04375b-fef0-4b50-a9b7-220400504029"
      },
      "source": [
        "shops=city_merge[[0,'shop_id', 'city', 'capital', 'population']]\n",
        "shops.head()"
      ],
      "execution_count": null,
      "outputs": [
        {
          "output_type": "execute_result",
          "data": {
            "text/html": [
              "<div>\n",
              "<style scoped>\n",
              "    .dataframe tbody tr th:only-of-type {\n",
              "        vertical-align: middle;\n",
              "    }\n",
              "\n",
              "    .dataframe tbody tr th {\n",
              "        vertical-align: top;\n",
              "    }\n",
              "\n",
              "    .dataframe thead th {\n",
              "        text-align: right;\n",
              "    }\n",
              "</style>\n",
              "<table border=\"1\" class=\"dataframe\">\n",
              "  <thead>\n",
              "    <tr style=\"text-align: right;\">\n",
              "      <th></th>\n",
              "      <th>0</th>\n",
              "      <th>shop_id</th>\n",
              "      <th>city</th>\n",
              "      <th>capital</th>\n",
              "      <th>population</th>\n",
              "    </tr>\n",
              "  </thead>\n",
              "  <tbody>\n",
              "    <tr>\n",
              "      <th>0</th>\n",
              "      <td>Yakutsk</td>\n",
              "      <td>0</td>\n",
              "      <td>Yakutsk</td>\n",
              "      <td>admin</td>\n",
              "      <td>235600.0</td>\n",
              "    </tr>\n",
              "    <tr>\n",
              "      <th>1</th>\n",
              "      <td>Yakutsk</td>\n",
              "      <td>1</td>\n",
              "      <td>Yakutsk</td>\n",
              "      <td>admin</td>\n",
              "      <td>235600.0</td>\n",
              "    </tr>\n",
              "    <tr>\n",
              "      <th>2</th>\n",
              "      <td>Adygea</td>\n",
              "      <td>2</td>\n",
              "      <td>Adygea</td>\n",
              "      <td>Common wealth</td>\n",
              "      <td>439996.0</td>\n",
              "    </tr>\n",
              "    <tr>\n",
              "      <th>3</th>\n",
              "      <td>Balashikha</td>\n",
              "      <td>3</td>\n",
              "      <td>Balashikha</td>\n",
              "      <td>Common wealth</td>\n",
              "      <td>228567.0</td>\n",
              "    </tr>\n",
              "    <tr>\n",
              "      <th>4</th>\n",
              "      <td>Volzhsky</td>\n",
              "      <td>4</td>\n",
              "      <td>Volzhsky</td>\n",
              "      <td>Common wealth</td>\n",
              "      <td>320761.0</td>\n",
              "    </tr>\n",
              "  </tbody>\n",
              "</table>\n",
              "</div>"
            ],
            "text/plain": [
              "            0  shop_id        city        capital  population\n",
              "0     Yakutsk        0     Yakutsk          admin    235600.0\n",
              "1     Yakutsk        1     Yakutsk          admin    235600.0\n",
              "2      Adygea        2      Adygea  Common wealth    439996.0\n",
              "3  Balashikha        3  Balashikha  Common wealth    228567.0\n",
              "4    Volzhsky        4    Volzhsky  Common wealth    320761.0"
            ]
          },
          "metadata": {
            "tags": []
          },
          "execution_count": 142
        }
      ]
    },
    {
      "cell_type": "markdown",
      "metadata": {
        "id": "IXAbMReILYtO",
        "colab_type": "text"
      },
      "source": [
        "### (2) Categorical encoding"
      ]
    },
    {
      "cell_type": "code",
      "metadata": {
        "id": "PEDq7eSuKS-x",
        "colab_type": "code",
        "colab": {}
      },
      "source": [
        "lista=[]\n",
        "shops=city_merge[[0,'shop_id', 'city', 'capital', 'population']]\n",
        "for i,v in enumerate(shops['city'].unique()):\n",
        "  lista.append((i,v))\n",
        "df=pd.DataFrame(lista, columns=['city_code', 'city'])\n",
        "shops=pd.merge(df, shops)\n",
        "shops=shops[['shop_id','city_code', 'capital', 'population']]\n",
        "\n",
        "lista=[]\n",
        "for i,v in enumerate(shops['capital'].unique()):\n",
        "  lista.append((i,v))\n",
        "df=pd.DataFrame(lista, columns=['capital_code', 'capital'])\n",
        "shops=pd.merge(shops, df)\n"
      ],
      "execution_count": null,
      "outputs": []
    },
    {
      "cell_type": "code",
      "metadata": {
        "id": "2_UwHjlqKxJ9",
        "colab_type": "code",
        "colab": {
          "base_uri": "https://localhost:8080/",
          "height": 204
        },
        "outputId": "5f41bb10-851c-4eb0-b27e-f74e0fd575af"
      },
      "source": [
        "shops=shops[['shop_id', 'city_code', 'population', 'capital_code']]\n",
        "shops.head()"
      ],
      "execution_count": null,
      "outputs": [
        {
          "output_type": "execute_result",
          "data": {
            "text/html": [
              "<div>\n",
              "<style scoped>\n",
              "    .dataframe tbody tr th:only-of-type {\n",
              "        vertical-align: middle;\n",
              "    }\n",
              "\n",
              "    .dataframe tbody tr th {\n",
              "        vertical-align: top;\n",
              "    }\n",
              "\n",
              "    .dataframe thead th {\n",
              "        text-align: right;\n",
              "    }\n",
              "</style>\n",
              "<table border=\"1\" class=\"dataframe\">\n",
              "  <thead>\n",
              "    <tr style=\"text-align: right;\">\n",
              "      <th></th>\n",
              "      <th>shop_id</th>\n",
              "      <th>city_code</th>\n",
              "      <th>population</th>\n",
              "      <th>capital_code</th>\n",
              "    </tr>\n",
              "  </thead>\n",
              "  <tbody>\n",
              "    <tr>\n",
              "      <th>0</th>\n",
              "      <td>0</td>\n",
              "      <td>0</td>\n",
              "      <td>235600.0</td>\n",
              "      <td>0</td>\n",
              "    </tr>\n",
              "    <tr>\n",
              "      <th>1</th>\n",
              "      <td>1</td>\n",
              "      <td>0</td>\n",
              "      <td>235600.0</td>\n",
              "      <td>0</td>\n",
              "    </tr>\n",
              "    <tr>\n",
              "      <th>2</th>\n",
              "      <td>57</td>\n",
              "      <td>0</td>\n",
              "      <td>235600.0</td>\n",
              "      <td>0</td>\n",
              "    </tr>\n",
              "    <tr>\n",
              "      <th>3</th>\n",
              "      <td>58</td>\n",
              "      <td>0</td>\n",
              "      <td>235600.0</td>\n",
              "      <td>0</td>\n",
              "    </tr>\n",
              "    <tr>\n",
              "      <th>4</th>\n",
              "      <td>5</td>\n",
              "      <td>4</td>\n",
              "      <td>294889.0</td>\n",
              "      <td>0</td>\n",
              "    </tr>\n",
              "  </tbody>\n",
              "</table>\n",
              "</div>"
            ],
            "text/plain": [
              "   shop_id  city_code  population  capital_code\n",
              "0        0          0    235600.0             0\n",
              "1        1          0    235600.0             0\n",
              "2       57          0    235600.0             0\n",
              "3       58          0    235600.0             0\n",
              "4        5          4    294889.0             0"
            ]
          },
          "metadata": {
            "tags": []
          },
          "execution_count": 147
        }
      ]
    },
    {
      "cell_type": "code",
      "metadata": {
        "id": "41UDZNDvf4YW",
        "colab_type": "code",
        "colab": {}
      },
      "source": [
        "monthly_tmp=pd.read_csv(\"Ru_monthly_temperature.csv\")"
      ],
      "execution_count": null,
      "outputs": []
    },
    {
      "cell_type": "markdown",
      "metadata": {
        "id": "c8on1USbLlHa",
        "colab_type": "text"
      },
      "source": [
        "## 2) Holiday - 러시아의 국경일"
      ]
    },
    {
      "cell_type": "markdown",
      "metadata": {
        "id": "VcNn2zJJPmeo",
        "colab_type": "text"
      },
      "source": [
        "- 국경일의 경우 소비자의 여가 시간이 길어져서 소비 활동도 늘 것으로 가정 "
      ]
    },
    {
      "cell_type": "code",
      "metadata": {
        "id": "X4D95dESgXQD",
        "colab_type": "code",
        "colab": {}
      },
      "source": [
        "holiday=pd.read_csv(\"Ru_Public_holiday.csv\")"
      ],
      "execution_count": null,
      "outputs": []
    },
    {
      "cell_type": "code",
      "metadata": {
        "id": "9Vm1wou6LnG9",
        "colab_type": "code",
        "colab": {}
      },
      "source": [
        "holiday=holiday[['Month', 'Number of days']]"
      ],
      "execution_count": null,
      "outputs": []
    },
    {
      "cell_type": "code",
      "metadata": {
        "id": "Lx_NkSyniaXo",
        "colab_type": "code",
        "colab": {}
      },
      "source": [
        "holiday.head()\n",
        "holiday.to_csv('holiday_v2.csv')\n",
        "monthly_tmp.to_csv('monthly_tmp_v2.csv')"
      ],
      "execution_count": null,
      "outputs": []
    },
    {
      "cell_type": "markdown",
      "metadata": {
        "id": "jNLRHNykQ3qh",
        "colab_type": "text"
      },
      "source": [
        "## 3) 기온\n",
        "\n",
        "- 월 평균 기온이 높다면 실내활동이 많아져 독서, 비디오 시청에 대한 수요가 증가할 것으로 예상"
      ]
    },
    {
      "cell_type": "code",
      "metadata": {
        "id": "qJ82qAYhglRq",
        "colab_type": "code",
        "colab": {}
      },
      "source": [
        "monthly_tmp=monthly_tmp[['Month', 'temperature']]"
      ],
      "execution_count": null,
      "outputs": []
    },
    {
      "cell_type": "code",
      "metadata": {
        "id": "1HjF-Ek0NOo-",
        "colab_type": "code",
        "colab": {
          "base_uri": "https://localhost:8080/",
          "height": 204
        },
        "outputId": "b3d946d4-0ecc-499b-a270-f1ff2151ea08"
      },
      "source": [
        "monthly_tmp.head()"
      ],
      "execution_count": null,
      "outputs": [
        {
          "output_type": "execute_result",
          "data": {
            "text/html": [
              "<div>\n",
              "<style scoped>\n",
              "    .dataframe tbody tr th:only-of-type {\n",
              "        vertical-align: middle;\n",
              "    }\n",
              "\n",
              "    .dataframe tbody tr th {\n",
              "        vertical-align: top;\n",
              "    }\n",
              "\n",
              "    .dataframe thead th {\n",
              "        text-align: right;\n",
              "    }\n",
              "</style>\n",
              "<table border=\"1\" class=\"dataframe\">\n",
              "  <thead>\n",
              "    <tr style=\"text-align: right;\">\n",
              "      <th></th>\n",
              "      <th>Month</th>\n",
              "      <th>temperature</th>\n",
              "    </tr>\n",
              "  </thead>\n",
              "  <tbody>\n",
              "    <tr>\n",
              "      <th>0</th>\n",
              "      <td>1</td>\n",
              "      <td>-7.5</td>\n",
              "    </tr>\n",
              "    <tr>\n",
              "      <th>1</th>\n",
              "      <td>2</td>\n",
              "      <td>-6.5</td>\n",
              "    </tr>\n",
              "    <tr>\n",
              "      <th>2</th>\n",
              "      <td>3</td>\n",
              "      <td>-1.5</td>\n",
              "    </tr>\n",
              "    <tr>\n",
              "      <th>3</th>\n",
              "      <td>4</td>\n",
              "      <td>6.5</td>\n",
              "    </tr>\n",
              "    <tr>\n",
              "      <th>4</th>\n",
              "      <td>5</td>\n",
              "      <td>13.5</td>\n",
              "    </tr>\n",
              "  </tbody>\n",
              "</table>\n",
              "</div>"
            ],
            "text/plain": [
              "   Month  temperature\n",
              "0      1         -7.5\n",
              "1      2         -6.5\n",
              "2      3         -1.5\n",
              "3      4          6.5\n",
              "4      5         13.5"
            ]
          },
          "metadata": {
            "tags": []
          },
          "execution_count": 152
        }
      ]
    },
    {
      "cell_type": "code",
      "metadata": {
        "id": "Nz3Im_btlH-T",
        "colab_type": "code",
        "colab": {}
      },
      "source": [
        "Ru_city_temp"
      ],
      "execution_count": null,
      "outputs": []
    },
    {
      "cell_type": "markdown",
      "metadata": {
        "id": "yG6B_AEdHYP0",
        "colab_type": "text"
      },
      "source": [
        "## 4) 아이템 카테고리"
      ]
    },
    {
      "cell_type": "markdown",
      "metadata": {
        "id": "M9dxlw8nFszm",
        "colab_type": "text"
      },
      "source": [
        "- 카테고리 소분류, 대분류 추가"
      ]
    },
    {
      "cell_type": "code",
      "metadata": {
        "id": "VpxfkgAmFfU7",
        "colab_type": "code",
        "colab": {}
      },
      "source": [
        "item_id_to_cate_id = {i:v for i,v in zip(items['item_id'],items['item_category_id'])}\n",
        "cate_id_to_L_cate = { i:v for i,v in zip(item_categories_add['item_category_id'],item_categories_add['item_category_name_L'])}"
      ],
      "execution_count": null,
      "outputs": []
    },
    {
      "cell_type": "code",
      "metadata": {
        "id": "7klmJalSFfh3",
        "colab_type": "code",
        "colab": {}
      },
      "source": [
        "sales_train['item_category_id'] = sales_train['item_id'].map(item_id_to_cate_id)\n",
        "sales_train['item_category_name_L'] =sales_train['item_category_id'].map(cate_id_to_L_cate)"
      ],
      "execution_count": null,
      "outputs": []
    },
    {
      "cell_type": "code",
      "metadata": {
        "id": "NJERelk5ksFJ",
        "colab_type": "code",
        "colab": {}
      },
      "source": [
        "# sales_train['item_category_id'] 소분류 인덱싱 되어있음\n",
        "# sales_train['item_category_name_L'] 대분류 인덱싱 안 되어있음"
      ],
      "execution_count": null,
      "outputs": []
    },
    {
      "cell_type": "code",
      "metadata": {
        "id": "tCbl376NJybz",
        "colab_type": "code",
        "colab": {
          "base_uri": "https://localhost:8080/",
          "height": 163
        },
        "outputId": "594bad82-8a00-4a27-d51f-2b6a81569d28"
      },
      "source": [
        "#sales_train['item_category_name_L'] = pd.Categorical(item_category_name_L).codes"
      ],
      "execution_count": null,
      "outputs": [
        {
          "output_type": "error",
          "ename": "NameError",
          "evalue": "ignored",
          "traceback": [
            "\u001b[0;31m---------------------------------------------------------------------------\u001b[0m",
            "\u001b[0;31mNameError\u001b[0m                                 Traceback (most recent call last)",
            "\u001b[0;32m<ipython-input-27-2273a860cad3>\u001b[0m in \u001b[0;36m<module>\u001b[0;34m()\u001b[0m\n\u001b[0;32m----> 1\u001b[0;31m \u001b[0msales_train\u001b[0m\u001b[0;34m[\u001b[0m\u001b[0;34m'item_category_name_L'\u001b[0m\u001b[0;34m]\u001b[0m \u001b[0;34m=\u001b[0m \u001b[0mpd\u001b[0m\u001b[0;34m.\u001b[0m\u001b[0mCategorical\u001b[0m\u001b[0;34m(\u001b[0m\u001b[0mitem_category_name_L\u001b[0m\u001b[0;34m)\u001b[0m\u001b[0;34m.\u001b[0m\u001b[0mcodes\u001b[0m\u001b[0;34m\u001b[0m\u001b[0;34m\u001b[0m\u001b[0m\n\u001b[0m",
            "\u001b[0;31mNameError\u001b[0m: name 'item_category_name_L' is not defined"
          ]
        }
      ]
    },
    {
      "cell_type": "markdown",
      "metadata": {
        "id": "BAgzIuI13vaE",
        "colab_type": "text"
      },
      "source": [
        "## 5) 이동평균/지수이동평균\n"
      ]
    },
    {
      "cell_type": "code",
      "metadata": {
        "id": "pPS0gYV_34Vn",
        "colab_type": "code",
        "colab": {}
      },
      "source": [
        "from itertools import product\n",
        "import numpy as np \n",
        "# create all combinations \n",
        "block_shop_combi = pd.DataFrame(list(product(np.arange(34), test_shops)), columns=['date_block_num','shop_id'])\n",
        "\n",
        "shop_item_combi = pd.DataFrame(list(product(test_shops, test_items)), columns=['shop_id','item_id'])\n",
        "\n",
        "all_combi = pd.merge(block_shop_combi, shop_item_combi, on=['shop_id'], how='inner') # group by monthly\n",
        "\n",
        "train_base = pd.merge(all_combi, train, on=['date_block_num','shop_id','item_id'], how='left') \n",
        "\n",
        "train_base['item_cnt_day'].fillna(0, inplace=True)\n",
        " \n",
        "train_grp = train_base.groupby(['date_block_num','shop_id','item_id'])\n"
      ],
      "execution_count": null,
      "outputs": []
    },
    {
      "cell_type": "code",
      "metadata": {
        "id": "v3tn4sCJ35y3",
        "colab_type": "code",
        "colab": {
          "base_uri": "https://localhost:8080/",
          "height": 572
        },
        "outputId": "2d918ea7-7167-44f9-b308-68b51f09437c"
      },
      "source": [
        "#summary count by month\n",
        "# 한달단위의 팔린 갯수 및 주문 수\n",
        "# 극단 값들을 0,20사이의 값들로 만들어준다. \n",
        "\n",
        "train_monthly = pd.DataFrame(train_grp.agg({'item_cnt_day':['sum','count']})).reset_index() \n",
        "\n",
        "train_monthly.columns = ['date_block_num','shop_id','item_id','item_cnt','item_order'] \n",
        "\n",
        "print(train_monthly[['item_cnt','item_order']].describe()) \n",
        "# trim count \n",
        "\n",
        "train_monthly['item_cnt'].clip(0, 20, inplace=True) \n",
        "train_grp.head()\n"
      ],
      "execution_count": null,
      "outputs": [
        {
          "output_type": "stream",
          "text": [
            "           item_cnt    item_order\n",
            "count  7.282800e+06  7.282800e+06\n",
            "mean   1.997350e-02  1.008310e+00\n",
            "std    8.419160e-01  2.295656e-01\n",
            "min   -2.000000e+00  1.000000e+00\n",
            "25%    0.000000e+00  1.000000e+00\n",
            "50%    0.000000e+00  1.000000e+00\n",
            "75%    0.000000e+00  1.000000e+00\n",
            "max    7.660000e+02  3.100000e+01\n"
          ],
          "name": "stdout"
        },
        {
          "output_type": "execute_result",
          "data": {
            "text/html": [
              "<div>\n",
              "<style scoped>\n",
              "    .dataframe tbody tr th:only-of-type {\n",
              "        vertical-align: middle;\n",
              "    }\n",
              "\n",
              "    .dataframe tbody tr th {\n",
              "        vertical-align: top;\n",
              "    }\n",
              "\n",
              "    .dataframe thead th {\n",
              "        text-align: right;\n",
              "    }\n",
              "</style>\n",
              "<table border=\"1\" class=\"dataframe\">\n",
              "  <thead>\n",
              "    <tr style=\"text-align: right;\">\n",
              "      <th></th>\n",
              "      <th>date_block_num</th>\n",
              "      <th>shop_id</th>\n",
              "      <th>item_id</th>\n",
              "      <th>date</th>\n",
              "      <th>item_price</th>\n",
              "      <th>item_cnt_day</th>\n",
              "    </tr>\n",
              "  </thead>\n",
              "  <tbody>\n",
              "    <tr>\n",
              "      <th>0</th>\n",
              "      <td>0</td>\n",
              "      <td>5</td>\n",
              "      <td>5037</td>\n",
              "      <td>NaN</td>\n",
              "      <td>NaN</td>\n",
              "      <td>0.0</td>\n",
              "    </tr>\n",
              "    <tr>\n",
              "      <th>1</th>\n",
              "      <td>0</td>\n",
              "      <td>5</td>\n",
              "      <td>5320</td>\n",
              "      <td>NaN</td>\n",
              "      <td>NaN</td>\n",
              "      <td>0.0</td>\n",
              "    </tr>\n",
              "    <tr>\n",
              "      <th>2</th>\n",
              "      <td>0</td>\n",
              "      <td>5</td>\n",
              "      <td>5233</td>\n",
              "      <td>NaN</td>\n",
              "      <td>NaN</td>\n",
              "      <td>0.0</td>\n",
              "    </tr>\n",
              "    <tr>\n",
              "      <th>3</th>\n",
              "      <td>0</td>\n",
              "      <td>5</td>\n",
              "      <td>5232</td>\n",
              "      <td>NaN</td>\n",
              "      <td>NaN</td>\n",
              "      <td>0.0</td>\n",
              "    </tr>\n",
              "    <tr>\n",
              "      <th>4</th>\n",
              "      <td>0</td>\n",
              "      <td>5</td>\n",
              "      <td>5268</td>\n",
              "      <td>NaN</td>\n",
              "      <td>NaN</td>\n",
              "      <td>0.0</td>\n",
              "    </tr>\n",
              "    <tr>\n",
              "      <th>...</th>\n",
              "      <td>...</td>\n",
              "      <td>...</td>\n",
              "      <td>...</td>\n",
              "      <td>...</td>\n",
              "      <td>...</td>\n",
              "      <td>...</td>\n",
              "    </tr>\n",
              "    <tr>\n",
              "      <th>7343314</th>\n",
              "      <td>33</td>\n",
              "      <td>45</td>\n",
              "      <td>18454</td>\n",
              "      <td>NaN</td>\n",
              "      <td>NaN</td>\n",
              "      <td>0.0</td>\n",
              "    </tr>\n",
              "    <tr>\n",
              "      <th>7343315</th>\n",
              "      <td>33</td>\n",
              "      <td>45</td>\n",
              "      <td>16188</td>\n",
              "      <td>NaN</td>\n",
              "      <td>NaN</td>\n",
              "      <td>0.0</td>\n",
              "    </tr>\n",
              "    <tr>\n",
              "      <th>7343316</th>\n",
              "      <td>33</td>\n",
              "      <td>45</td>\n",
              "      <td>15757</td>\n",
              "      <td>NaN</td>\n",
              "      <td>NaN</td>\n",
              "      <td>0.0</td>\n",
              "    </tr>\n",
              "    <tr>\n",
              "      <th>7343317</th>\n",
              "      <td>33</td>\n",
              "      <td>45</td>\n",
              "      <td>19648</td>\n",
              "      <td>NaN</td>\n",
              "      <td>NaN</td>\n",
              "      <td>0.0</td>\n",
              "    </tr>\n",
              "    <tr>\n",
              "      <th>7343318</th>\n",
              "      <td>33</td>\n",
              "      <td>45</td>\n",
              "      <td>969</td>\n",
              "      <td>NaN</td>\n",
              "      <td>NaN</td>\n",
              "      <td>0.0</td>\n",
              "    </tr>\n",
              "  </tbody>\n",
              "</table>\n",
              "<p>7327528 rows × 6 columns</p>\n",
              "</div>"
            ],
            "text/plain": [
              "         date_block_num  shop_id  item_id date  item_price  item_cnt_day\n",
              "0                     0        5     5037  NaN         NaN           0.0\n",
              "1                     0        5     5320  NaN         NaN           0.0\n",
              "2                     0        5     5233  NaN         NaN           0.0\n",
              "3                     0        5     5232  NaN         NaN           0.0\n",
              "4                     0        5     5268  NaN         NaN           0.0\n",
              "...                 ...      ...      ...  ...         ...           ...\n",
              "7343314              33       45    18454  NaN         NaN           0.0\n",
              "7343315              33       45    16188  NaN         NaN           0.0\n",
              "7343316              33       45    15757  NaN         NaN           0.0\n",
              "7343317              33       45    19648  NaN         NaN           0.0\n",
              "7343318              33       45      969  NaN         NaN           0.0\n",
              "\n",
              "[7327528 rows x 6 columns]"
            ]
          },
          "metadata": {
            "tags": []
          },
          "execution_count": 14
        }
      ]
    },
    {
      "cell_type": "code",
      "metadata": {
        "id": "P80o2Wdz353T",
        "colab_type": "code",
        "colab": {}
      },
      "source": [
        "train_piv = train_monthly.pivot_table(index=['shop_id','item_id'], \n",
        "                                      columns=['date_block_num'], \n",
        "                                      values='item_cnt', aggfunc=np.sum, fill_value=0) \n",
        "train_piv = train_piv.reset_index() \n",
        "train_piv.head()"
      ],
      "execution_count": null,
      "outputs": []
    },
    {
      "cell_type": "code",
      "metadata": {
        "id": "XHpxr1d63561",
        "colab_type": "code",
        "colab": {
          "base_uri": "https://localhost:8080/",
          "height": 204
        },
        "outputId": "87448db5-b66e-4741-ceb5-5ba59cc3f11c"
      },
      "source": [
        "# 이동평균과 지수평균 앞의 12개월은 지운다. \n",
        "col = np.arange(34) \n",
        "pivT = train_piv[col].T \n",
        "mov_s = pivT.rolling(3).mean().T \n",
        "mov_m = pivT.rolling(6).mean().T \n",
        "mov_l = pivT.rolling(12).mean().T \n",
        "ema_s = pivT.ewm(span=3).mean().T \n",
        "ema_m = pivT.ewm(span=6).mean().T \n",
        "ema_l = pivT.ewm(span=9).mean().T\n",
        "ema_xl = pivT.ewm(span=12).mean().T \n",
        " \n",
        "ema_list = []\n",
        "col_select = np.arange(11,34) \n",
        "for c in col_select: \n",
        "    sub_ema = pd.concat([train_piv.loc[:,['shop_id','item_id']], \n",
        "                         pd.DataFrame(mov_s.loc[:,c]).rename(columns={c:'cnt_mov_s_prev'}), \n",
        "                         pd.DataFrame(mov_m.loc[:,c]).rename(columns={c:'cnt_mov_m_prev'}), \n",
        "                         pd.DataFrame(mov_l.loc[:,c]).rename(columns={c:'cnt_mov_l_prev'}),\n",
        "                         pd.DataFrame(ema_s.loc[:,c]).rename(columns={c:'cnt_ema_s_prev'}), \n",
        "                         pd.DataFrame(ema_m.loc[:,c]).rename(columns={c:'cnt_ema_m_prev'}), \n",
        "                         pd.DataFrame(ema_l.loc[:,c]).rename(columns={c:'cnt_ema_l_prev'}),\n",
        "                         pd.DataFrame(ema_l.loc[:,c]).rename(columns={c:'cnt_ema_xl_prev'})],\n",
        "                         axis=1) \n",
        "    sub_ema['date_block_num'] = c \n",
        "    ema_list.append(sub_ema) \n",
        "\n",
        "train_ema_prev = pd.concat(ema_list) \n",
        "train_ema_prev.head()\n"
      ],
      "execution_count": null,
      "outputs": [
        {
          "output_type": "execute_result",
          "data": {
            "text/html": [
              "<div>\n",
              "<style scoped>\n",
              "    .dataframe tbody tr th:only-of-type {\n",
              "        vertical-align: middle;\n",
              "    }\n",
              "\n",
              "    .dataframe tbody tr th {\n",
              "        vertical-align: top;\n",
              "    }\n",
              "\n",
              "    .dataframe thead th {\n",
              "        text-align: right;\n",
              "    }\n",
              "</style>\n",
              "<table border=\"1\" class=\"dataframe\">\n",
              "  <thead>\n",
              "    <tr style=\"text-align: right;\">\n",
              "      <th></th>\n",
              "      <th>shop_id</th>\n",
              "      <th>item_id</th>\n",
              "      <th>cnt_mov_s_prev</th>\n",
              "      <th>cnt_mov_m_prev</th>\n",
              "      <th>cnt_mov_l_prev</th>\n",
              "      <th>cnt_ema_s_prev</th>\n",
              "      <th>cnt_ema_m_prev</th>\n",
              "      <th>cnt_ema_l_prev</th>\n",
              "      <th>cnt_ema_xl_prev</th>\n",
              "      <th>date_block_num</th>\n",
              "    </tr>\n",
              "  </thead>\n",
              "  <tbody>\n",
              "    <tr>\n",
              "      <th>0</th>\n",
              "      <td>2</td>\n",
              "      <td>30</td>\n",
              "      <td>0.0</td>\n",
              "      <td>0.0</td>\n",
              "      <td>0.166667</td>\n",
              "      <td>0.008791</td>\n",
              "      <td>0.052704</td>\n",
              "      <td>0.085122</td>\n",
              "      <td>0.085122</td>\n",
              "      <td>11</td>\n",
              "    </tr>\n",
              "    <tr>\n",
              "      <th>1</th>\n",
              "      <td>2</td>\n",
              "      <td>31</td>\n",
              "      <td>0.0</td>\n",
              "      <td>0.0</td>\n",
              "      <td>0.500000</td>\n",
              "      <td>0.004884</td>\n",
              "      <td>0.074004</td>\n",
              "      <td>0.157093</td>\n",
              "      <td>0.157093</td>\n",
              "      <td>11</td>\n",
              "    </tr>\n",
              "    <tr>\n",
              "      <th>2</th>\n",
              "      <td>2</td>\n",
              "      <td>32</td>\n",
              "      <td>0.0</td>\n",
              "      <td>0.0</td>\n",
              "      <td>0.000000</td>\n",
              "      <td>0.000000</td>\n",
              "      <td>0.000000</td>\n",
              "      <td>0.000000</td>\n",
              "      <td>0.000000</td>\n",
              "      <td>11</td>\n",
              "    </tr>\n",
              "    <tr>\n",
              "      <th>3</th>\n",
              "      <td>2</td>\n",
              "      <td>33</td>\n",
              "      <td>0.0</td>\n",
              "      <td>0.0</td>\n",
              "      <td>0.083333</td>\n",
              "      <td>0.000244</td>\n",
              "      <td>0.007182</td>\n",
              "      <td>0.018448</td>\n",
              "      <td>0.018448</td>\n",
              "      <td>11</td>\n",
              "    </tr>\n",
              "    <tr>\n",
              "      <th>4</th>\n",
              "      <td>2</td>\n",
              "      <td>38</td>\n",
              "      <td>0.0</td>\n",
              "      <td>0.0</td>\n",
              "      <td>0.000000</td>\n",
              "      <td>0.000000</td>\n",
              "      <td>0.000000</td>\n",
              "      <td>0.000000</td>\n",
              "      <td>0.000000</td>\n",
              "      <td>11</td>\n",
              "    </tr>\n",
              "  </tbody>\n",
              "</table>\n",
              "</div>"
            ],
            "text/plain": [
              "   shop_id  item_id  ...  cnt_ema_xl_prev  date_block_num\n",
              "0        2       30  ...         0.085122              11\n",
              "1        2       31  ...         0.157093              11\n",
              "2        2       32  ...         0.000000              11\n",
              "3        2       33  ...         0.018448              11\n",
              "4        2       38  ...         0.000000              11\n",
              "\n",
              "[5 rows x 10 columns]"
            ]
          },
          "metadata": {
            "tags": []
          },
          "execution_count": 15
        }
      ]
    },
    {
      "cell_type": "code",
      "metadata": {
        "id": "gssKLJrO359K",
        "colab_type": "code",
        "colab": {}
      },
      "source": [
        ""
      ],
      "execution_count": null,
      "outputs": []
    },
    {
      "cell_type": "code",
      "metadata": {
        "id": "jN3-K6Mo35_Z",
        "colab_type": "code",
        "colab": {}
      },
      "source": [
        ""
      ],
      "execution_count": null,
      "outputs": []
    },
    {
      "cell_type": "code",
      "metadata": {
        "id": "PVARwXri36Bg",
        "colab_type": "code",
        "colab": {}
      },
      "source": [
        ""
      ],
      "execution_count": null,
      "outputs": []
    },
    {
      "cell_type": "code",
      "metadata": {
        "id": "jEE9uhjI7aG_",
        "colab_type": "code",
        "colab": {}
      },
      "source": [
        ""
      ],
      "execution_count": null,
      "outputs": []
    },
    {
      "cell_type": "markdown",
      "metadata": {
        "id": "4MorqJ3BbMKB",
        "colab_type": "text"
      },
      "source": [
        "# 3. Modeling"
      ]
    },
    {
      "cell_type": "code",
      "metadata": {
        "id": "07zOlWhYbLVj",
        "colab_type": "code",
        "colab": {}
      },
      "source": [
        "def reduce_mem_usage(df):\n",
        "    \"\"\" iterate through all the columns of a dataframe and modify the data type\n",
        "        to reduce memory usage.        \n",
        "    \"\"\"\n",
        "    start_mem = df.memory_usage().sum() / 1024**2\n",
        "    print('Memory usage of dataframe is {:.2f} MB'.format(start_mem))\n",
        "    \n",
        "    for col in df.columns:\n",
        "        col_type = df[col].dtype\n",
        "        \n",
        "        if col_type != object:\n",
        "            c_min = df[col].min()\n",
        "            c_max = df[col].max()\n",
        "            if str(col_type)[:3] == 'int':\n",
        "                if c_min > np.iinfo(np.int8).min and c_max < np.iinfo(np.int8).max:\n",
        "                    df[col] = df[col].astype(np.int8)\n",
        "                elif c_min > np.iinfo(np.int16).min and c_max < np.iinfo(np.int16).max:\n",
        "                    df[col] = df[col].astype(np.int16)\n",
        "                elif c_min > np.iinfo(np.int32).min and c_max < np.iinfo(np.int32).max:\n",
        "                    df[col] = df[col].astype(np.int32)\n",
        "                elif c_min > np.iinfo(np.int64).min and c_max < np.iinfo(np.int64).max:\n",
        "                    df[col] = df[col].astype(np.int64)  \n",
        "            else:\n",
        "                if c_min > np.finfo(np.float16).min and c_max < np.finfo(np.float16).max:\n",
        "                    df[col] = df[col].astype(np.float16)\n",
        "                elif c_min > np.finfo(np.float32).min and c_max < np.finfo(np.float32).max:\n",
        "                    df[col] = df[col].astype(np.float32)\n",
        "                else:\n",
        "                    df[col] = df[col].astype(np.float64)\n",
        "        else:\n",
        "            df[col] = df[col].astype('category')\n",
        "\n",
        "    end_mem = df.memory_usage().sum() / 1024**2\n",
        "    print('Memory usage after optimization is: {:.2f} MB'.format(end_mem))\n",
        "    print('Decreased by {:.1f}%'.format(100 * (start_mem - end_mem) / start_mem))\n",
        "    \n",
        "    return df\n",
        "\n",
        "def mergeFeature(df): \n",
        "    df = pd.merge(df, shop_id, on=['shop_id'], how='left')\n",
        "    df['Month'] = df['date_block_num'] % 12 +1\n",
        "    df = pd.merge(df, monthly_tmp, on=['Month'], how='left') \n",
        "    df = pd.merge(df, holiday, on=['Month'], how='left') \n",
        "    df = pd.merge(df, train_ema_prev, on=['date_block_num','shop_id','item_id']\n",
        "                  , how='left')\n",
        "\n",
        "    df.drop(['shop_id','item_id'], axis=1, inplace=True) \n",
        "    df.fillna(0.0, inplace=True)\n",
        "\n",
        "\n",
        "    return reduce_mem_usage(df)\n",
        "\n",
        "\n",
        "train_set = train_monthly[train_monthly['date_block_num'] >= 11]\n",
        "\n",
        "train_set = pd.merge(train_set, train_price_a, on=['date_block_num','shop_id','item_id'], how='left')\n",
        " \n",
        "train_set = mergeFeature(train_set) \n",
        "train_set = train_set.join(pd.DataFrame(train_set.pop('item_order'))) # move to last column \n",
        "X_train = train_set.drop(['item_cnt'], axis=1) \n",
        "Y_train = train_set['item_cnt'].clip(0.,20.) \n",
        "X_train.head()\n"
      ],
      "execution_count": null,
      "outputs": []
    },
    {
      "cell_type": "code",
      "metadata": {
        "id": "gXwHO4G5bTww",
        "colab_type": "code",
        "colab": {}
      },
      "source": [
        "\n",
        "X_train.head()\n",
        "\n",
        "train_price_a.shape\n",
        "\n",
        "test_set = test.copy() \n",
        "test_set['date_block_num'] = 34 \n",
        "test_set = pd.merge(test_set, test_price_a, on=['shop_id','item_id'], how='left') \n",
        "test_set = mergeFeature(test_set) \n",
        "test_set['item_order'] = test_set['cnt_ema_s_prev']\n",
        "#order_prev \n",
        "test_set.loc[test_set['item_order'] == 0, 'item_order'] = 1 \n",
        "X_test = test_set.drop(['ID'], axis=1) \n",
        "X_test.head() \n",
        "assert(X_train.columns.isin(X_test.columns).all())\n",
        "\n",
        "\n",
        "from sklearn import linear_model, preprocessing \n",
        "from sklearn.model_selection import GroupKFold \n",
        "import lightgbm as lgb \n",
        "params={'learning_rate': 0.05, \n",
        "        'objective':'regression', \n",
        "        'metric':'rmse', \n",
        "        'num_leaves': 64, \n",
        "        'verbose': 1, \n",
        "        'random_state':42, \n",
        "        'bagging_fraction': 1, \n",
        "        'feature_fraction': 1 \n",
        "       , 'n_jobs':-1} \n",
        "folds = GroupKFold(n_splits=6) \n",
        "oof_preds = np.zeros(X_train.shape[0]) \n",
        "sub_preds = np.zeros(X_test.shape[0])\n",
        "\n",
        "\n",
        "for fold_, (trn_, val_) in enumerate(folds.split(X_train, Y_train, X_train['date_block_num'])): \n",
        "    trn_x, trn_y = X_train.iloc[trn_], Y_train[trn_] \n",
        "    val_x, val_y = X_train.iloc[val_], Y_train[val_] \n",
        "    reg = lgb.LGBMRegressor(**params, n_estimators=3000) \n",
        "    reg.fit(trn_x, trn_y, eval_set=[(val_x, val_y)], early_stopping_rounds=50, verbose=500) \n",
        "    oof_preds[val_] = reg.predict(val_x.values, num_iteration=reg.best_iteration_) \n",
        "    sub_preds += reg.predict(X_test.values, num_iteration=reg.best_iteration_) / folds.n_splits\n",
        "\n",
        "\n",
        "\n",
        "pred_cnt = sub_preds \n",
        "result = pd.DataFrame({ \"ID\": test[\"ID\"], \"item_cnt_month\": pred_cnt.clip(0. ,20.) }) \n",
        "result.to_csv(\"./submission.csv\", index=False)\n"
      ],
      "execution_count": null,
      "outputs": []
    }
  ]
}