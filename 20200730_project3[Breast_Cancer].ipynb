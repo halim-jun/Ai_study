{
  "nbformat": 4,
  "nbformat_minor": 0,
  "metadata": {
    "colab": {
      "name": "20200730_project3[Breast Cancer].ipynb",
      "provenance": [],
      "collapsed_sections": [],
      "authorship_tag": "ABX9TyOc4uybGHgDfWjEABOFIsKN",
      "include_colab_link": true
    },
    "kernelspec": {
      "name": "python3",
      "display_name": "Python 3"
    }
  },
  "cells": [
    {
      "cell_type": "markdown",
      "metadata": {
        "id": "view-in-github",
        "colab_type": "text"
      },
      "source": [
        "<a href=\"https://colab.research.google.com/github/halim-jun/Ai_study/blob/master/20200730_project3%5BBreast_Cancer%5D.ipynb\" target=\"_parent\"><img src=\"https://colab.research.google.com/assets/colab-badge.svg\" alt=\"Open In Colab\"/></a>"
      ]
    },
    {
      "cell_type": "markdown",
      "metadata": {
        "id": "CyTkwMYoh_-U",
        "colab_type": "text"
      },
      "source": [
        "#breast cancer Data"
      ]
    },
    {
      "cell_type": "markdown",
      "metadata": {
        "id": "fbWIrT_hiDtC",
        "colab_type": "text"
      },
      "source": [
        "## 1) 필요한 모듈 import"
      ]
    },
    {
      "cell_type": "code",
      "metadata": {
        "id": "7UbWZ1VKf4AF",
        "colab_type": "code",
        "colab": {}
      },
      "source": [
        "import sklearn \n",
        "from sklearn.datasets import load_breast_cancer\n",
        "from sklearn.metrics import classification_report\n",
        "from sklearn.model_selection import train_test_split\n",
        "from sklearn.metrics import precision_score\n",
        "from sklearn.metrics import f1_score\n",
        "from sklearn.metrics import accuracy_score\n",
        "from sklearn.metrics import recall_score"
      ],
      "execution_count": 1,
      "outputs": []
    },
    {
      "cell_type": "markdown",
      "metadata": {
        "id": "eWQHJfvIiOxQ",
        "colab_type": "text"
      },
      "source": [
        "## 2) 데이터 로드하기"
      ]
    },
    {
      "cell_type": "code",
      "metadata": {
        "id": "XPORVO-NhQkY",
        "colab_type": "code",
        "colab": {}
      },
      "source": [
        "canc=load_breast_cancer()\n",
        "\n"
      ],
      "execution_count": 2,
      "outputs": []
    },
    {
      "cell_type": "markdown",
      "metadata": {
        "id": "HJYhGS9ajYNK",
        "colab_type": "text"
      },
      "source": [
        "## 3) 데이터 이해하기"
      ]
    },
    {
      "cell_type": "markdown",
      "metadata": {
        "id": "c3O49GYmhoLz",
        "colab_type": "text"
      },
      "source": [
        "- Feature data 지정하기\n",
        "- Label data 지정하기"
      ]
    },
    {
      "cell_type": "code",
      "metadata": {
        "id": "kCWu8rc-hT2I",
        "colab_type": "code",
        "colab": {}
      },
      "source": [
        "feature_data=canc.data\n",
        "label_data=canc.target"
      ],
      "execution_count": 3,
      "outputs": []
    },
    {
      "cell_type": "markdown",
      "metadata": {
        "id": "TVyH-jlAhuNC",
        "colab_type": "text"
      },
      "source": [
        "- Target names 출력해보기"
      ]
    },
    {
      "cell_type": "code",
      "metadata": {
        "id": "ScVUujnnhXnc",
        "colab_type": "code",
        "colab": {
          "base_uri": "https://localhost:8080/",
          "height": 34
        },
        "outputId": "418174e8-e516-404a-b1f8-3d1044ff2146"
      },
      "source": [
        "canc.target_names"
      ],
      "execution_count": 4,
      "outputs": [
        {
          "output_type": "execute_result",
          "data": {
            "text/plain": [
              "array(['malignant', 'benign'], dtype='<U9')"
            ]
          },
          "metadata": {
            "tags": []
          },
          "execution_count": 4
        }
      ]
    },
    {
      "cell_type": "markdown",
      "metadata": {
        "id": "4qPZne5mhxbh",
        "colab_type": "text"
      },
      "source": [
        "- Describe 출력해보기"
      ]
    },
    {
      "cell_type": "code",
      "metadata": {
        "id": "nPocuDnIhgop",
        "colab_type": "code",
        "colab": {
          "base_uri": "https://localhost:8080/",
          "height": 1000
        },
        "outputId": "6cfe7a78-a444-4229-b7b1-933ada17b0b5"
      },
      "source": [
        "print(canc.DESCR)"
      ],
      "execution_count": 5,
      "outputs": [
        {
          "output_type": "stream",
          "text": [
            ".. _breast_cancer_dataset:\n",
            "\n",
            "Breast cancer wisconsin (diagnostic) dataset\n",
            "--------------------------------------------\n",
            "\n",
            "**Data Set Characteristics:**\n",
            "\n",
            "    :Number of Instances: 569\n",
            "\n",
            "    :Number of Attributes: 30 numeric, predictive attributes and the class\n",
            "\n",
            "    :Attribute Information:\n",
            "        - radius (mean of distances from center to points on the perimeter)\n",
            "        - texture (standard deviation of gray-scale values)\n",
            "        - perimeter\n",
            "        - area\n",
            "        - smoothness (local variation in radius lengths)\n",
            "        - compactness (perimeter^2 / area - 1.0)\n",
            "        - concavity (severity of concave portions of the contour)\n",
            "        - concave points (number of concave portions of the contour)\n",
            "        - symmetry \n",
            "        - fractal dimension (\"coastline approximation\" - 1)\n",
            "\n",
            "        The mean, standard error, and \"worst\" or largest (mean of the three\n",
            "        largest values) of these features were computed for each image,\n",
            "        resulting in 30 features.  For instance, field 3 is Mean Radius, field\n",
            "        13 is Radius SE, field 23 is Worst Radius.\n",
            "\n",
            "        - class:\n",
            "                - WDBC-Malignant\n",
            "                - WDBC-Benign\n",
            "\n",
            "    :Summary Statistics:\n",
            "\n",
            "    ===================================== ====== ======\n",
            "                                           Min    Max\n",
            "    ===================================== ====== ======\n",
            "    radius (mean):                        6.981  28.11\n",
            "    texture (mean):                       9.71   39.28\n",
            "    perimeter (mean):                     43.79  188.5\n",
            "    area (mean):                          143.5  2501.0\n",
            "    smoothness (mean):                    0.053  0.163\n",
            "    compactness (mean):                   0.019  0.345\n",
            "    concavity (mean):                     0.0    0.427\n",
            "    concave points (mean):                0.0    0.201\n",
            "    symmetry (mean):                      0.106  0.304\n",
            "    fractal dimension (mean):             0.05   0.097\n",
            "    radius (standard error):              0.112  2.873\n",
            "    texture (standard error):             0.36   4.885\n",
            "    perimeter (standard error):           0.757  21.98\n",
            "    area (standard error):                6.802  542.2\n",
            "    smoothness (standard error):          0.002  0.031\n",
            "    compactness (standard error):         0.002  0.135\n",
            "    concavity (standard error):           0.0    0.396\n",
            "    concave points (standard error):      0.0    0.053\n",
            "    symmetry (standard error):            0.008  0.079\n",
            "    fractal dimension (standard error):   0.001  0.03\n",
            "    radius (worst):                       7.93   36.04\n",
            "    texture (worst):                      12.02  49.54\n",
            "    perimeter (worst):                    50.41  251.2\n",
            "    area (worst):                         185.2  4254.0\n",
            "    smoothness (worst):                   0.071  0.223\n",
            "    compactness (worst):                  0.027  1.058\n",
            "    concavity (worst):                    0.0    1.252\n",
            "    concave points (worst):               0.0    0.291\n",
            "    symmetry (worst):                     0.156  0.664\n",
            "    fractal dimension (worst):            0.055  0.208\n",
            "    ===================================== ====== ======\n",
            "\n",
            "    :Missing Attribute Values: None\n",
            "\n",
            "    :Class Distribution: 212 - Malignant, 357 - Benign\n",
            "\n",
            "    :Creator:  Dr. William H. Wolberg, W. Nick Street, Olvi L. Mangasarian\n",
            "\n",
            "    :Donor: Nick Street\n",
            "\n",
            "    :Date: November, 1995\n",
            "\n",
            "This is a copy of UCI ML Breast Cancer Wisconsin (Diagnostic) datasets.\n",
            "https://goo.gl/U2Uwz2\n",
            "\n",
            "Features are computed from a digitized image of a fine needle\n",
            "aspirate (FNA) of a breast mass.  They describe\n",
            "characteristics of the cell nuclei present in the image.\n",
            "\n",
            "Separating plane described above was obtained using\n",
            "Multisurface Method-Tree (MSM-T) [K. P. Bennett, \"Decision Tree\n",
            "Construction Via Linear Programming.\" Proceedings of the 4th\n",
            "Midwest Artificial Intelligence and Cognitive Science Society,\n",
            "pp. 97-101, 1992], a classification method which uses linear\n",
            "programming to construct a decision tree.  Relevant features\n",
            "were selected using an exhaustive search in the space of 1-4\n",
            "features and 1-3 separating planes.\n",
            "\n",
            "The actual linear program used to obtain the separating plane\n",
            "in the 3-dimensional space is that described in:\n",
            "[K. P. Bennett and O. L. Mangasarian: \"Robust Linear\n",
            "Programming Discrimination of Two Linearly Inseparable Sets\",\n",
            "Optimization Methods and Software 1, 1992, 23-34].\n",
            "\n",
            "This database is also available through the UW CS ftp server:\n",
            "\n",
            "ftp ftp.cs.wisc.edu\n",
            "cd math-prog/cpo-dataset/machine-learn/WDBC/\n",
            "\n",
            ".. topic:: References\n",
            "\n",
            "   - W.N. Street, W.H. Wolberg and O.L. Mangasarian. Nuclear feature extraction \n",
            "     for breast tumor diagnosis. IS&T/SPIE 1993 International Symposium on \n",
            "     Electronic Imaging: Science and Technology, volume 1905, pages 861-870,\n",
            "     San Jose, CA, 1993.\n",
            "   - O.L. Mangasarian, W.N. Street and W.H. Wolberg. Breast cancer diagnosis and \n",
            "     prognosis via linear programming. Operations Research, 43(4), pages 570-577, \n",
            "     July-August 1995.\n",
            "   - W.H. Wolberg, W.N. Street, and O.L. Mangasarian. Machine learning techniques\n",
            "     to diagnose breast cancer from fine-needle aspirates. Cancer Letters 77 (1994) \n",
            "     163-171.\n"
          ],
          "name": "stdout"
        }
      ]
    },
    {
      "cell_type": "markdown",
      "metadata": {
        "id": "hj8TatelhmUG",
        "colab_type": "text"
      },
      "source": [
        "## 4) Train, Test split"
      ]
    },
    {
      "cell_type": "code",
      "metadata": {
        "id": "q8vbXGw6iff5",
        "colab_type": "code",
        "colab": {}
      },
      "source": [
        "(x_train, x_test, y_train, y_test)=train_test_split(feature_data, label_data, random_state=7, test_size=0.2)"
      ],
      "execution_count": 6,
      "outputs": []
    },
    {
      "cell_type": "markdown",
      "metadata": {
        "id": "W9g89N0ujAyF",
        "colab_type": "text"
      },
      "source": [
        "## 5) Train the model / 모델 트레인하기"
      ]
    },
    {
      "cell_type": "markdown",
      "metadata": {
        "id": "gNCC08K4jCHR",
        "colab_type": "text"
      },
      "source": [
        "Decision Tree 사용해 보기   \n",
        "Random Forest 사용해 보기   \n",
        "SVM 사용해 보기   \n",
        "SGD Classifier 사용해 보기   \n",
        "Logistic Regression 사용해 보기"
      ]
    },
    {
      "cell_type": "code",
      "metadata": {
        "id": "aUhqMVKOjt1W",
        "colab_type": "code",
        "colab": {
          "base_uri": "https://localhost:8080/",
          "height": 170
        },
        "outputId": "2f57b66f-9f6b-4966-e4ff-6202ee801639"
      },
      "source": [
        "#1. Decision Tree \n",
        "from sklearn.tree import DecisionTreeClassifier\n",
        "model_tree=DecisionTreeClassifier(random_state=32)\n",
        "model_tree.fit(x_train, y_train)\n",
        "y_pred=model_tree.predict(x_test)\n",
        "tree_pre=precision_score(y_test, y_pred, average=None)\n",
        "tree_recall=recall_score(y_test, y_pred,average=None)\n",
        "tree_report=classification_report(y_test, y_pred)\n",
        "print(tree_report)"
      ],
      "execution_count": 7,
      "outputs": [
        {
          "output_type": "stream",
          "text": [
            "              precision    recall  f1-score   support\n",
            "\n",
            "           0       0.92      0.82      0.87        40\n",
            "           1       0.91      0.96      0.93        74\n",
            "\n",
            "    accuracy                           0.91       114\n",
            "   macro avg       0.91      0.89      0.90       114\n",
            "weighted avg       0.91      0.91      0.91       114\n",
            "\n"
          ],
          "name": "stdout"
        }
      ]
    },
    {
      "cell_type": "code",
      "metadata": {
        "id": "JjBI5Nlyk7Kr",
        "colab_type": "code",
        "colab": {
          "base_uri": "https://localhost:8080/",
          "height": 170
        },
        "outputId": "258b5691-9a40-4624-b93d-0bb67ae8cb42"
      },
      "source": [
        "#2. Random Forest\n",
        "from sklearn.ensemble import RandomForestClassifier\n",
        "model_random=RandomForestClassifier(random_state=32)\n",
        "model_random.fit(x_train, y_train)\n",
        "y_pred=model_random.predict(x_test)\n",
        "rand_acc=accuracy_score(y_test, y_pred)\n",
        "rand_pre=precision_score(y_test, y_pred, average=None)\n",
        "rand_recall=recall_score(y_test, y_pred,average=None)\n",
        "forest_report=classification_report(y_test, y_pred)\n",
        "print(forest_report)"
      ],
      "execution_count": 8,
      "outputs": [
        {
          "output_type": "stream",
          "text": [
            "              precision    recall  f1-score   support\n",
            "\n",
            "           0       1.00      1.00      1.00        40\n",
            "           1       1.00      1.00      1.00        74\n",
            "\n",
            "    accuracy                           1.00       114\n",
            "   macro avg       1.00      1.00      1.00       114\n",
            "weighted avg       1.00      1.00      1.00       114\n",
            "\n"
          ],
          "name": "stdout"
        }
      ]
    },
    {
      "cell_type": "code",
      "metadata": {
        "id": "rREwUPUVlsQD",
        "colab_type": "code",
        "colab": {}
      },
      "source": [
        "#3. SVM \n",
        "from sklearn import svm\n",
        "model_svm = svm.SVC(random_state=20)\n",
        "model_svm.fit(x_train, y_train)\n",
        "y_pred=model_svm.predict(x_test)\n",
        "svm_pre=precision_score(y_test, y_pred, average=None)\n",
        "svm_recall=recall_score(y_test, y_pred,average=None)\n",
        "svm_acc=accuracy_score(y_test, y_pred)\n",
        "svm_report=classification_report(y_test, y_pred)"
      ],
      "execution_count": 9,
      "outputs": []
    },
    {
      "cell_type": "code",
      "metadata": {
        "id": "19iUfvDlnPAF",
        "colab_type": "code",
        "colab": {}
      },
      "source": [
        "#4. SGD Classifier\n",
        "from sklearn.linear_model import SGDClassifier\n",
        "model_SGD=SGDClassifier(random_state=32)\n",
        "model_SGD.fit(x_train, y_train)\n",
        "y_pred=model_SGD.predict(x_test)\n",
        "SGD_pre=precision_score(y_test, y_pred, average=None)\n",
        "SGD_recall=recall_score(y_test, y_pred,average=None)\n",
        "SGD_acc=accuracy_score(y_test, y_pred)\n",
        "SGD_report=classification_report(y_test, y_pred)"
      ],
      "execution_count": 10,
      "outputs": []
    },
    {
      "cell_type": "code",
      "metadata": {
        "id": "j0F_GYGWn5UQ",
        "colab_type": "code",
        "colab": {
          "base_uri": "https://localhost:8080/",
          "height": 153
        },
        "outputId": "9923b0a3-fca3-45af-cef5-9a9f5a5ea587"
      },
      "source": [
        "#5. Logistic Regression \n",
        "from sklearn.linear_model import LogisticRegression\n",
        "model_log=LogisticRegression()\n",
        "model_log.fit(x_train, y_train)\n",
        "y_pred=model_log.predict(x_test)\n",
        "log_acc=accuracy_score(y_test, y_pred)\n",
        "log_pre=precision_score(y_test, y_pred, average=None)\n",
        "log_recall=recall_score(y_test, y_pred,average=None)\n",
        "logistic_report=classification_report(y_test, y_pred)"
      ],
      "execution_count": 11,
      "outputs": [
        {
          "output_type": "stream",
          "text": [
            "/usr/local/lib/python3.6/dist-packages/sklearn/linear_model/_logistic.py:940: ConvergenceWarning: lbfgs failed to converge (status=1):\n",
            "STOP: TOTAL NO. of ITERATIONS REACHED LIMIT.\n",
            "\n",
            "Increase the number of iterations (max_iter) or scale the data as shown in:\n",
            "    https://scikit-learn.org/stable/modules/preprocessing.html\n",
            "Please also refer to the documentation for alternative solver options:\n",
            "    https://scikit-learn.org/stable/modules/linear_model.html#logistic-regression\n",
            "  extra_warning_msg=_LOGISTIC_SOLVER_CONVERGENCE_MSG)\n"
          ],
          "name": "stderr"
        }
      ]
    },
    {
      "cell_type": "markdown",
      "metadata": {
        "id": "T73fYL_Gof5C",
        "colab_type": "text"
      },
      "source": [
        "## 6) Which model is working best?/ 모델 평가하기"
      ]
    },
    {
      "cell_type": "markdown",
      "metadata": {
        "id": "mZ_286-rwCQ2",
        "colab_type": "text"
      },
      "source": [
        "### 결론 : Recall 이 높은 random forest 을 사용해야한다**\n",
        "\n",
        "\n",
        "\n"
      ]
    },
    {
      "cell_type": "markdown",
      "metadata": {
        "id": "SommJbBJv4iR",
        "colab_type": "text"
      },
      "source": [
        " #### 근거1 : 데이터가 고르게 분포하지 않으므로 precision/recall을 사용해야한다.\n",
        "(train set 의 분포가 일반적인 해당 현상의 분포와 유사하다고 가정)"
      ]
    },
    {
      "cell_type": "code",
      "metadata": {
        "id": "1i_7dQhpo9b2",
        "colab_type": "code",
        "colab": {
          "base_uri": "https://localhost:8080/",
          "height": 111
        },
        "outputId": "b5c20e97-1202-4ff9-bb20-be4e890dc47d"
      },
      "source": [
        "import pandas as pd\n",
        "import numpy as np\n",
        "y_dis=pd.DataFrame(pd.value_counts(y_test)/len(y_test)*100, columns=['frequency (%)']).sort_index()\n",
        "y_train_dis=pd.DataFrame(pd.value_counts(y_train)/len(y_train)*100, columns=['frequency (%)']).sort_index()\n",
        "\n",
        "y_dis"
      ],
      "execution_count": 12,
      "outputs": [
        {
          "output_type": "execute_result",
          "data": {
            "text/html": [
              "<div>\n",
              "<style scoped>\n",
              "    .dataframe tbody tr th:only-of-type {\n",
              "        vertical-align: middle;\n",
              "    }\n",
              "\n",
              "    .dataframe tbody tr th {\n",
              "        vertical-align: top;\n",
              "    }\n",
              "\n",
              "    .dataframe thead th {\n",
              "        text-align: right;\n",
              "    }\n",
              "</style>\n",
              "<table border=\"1\" class=\"dataframe\">\n",
              "  <thead>\n",
              "    <tr style=\"text-align: right;\">\n",
              "      <th></th>\n",
              "      <th>frequency (%)</th>\n",
              "    </tr>\n",
              "  </thead>\n",
              "  <tbody>\n",
              "    <tr>\n",
              "      <th>0</th>\n",
              "      <td>35.087719</td>\n",
              "    </tr>\n",
              "    <tr>\n",
              "      <th>1</th>\n",
              "      <td>64.912281</td>\n",
              "    </tr>\n",
              "  </tbody>\n",
              "</table>\n",
              "</div>"
            ],
            "text/plain": [
              "   frequency (%)\n",
              "0      35.087719\n",
              "1      64.912281"
            ]
          },
          "metadata": {
            "tags": []
          },
          "execution_count": 12
        }
      ]
    },
    {
      "cell_type": "markdown",
      "metadata": {
        "id": "Ay-N5Uhx5apd",
        "colab_type": "text"
      },
      "source": [
        "1 class 가 전체의 64% 이므로, 모든 수치를 1로만 평가해도 절반 이상의 ACCURACY 가 나온다 따라서 precision/recall 사용하는게 적합하다는 판단."
      ]
    },
    {
      "cell_type": "markdown",
      "metadata": {
        "id": "xCFQQjtpaKfF",
        "colab_type": "text"
      },
      "source": [
        "\n",
        "#### 근거 2 : 암은 최대한 많은 실제 암 환자가 양성판정을 받아야 하므로, 리콜(True Positive/True Positive + False Negagive) 이 높아야 한다. \n",
        "\n",
        "- 모든 class에 대한 평균 Recall이 가장 높은 지표는 Random forest 이므로 random forest 를 사용해야 함 "
      ]
    },
    {
      "cell_type": "code",
      "metadata": {
        "id": "dEgHaVsNr9bd",
        "colab_type": "code",
        "colab": {
          "base_uri": "https://localhost:8080/",
          "height": 204
        },
        "outputId": "1e95e60a-c54f-4c2f-c9b8-b24116f4b829"
      },
      "source": [
        "recall_list=[tree_recall, rand_recall, svm_recall, SGD_recall, log_recall]\n",
        "recall_list=[100*i for i in recall_list ] \n",
        "recall_title=['tree', 'rand', 'svm', 'SGD', 'log']\n",
        "recall_table=pd.DataFrame(recall_list, index=recall_title)\n",
        "recall_table['avg']=np.mean(recall_table,axis=1)\n",
        "recall_table.sort_values(by='avg', ascending=False)"
      ],
      "execution_count": 19,
      "outputs": [
        {
          "output_type": "execute_result",
          "data": {
            "text/html": [
              "<div>\n",
              "<style scoped>\n",
              "    .dataframe tbody tr th:only-of-type {\n",
              "        vertical-align: middle;\n",
              "    }\n",
              "\n",
              "    .dataframe tbody tr th {\n",
              "        vertical-align: top;\n",
              "    }\n",
              "\n",
              "    .dataframe thead th {\n",
              "        text-align: right;\n",
              "    }\n",
              "</style>\n",
              "<table border=\"1\" class=\"dataframe\">\n",
              "  <thead>\n",
              "    <tr style=\"text-align: right;\">\n",
              "      <th></th>\n",
              "      <th>0</th>\n",
              "      <th>1</th>\n",
              "      <th>avg</th>\n",
              "    </tr>\n",
              "  </thead>\n",
              "  <tbody>\n",
              "    <tr>\n",
              "      <th>rand</th>\n",
              "      <td>100.0</td>\n",
              "      <td>100.000000</td>\n",
              "      <td>100.000000</td>\n",
              "    </tr>\n",
              "    <tr>\n",
              "      <th>log</th>\n",
              "      <td>82.5</td>\n",
              "      <td>100.000000</td>\n",
              "      <td>91.250000</td>\n",
              "    </tr>\n",
              "    <tr>\n",
              "      <th>tree</th>\n",
              "      <td>82.5</td>\n",
              "      <td>95.945946</td>\n",
              "      <td>89.222973</td>\n",
              "    </tr>\n",
              "    <tr>\n",
              "      <th>svm</th>\n",
              "      <td>72.5</td>\n",
              "      <td>100.000000</td>\n",
              "      <td>86.250000</td>\n",
              "    </tr>\n",
              "    <tr>\n",
              "      <th>SGD</th>\n",
              "      <td>70.0</td>\n",
              "      <td>100.000000</td>\n",
              "      <td>85.000000</td>\n",
              "    </tr>\n",
              "  </tbody>\n",
              "</table>\n",
              "</div>"
            ],
            "text/plain": [
              "          0           1         avg\n",
              "rand  100.0  100.000000  100.000000\n",
              "log    82.5  100.000000   91.250000\n",
              "tree   82.5   95.945946   89.222973\n",
              "svm    72.5  100.000000   86.250000\n",
              "SGD    70.0  100.000000   85.000000"
            ]
          },
          "metadata": {
            "tags": []
          },
          "execution_count": 19
        }
      ]
    }
  ]
}