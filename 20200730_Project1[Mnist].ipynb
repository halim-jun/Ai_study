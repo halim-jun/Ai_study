{
  "nbformat": 4,
  "nbformat_minor": 0,
  "metadata": {
    "colab": {
      "name": "20200730_Project1[Mnist].ipynb",
      "provenance": [],
      "collapsed_sections": [],
      "authorship_tag": "ABX9TyOuM41jP7X2DBFdcsc6y8yC",
      "include_colab_link": true
    },
    "kernelspec": {
      "name": "python3",
      "display_name": "Python 3"
    }
  },
  "cells": [
    {
      "cell_type": "markdown",
      "metadata": {
        "id": "view-in-github",
        "colab_type": "text"
      },
      "source": [
        "<a href=\"https://colab.research.google.com/github/halim-jun/Ai_study/blob/master/20200730_Project1%5BMnist%5D.ipynb\" target=\"_parent\"><img src=\"https://colab.research.google.com/assets/colab-badge.svg\" alt=\"Open In Colab\"/></a>"
      ]
    },
    {
      "cell_type": "markdown",
      "metadata": {
        "id": "CyTkwMYoh_-U",
        "colab_type": "text"
      },
      "source": [
        "#1. Mnist Data"
      ]
    },
    {
      "cell_type": "markdown",
      "metadata": {
        "id": "fbWIrT_hiDtC",
        "colab_type": "text"
      },
      "source": [
        "## 1) 필요한 모듈 import"
      ]
    },
    {
      "cell_type": "code",
      "metadata": {
        "id": "7UbWZ1VKf4AF",
        "colab_type": "code",
        "colab": {}
      },
      "source": [
        "import sklearn \n",
        "from sklearn.datasets import load_digits\n",
        "from sklearn.metrics import classification_report\n",
        "from sklearn.model_selection import train_test_split\n",
        "from sklearn.metrics import accuracy_score"
      ],
      "execution_count": 1,
      "outputs": []
    },
    {
      "cell_type": "markdown",
      "metadata": {
        "id": "eWQHJfvIiOxQ",
        "colab_type": "text"
      },
      "source": [
        "## 2) 데이터 로드하기"
      ]
    },
    {
      "cell_type": "code",
      "metadata": {
        "id": "XPORVO-NhQkY",
        "colab_type": "code",
        "colab": {}
      },
      "source": [
        "digit=load_digits()\n"
      ],
      "execution_count": 2,
      "outputs": []
    },
    {
      "cell_type": "markdown",
      "metadata": {
        "id": "HJYhGS9ajYNK",
        "colab_type": "text"
      },
      "source": [
        "## 3) 데이터 이해하기"
      ]
    },
    {
      "cell_type": "markdown",
      "metadata": {
        "id": "c3O49GYmhoLz",
        "colab_type": "text"
      },
      "source": [
        "- Feature data 지정하기\n",
        "- Label data 지정하기"
      ]
    },
    {
      "cell_type": "code",
      "metadata": {
        "id": "kCWu8rc-hT2I",
        "colab_type": "code",
        "colab": {}
      },
      "source": [
        "feature_data=digit.data\n",
        "label_data=digit.target"
      ],
      "execution_count": 3,
      "outputs": []
    },
    {
      "cell_type": "markdown",
      "metadata": {
        "id": "TVyH-jlAhuNC",
        "colab_type": "text"
      },
      "source": [
        "- Target names 출력해보기"
      ]
    },
    {
      "cell_type": "code",
      "metadata": {
        "id": "ScVUujnnhXnc",
        "colab_type": "code",
        "colab": {
          "base_uri": "https://localhost:8080/",
          "height": 34
        },
        "outputId": "c68e8dba-e1a4-40b9-cc05-8c67183ed417"
      },
      "source": [
        "digit.target_names\n"
      ],
      "execution_count": 4,
      "outputs": [
        {
          "output_type": "execute_result",
          "data": {
            "text/plain": [
              "array([0, 1, 2, 3, 4, 5, 6, 7, 8, 9])"
            ]
          },
          "metadata": {
            "tags": []
          },
          "execution_count": 4
        }
      ]
    },
    {
      "cell_type": "markdown",
      "metadata": {
        "id": "4qPZne5mhxbh",
        "colab_type": "text"
      },
      "source": [
        "- Describe 출력해보기"
      ]
    },
    {
      "cell_type": "code",
      "metadata": {
        "id": "nPocuDnIhgop",
        "colab_type": "code",
        "colab": {
          "base_uri": "https://localhost:8080/",
          "height": 799
        },
        "outputId": "cbea25a9-c310-4875-9324-b90aed2de2ad"
      },
      "source": [
        "print(digit.DESCR)"
      ],
      "execution_count": 5,
      "outputs": [
        {
          "output_type": "stream",
          "text": [
            ".. _digits_dataset:\n",
            "\n",
            "Optical recognition of handwritten digits dataset\n",
            "--------------------------------------------------\n",
            "\n",
            "**Data Set Characteristics:**\n",
            "\n",
            "    :Number of Instances: 5620\n",
            "    :Number of Attributes: 64\n",
            "    :Attribute Information: 8x8 image of integer pixels in the range 0..16.\n",
            "    :Missing Attribute Values: None\n",
            "    :Creator: E. Alpaydin (alpaydin '@' boun.edu.tr)\n",
            "    :Date: July; 1998\n",
            "\n",
            "This is a copy of the test set of the UCI ML hand-written digits datasets\n",
            "https://archive.ics.uci.edu/ml/datasets/Optical+Recognition+of+Handwritten+Digits\n",
            "\n",
            "The data set contains images of hand-written digits: 10 classes where\n",
            "each class refers to a digit.\n",
            "\n",
            "Preprocessing programs made available by NIST were used to extract\n",
            "normalized bitmaps of handwritten digits from a preprinted form. From a\n",
            "total of 43 people, 30 contributed to the training set and different 13\n",
            "to the test set. 32x32 bitmaps are divided into nonoverlapping blocks of\n",
            "4x4 and the number of on pixels are counted in each block. This generates\n",
            "an input matrix of 8x8 where each element is an integer in the range\n",
            "0..16. This reduces dimensionality and gives invariance to small\n",
            "distortions.\n",
            "\n",
            "For info on NIST preprocessing routines, see M. D. Garris, J. L. Blue, G.\n",
            "T. Candela, D. L. Dimmick, J. Geist, P. J. Grother, S. A. Janet, and C.\n",
            "L. Wilson, NIST Form-Based Handprint Recognition System, NISTIR 5469,\n",
            "1994.\n",
            "\n",
            ".. topic:: References\n",
            "\n",
            "  - C. Kaynak (1995) Methods of Combining Multiple Classifiers and Their\n",
            "    Applications to Handwritten Digit Recognition, MSc Thesis, Institute of\n",
            "    Graduate Studies in Science and Engineering, Bogazici University.\n",
            "  - E. Alpaydin, C. Kaynak (1998) Cascading Classifiers, Kybernetika.\n",
            "  - Ken Tang and Ponnuthurai N. Suganthan and Xi Yao and A. Kai Qin.\n",
            "    Linear dimensionalityreduction using relevance weighted LDA. School of\n",
            "    Electrical and Electronic Engineering Nanyang Technological University.\n",
            "    2005.\n",
            "  - Claudio Gentile. A New Approximate Maximal Margin Classification\n",
            "    Algorithm. NIPS. 2000.\n"
          ],
          "name": "stdout"
        }
      ]
    },
    {
      "cell_type": "markdown",
      "metadata": {
        "id": "hj8TatelhmUG",
        "colab_type": "text"
      },
      "source": [
        "## 4) Train, Test split"
      ]
    },
    {
      "cell_type": "code",
      "metadata": {
        "id": "q8vbXGw6iff5",
        "colab_type": "code",
        "colab": {}
      },
      "source": [
        "(x_train, x_test, y_train, y_test)=train_test_split(feature_data, label_data, random_state=7, test_size=0.2)"
      ],
      "execution_count": 6,
      "outputs": []
    },
    {
      "cell_type": "markdown",
      "metadata": {
        "id": "W9g89N0ujAyF",
        "colab_type": "text"
      },
      "source": [
        "## 5) Train the model / 모델 트레인하기"
      ]
    },
    {
      "cell_type": "markdown",
      "metadata": {
        "id": "gNCC08K4jCHR",
        "colab_type": "text"
      },
      "source": [
        "Decision Tree 사용해 보기   \n",
        "Random Forest 사용해 보기   \n",
        "SVM 사용해 보기   \n",
        "SGD Classifier 사용해 보기   \n",
        "Logistic Regression 사용해 보기"
      ]
    },
    {
      "cell_type": "code",
      "metadata": {
        "id": "aUhqMVKOjt1W",
        "colab_type": "code",
        "colab": {}
      },
      "source": [
        "#1. Decision Tree \n",
        "from sklearn.tree import DecisionTreeClassifier\n",
        "model_tree=DecisionTreeClassifier(random_state=32)\n",
        "model_tree.fit(x_train, y_train)\n",
        "y_pred=model_tree.predict(x_test)\n",
        "tree_acc=accuracy_score(y_test, y_pred)\n",
        "tree_report=classification_report(y_test, y_pred)"
      ],
      "execution_count": 14,
      "outputs": []
    },
    {
      "cell_type": "code",
      "metadata": {
        "id": "JjBI5Nlyk7Kr",
        "colab_type": "code",
        "colab": {}
      },
      "source": [
        "#2. Random Forest\n",
        "from sklearn.ensemble import RandomForestClassifier\n",
        "model_random=RandomForestClassifier(random_state=32)\n",
        "model_random.fit(x_train, y_train)\n",
        "y_pred=model_random.predict(x_test)\n",
        "rand_acc=accuracy_score(y_test, y_pred)\n",
        "rand_report=classification_report(y_test, y_pred)"
      ],
      "execution_count": 13,
      "outputs": []
    },
    {
      "cell_type": "code",
      "metadata": {
        "id": "rREwUPUVlsQD",
        "colab_type": "code",
        "colab": {}
      },
      "source": [
        "#3. SVM \n",
        "from sklearn import svm\n",
        "model_svm = svm.SVC(random_state=20)\n",
        "model_svm.fit(x_train, y_train)\n",
        "y_pred=model_svm.predict(x_test)\n",
        "svm_acc=accuracy_score(y_test, y_pred)\n",
        "svm_report=classification_report(y_test, y_pred)"
      ],
      "execution_count": 9,
      "outputs": []
    },
    {
      "cell_type": "code",
      "metadata": {
        "id": "19iUfvDlnPAF",
        "colab_type": "code",
        "colab": {}
      },
      "source": [
        "#4. SGD Classifier\n",
        "from sklearn.linear_model import SGDClassifier\n",
        "model_SGD=SGDClassifier(random_state=32)\n",
        "model_SGD.fit(x_train, y_train)\n",
        "y_pred=model_SGD.predict(x_test)\n",
        "SGD_acc=accuracy_score(y_test, y_pred)\n",
        "SGD_report=classification_report(y_test, y_pred)"
      ],
      "execution_count": 10,
      "outputs": []
    },
    {
      "cell_type": "code",
      "metadata": {
        "id": "j0F_GYGWn5UQ",
        "colab_type": "code",
        "colab": {
          "base_uri": "https://localhost:8080/",
          "height": 153
        },
        "outputId": "30ba5015-e885-4e16-81cf-a67ba55890b8"
      },
      "source": [
        "#5. Logistic Regression \n",
        "from sklearn.linear_model import LogisticRegression\n",
        "model_log=LogisticRegression()\n",
        "model_log.fit(x_train, y_train)\n",
        "y_pred=model_log.predict(x_test)\n",
        "log_acc=accuracy_score(y_test, y_pred)\n",
        "logistic_report=classification_report(y_test, y_pred)"
      ],
      "execution_count": 11,
      "outputs": [
        {
          "output_type": "stream",
          "text": [
            "/usr/local/lib/python3.6/dist-packages/sklearn/linear_model/_logistic.py:940: ConvergenceWarning: lbfgs failed to converge (status=1):\n",
            "STOP: TOTAL NO. of ITERATIONS REACHED LIMIT.\n",
            "\n",
            "Increase the number of iterations (max_iter) or scale the data as shown in:\n",
            "    https://scikit-learn.org/stable/modules/preprocessing.html\n",
            "Please also refer to the documentation for alternative solver options:\n",
            "    https://scikit-learn.org/stable/modules/linear_model.html#logistic-regression\n",
            "  extra_warning_msg=_LOGISTIC_SOLVER_CONVERGENCE_MSG)\n"
          ],
          "name": "stderr"
        }
      ]
    },
    {
      "cell_type": "markdown",
      "metadata": {
        "id": "T73fYL_Gof5C",
        "colab_type": "text"
      },
      "source": [
        "## 6) Which model is working best?/ 모델 평가하기"
      ]
    },
    {
      "cell_type": "markdown",
      "metadata": {
        "id": "mZ_286-rwCQ2",
        "colab_type": "text"
      },
      "source": [
        "### **결론 : svm 이 가장 적절하다.**   \n"
      ]
    },
    {
      "cell_type": "markdown",
      "metadata": {
        "id": "wTQHYdnDS9Jh",
        "colab_type": "text"
      },
      "source": [
        "#### 1. 데이터가 고르게 분포하므로 accuracy 가 적절한 지표이다. \n",
        "- recision 이나 recall 은 특정 label 값이 치중되어(높은 빈도로) 나오는 경우 적합함\n",
        "- 데이터가 고르게 분포한다 : \n",
        "   + 하단의 표에서 0~9의 class가 유사한 빈도로 분포되어있다. (train 데이터의 y label이 고르게 분포되어 있다.)\n",
        "   + 만약 일반적으로도 train data와 같이 모든 label 이 고르게 분포되는 경향이 강하다면 accyracy 를 지표로 사용해도 좋을 것이다. "
      ]
    },
    {
      "cell_type": "code",
      "metadata": {
        "id": "1i_7dQhpo9b2",
        "colab_type": "code",
        "colab": {
          "base_uri": "https://localhost:8080/",
          "height": 359
        },
        "outputId": "dead77e1-6d14-49d9-812e-75c55bf98dbb"
      },
      "source": [
        "import pandas as pd\n",
        "import numpy as np\n",
        "y_dis=pd.DataFrame(pd.value_counts(y_train)/len(y_train)*100, columns=['frequency (%)']).sort_index()\n",
        "y_dis"
      ],
      "execution_count": 19,
      "outputs": [
        {
          "output_type": "execute_result",
          "data": {
            "text/html": [
              "<div>\n",
              "<style scoped>\n",
              "    .dataframe tbody tr th:only-of-type {\n",
              "        vertical-align: middle;\n",
              "    }\n",
              "\n",
              "    .dataframe tbody tr th {\n",
              "        vertical-align: top;\n",
              "    }\n",
              "\n",
              "    .dataframe thead th {\n",
              "        text-align: right;\n",
              "    }\n",
              "</style>\n",
              "<table border=\"1\" class=\"dataframe\">\n",
              "  <thead>\n",
              "    <tr style=\"text-align: right;\">\n",
              "      <th></th>\n",
              "      <th>frequency (%)</th>\n",
              "    </tr>\n",
              "  </thead>\n",
              "  <tbody>\n",
              "    <tr>\n",
              "      <th>0</th>\n",
              "      <td>9.394572</td>\n",
              "    </tr>\n",
              "    <tr>\n",
              "      <th>1</th>\n",
              "      <td>9.742519</td>\n",
              "    </tr>\n",
              "    <tr>\n",
              "      <th>2</th>\n",
              "      <td>9.533751</td>\n",
              "    </tr>\n",
              "    <tr>\n",
              "      <th>3</th>\n",
              "      <td>10.368824</td>\n",
              "    </tr>\n",
              "    <tr>\n",
              "      <th>4</th>\n",
              "      <td>10.020877</td>\n",
              "    </tr>\n",
              "    <tr>\n",
              "      <th>5</th>\n",
              "      <td>10.716771</td>\n",
              "    </tr>\n",
              "    <tr>\n",
              "      <th>6</th>\n",
              "      <td>10.647182</td>\n",
              "    </tr>\n",
              "    <tr>\n",
              "      <th>7</th>\n",
              "      <td>10.160056</td>\n",
              "    </tr>\n",
              "    <tr>\n",
              "      <th>8</th>\n",
              "      <td>9.116214</td>\n",
              "    </tr>\n",
              "    <tr>\n",
              "      <th>9</th>\n",
              "      <td>10.299235</td>\n",
              "    </tr>\n",
              "  </tbody>\n",
              "</table>\n",
              "</div>"
            ],
            "text/plain": [
              "   frequency (%)\n",
              "0       9.394572\n",
              "1       9.742519\n",
              "2       9.533751\n",
              "3      10.368824\n",
              "4      10.020877\n",
              "5      10.716771\n",
              "6      10.647182\n",
              "7      10.160056\n",
              "8       9.116214\n",
              "9      10.299235"
            ]
          },
          "metadata": {
            "tags": []
          },
          "execution_count": 19
        }
      ]
    },
    {
      "cell_type": "markdown",
      "metadata": {
        "id": "QgbTJHWhr7np",
        "colab_type": "text"
      },
      "source": [
        "추가)표준편차가 1.5 이고, 평균 빈도수가 10이다.   \n",
        "이에따라 각 y_label이 10 +/- 1.5(8.5~11.5)내의 빈도수를 보인다고 판단이 가능하다."
      ]
    },
    {
      "cell_type": "code",
      "metadata": {
        "id": "7XK2eEcbpArv",
        "colab_type": "code",
        "colab": {
          "base_uri": "https://localhost:8080/",
          "height": 51
        },
        "outputId": "f91db76d-61df-4e8c-d95c-11c6f310d586"
      },
      "source": [
        "print(np.std(y_dis['frequency (%)']))\n",
        "print(np.mean(y_dis['frequency (%)']))"
      ],
      "execution_count": 20,
      "outputs": [
        {
          "output_type": "stream",
          "text": [
            "0.5114230765949374\n",
            "10.0\n"
          ],
          "name": "stdout"
        }
      ]
    },
    {
      "cell_type": "markdown",
      "metadata": {
        "id": "zJ3MEcmxw0lH",
        "colab_type": "text"
      },
      "source": [
        "#### 2. accuracy만 확인해보면, svm 이 가장 높다. 따라서 svm 이 해당 경우에는 가장 적합한 지표로 볼 수 있다"
      ]
    },
    {
      "cell_type": "code",
      "metadata": {
        "id": "e_EQKd3AqApw",
        "colab_type": "code",
        "colab": {
          "base_uri": "https://localhost:8080/",
          "height": 204
        },
        "outputId": "b655f0c1-04db-422e-a13e-83f609630b04"
      },
      "source": [
        "acc_list=[tree_acc, rand_acc, svm_acc, SGD_acc, log_acc]\n",
        "acc_list=[100*i for i in acc_list ] \n",
        "acc_title=['tree_acc', 'rand_acc', 'svm_acc', 'SGD_acc', 'log_acc']\n",
        "pd.DataFrame(acc_list, acc_title, columns=['accuracy']).sort_values('accuracy', ascending=False)"
      ],
      "execution_count": 21,
      "outputs": [
        {
          "output_type": "execute_result",
          "data": {
            "text/html": [
              "<div>\n",
              "<style scoped>\n",
              "    .dataframe tbody tr th:only-of-type {\n",
              "        vertical-align: middle;\n",
              "    }\n",
              "\n",
              "    .dataframe tbody tr th {\n",
              "        vertical-align: top;\n",
              "    }\n",
              "\n",
              "    .dataframe thead th {\n",
              "        text-align: right;\n",
              "    }\n",
              "</style>\n",
              "<table border=\"1\" class=\"dataframe\">\n",
              "  <thead>\n",
              "    <tr style=\"text-align: right;\">\n",
              "      <th></th>\n",
              "      <th>accuracy</th>\n",
              "    </tr>\n",
              "  </thead>\n",
              "  <tbody>\n",
              "    <tr>\n",
              "      <th>svm_acc</th>\n",
              "      <td>98.888889</td>\n",
              "    </tr>\n",
              "    <tr>\n",
              "      <th>rand_acc</th>\n",
              "      <td>96.388889</td>\n",
              "    </tr>\n",
              "    <tr>\n",
              "      <th>log_acc</th>\n",
              "      <td>95.277778</td>\n",
              "    </tr>\n",
              "    <tr>\n",
              "      <th>SGD_acc</th>\n",
              "      <td>93.888889</td>\n",
              "    </tr>\n",
              "    <tr>\n",
              "      <th>tree_acc</th>\n",
              "      <td>85.555556</td>\n",
              "    </tr>\n",
              "  </tbody>\n",
              "</table>\n",
              "</div>"
            ],
            "text/plain": [
              "           accuracy\n",
              "svm_acc   98.888889\n",
              "rand_acc  96.388889\n",
              "log_acc   95.277778\n",
              "SGD_acc   93.888889\n",
              "tree_acc  85.555556"
            ]
          },
          "metadata": {
            "tags": []
          },
          "execution_count": 21
        }
      ]
    },
    {
      "cell_type": "code",
      "metadata": {
        "id": "dEgHaVsNr9bd",
        "colab_type": "code",
        "colab": {}
      },
      "source": [
        ""
      ],
      "execution_count": 18,
      "outputs": []
    },
    {
      "cell_type": "code",
      "metadata": {
        "id": "2TZUirbfRPLo",
        "colab_type": "code",
        "colab": {}
      },
      "source": [
        ""
      ],
      "execution_count": 18,
      "outputs": []
    },
    {
      "cell_type": "code",
      "metadata": {
        "id": "ph0UYC2jRYkX",
        "colab_type": "code",
        "colab": {}
      },
      "source": [
        ""
      ],
      "execution_count": null,
      "outputs": []
    },
    {
      "cell_type": "code",
      "metadata": {
        "id": "6zdvPbJPS5Xm",
        "colab_type": "code",
        "colab": {}
      },
      "source": [
        ""
      ],
      "execution_count": null,
      "outputs": []
    }
  ]
}